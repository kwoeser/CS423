{
  "nbformat": 4,
  "nbformat_minor": 0,
  "metadata": {
    "kernelspec": {
      "display_name": "Python 3",
      "language": "python",
      "name": "python3"
    },
    "language_info": {
      "codemirror_mode": {
        "name": "ipython",
        "version": 3
      },
      "file_extension": ".py",
      "mimetype": "text/x-python",
      "name": "python",
      "nbconvert_exporter": "python",
      "pygments_lexer": "ipython3",
      "version": "3.7.3"
    },
    "colab": {
      "provenance": []
    }
  },
  "cells": [
    {
      "cell_type": "markdown",
      "source": [
        "#Preface\n",
        "\n",
        "I'll use this space for each chapter to note things that might have changed in the notebook since the video was recorded. The major change in this notebook (and the following chapters) is the introduction of complete code documentation and type hints on functions and methods.\n",
        "\n",
        "Mea culpa: I did not use to document my code nor place type hints. It was not worth it to me, given that Colab did nothing with it. And frankly, I think it makes the code harder to read. However, things have changed over the last several months in Colab: (1) they introduced Gemini, which can now parse doc strings (and by parse, I mean understand), and (2) they have built-in a type-checker that is pretty dang sophisticated. Together, these give you two benefits: (a) the auto-code generator has gotten quite powerful, and (2) debugging info using type hints is now available when it was not in the past.\n",
        "\n",
        "That said, I still hate writing the documentation. But another change mitigates that. I now write my code without any documentation and debug it. Then, when I am happy, I ask Gemini to fill in the doc strings and type hints. And in my view, it does a better job than I would.\n",
        "\n",
        "I am leaving how much to document up to you. I will not grade you down if you decide not to document. However, I think you would be wasting an opportunity if you did not enlist Gemini (or Claude or chatGPT) to fill out your code - it is painless and you reap benefits."
      ],
      "metadata": {
        "id": "6LHidNJWnOBh"
      }
    },
    {
      "cell_type": "markdown",
      "metadata": {
        "id": "bzDiYMkiYgRS"
      },
      "source": [
        "<center>\n",
        "<h1>Chapter One</h1>\n",
        "</center>\n",
        "\n",
        "<hr>\n",
        "\n",
        "## LEARNING OBJECTIVES:\n",
        "- Review of several semi-obscure Python constructs we will be using during course.\n",
        "- Introduction of Titanic dataset, which we will use throughout the course.\n",
        "- Simple plotting methods for data analysis.\n",
        "- First look at feature engineering using correlation analysis. A chance to dust-off your Python chops :)\n"
      ]
    },
    {
      "cell_type": "markdown",
      "metadata": {
        "id": "5Y1huouejzY5"
      },
      "source": [
        "#I. Software Engineering and Machine Learning\n",
        "<img src='https://www.dropbox.com/s/9fcc1crlxp19ijt/major_section.png?raw=1' width='300'>"
      ]
    },
    {
      "cell_type": "markdown",
      "metadata": {
        "id": "Eak7oBljJflj"
      },
      "source": [
        "##Let's set our goals\n",
        "\n",
        "Our goals will be to (1) build and explore machine learning algorithms and (2) take our results the last mile and put our hard work into a web-based production system.\n",
        "\n",
        "There are commerical tools that focus on this problem, e.g., [Streamlit](https://www.analyticsvidhya.com/blog/2021/06/streamlit-for-ml-web-applications-customers-propensity-to-purchase/) and [FastAI](https://towardsdatascience.com/detecting-deforestation-from-satellite-images-7aa6dfbd9f61), but they are limited. We will do things from the ground up to get exactly what we want. That's why we are in Computer Science :)\n"
      ]
    },
    {
      "cell_type": "markdown",
      "source": [
        "##We will get to most of this\n",
        "\n",
        "<img src='https://www.dropbox.com/s/7gpvkskejk5uzl5/Screen%20Shot%202021-12-26%20at%202.15.13%20PM.png?raw=1'>"
      ],
      "metadata": {
        "id": "EUKIR2Cu0z6Y"
      }
    },
    {
      "cell_type": "markdown",
      "metadata": {
        "id": "SESbYbE7A1IK"
      },
      "source": [
        "#Let me switch to a demo\n",
        "\n",
        "You will need to go to video here. I urge you to do this given it more visually presents the goals of the course."
      ]
    },
    {
      "cell_type": "markdown",
      "metadata": {
        "id": "SX72WL6kBLlI"
      },
      "source": [
        "\n",
        "##Prerequisites\n",
        "\n",
        "We will be programming in Python for the most part. However, much of the action will be with Python libraries. So the real skill needed is to be able to read (online) library documentation, make sense of it, and put it to use.\n",
        "\n",
        "A second skill is debugging using Gemini, or other coding assistants. At moment, Claude is my favorite but Gemini is build right into your notebook which makes is handy.\n",
        "\n",
        "We will be doing javascript programming in the latter part of the course. However, I'll keep it simple. While I encourage you to take my simple frontends and gussy them up with fancy frontend libraries you know, that is optional. It could look good on your resume but not required for the course.\n",
        "\n",
        "There will be no expectation that you have had the CS machine learning course. We will start from scratch."
      ]
    },
    {
      "cell_type": "markdown",
      "metadata": {
        "id": "Gl7J-ZPU-4xj"
      },
      "source": [
        "#II. The software engineering of model building\n",
        "\n",
        "A [recent article](https://www.oreilly.com/radar/mlops-and-devops-why-data-makes-it-different) notes that we need the idea of \"MLOps\":\n",
        "\n",
        "<quote>\n",
        "\"The DevOps movement in software engineering adopts well-defined processes, modern tooling, and automated workflows to streamline the process of moving from development to robust production deployments. Why can't we use MLOps to address struggles related to deploying machine learning in production too?\"\n",
        "</quote>\n",
        "\n",
        "Many of the steps of building and exploring machine learning models can be managed. We will look at the tools available to do this management.\n",
        "\n",
        "The end goal is to produce well-documented and easily-replicable machine learning pipelines that can be carried into production."
      ]
    },
    {
      "cell_type": "markdown",
      "metadata": {
        "id": "IiL8bbnhCT1p"
      },
      "source": [
        "## The software engineering bridge\n",
        "\n",
        "Somewhat unique to AI-based production systems, the bridge from model building and exploration to production system is under-studied. The vast majority of **publically** available work stops short of moving to production.\n",
        "\n",
        "In this class, we will consider what information we have to record during model building that allows us to build robust systems with real end-users. Some of this includes documentation of our exploration and building process. Some of it also includes meta-information that we glean during exploration.\n",
        "\n",
        "In summary, we will consider  what a user of an AI-based system needs to know. Can we just give them a prediction and call it a day? Hint: no. What further information can we provide? Can we explain our reasoning? Hint: yes."
      ]
    },
    {
      "cell_type": "markdown",
      "metadata": {
        "id": "bbAjbYBBb4Oq"
      },
      "source": [
        "#III. Where Are We?\n",
        "\n",
        "<left>\n",
        "<img src='https://www.centeredrecoveryprograms.com/wp-content/uploads/2017/12/you-are-here-map-pin-location-navigation-3-d-animation_s68bji6we_thumbnail-full08.png' height = 200>\n",
        "</left>\n",
        "\n",
        "I believe all of you have used jupyter notebooks in your courses. We will use it exclusivley in this course. Yes, I said exclusively. What??? How can you run a web server in a notebook? We will find out :)\n",
        "\n",
        "We will also be using Google Colab exclusively. Some of you may be less knowledgable about Colab. So let me give you the big picture.\n",
        "\n",
        "**Jupyter notebook** This is a web-based programming environment. A Jupyter notebook is not the same thing as Python.  One type of content is Python code, although you could use other programming languages in your Jupyter notebook. One of the great features of these notebooks is that you can share them with others. BTW: Jupyter was invented by 2 (non-cs) grad students in their spare time :)\n",
        "\n",
        "**Python runtime** This is often called the \"kernel\". The runtime is hooked into a Jupyter notebook.\n",
        "\n",
        "**Google colab** We will refer to this as a \"Colab Notebook.\" In some ways this is an alternative to a Docker image. It includes most of the libraries that we will need out of the box. And it is easy to install others. It gives us a CLI to the local linux OS. It gives us (temporary) local file store. And an easy way to extend that to the permanent file store of Google Drive.\n",
        "\n",
        "**Server farm** There is a good chance that your notebook and code are actually running in Google's server-farm in the Dalles, Oregon.\n",
        "Colab gives us access to CPUs and GPUs that run on that farm.\n",
        "<center><img src='https://lh3.googleusercontent.com/jazh9k5V944pGmE6ch-GMDzobLiz-z_y3yVXjC_O9NxIfkNNf4bFIg1hr1rfUiJ87dqVYZ2i4gr7bzYr6S-Q-oU6KCx1zIPj-X1_Bw=w800-l80-sg-rj-c0xffffff' height=200>\n",
        "</center>\n"
      ]
    },
    {
      "cell_type": "markdown",
      "metadata": {
        "id": "BFV785is2Ruk"
      },
      "source": [
        "So where are you at this very minute? You are working in a Jupyter notebook that is connected to a Python kernel, running on Google Colab housed in the cloud (possibly in the Beaver state). Nice!"
      ]
    },
    {
      "cell_type": "markdown",
      "metadata": {
        "id": "ukVljSkCjmg0"
      },
      "source": [
        "##How to turn in your notebook for grading\n",
        "\n",
        "I am going to conserve energy and reuse a video I produced for a more introductory course. I know you know most of this, so skip toward end if you want. It tells you how to get a link to turn in to Canvas for grading.\n",
        "\n",
        "[How to turn in homework.](https://uoregon.hosted.panopto.com/Panopto/Pages/Viewer.aspx?id=1e9a3050-5a56-4ce5-a14f-ac2b0171d607)\n",
        "\n",
        "\n",
        "\n"
      ]
    },
    {
      "cell_type": "markdown",
      "metadata": {
        "id": "i4ulUttLkLBY"
      },
      "source": [
        "<hr>\n",
        "<pre>\n",
        "\n",
        "\n",
        "</pre>\n",
        "#IV. Python review\n",
        "<img src='https://www.dropbox.com/s/9fcc1crlxp19ijt/major_section.png?raw=1' width='300'>\n",
        "\n",
        "I know you know Python. I just want to review a few ideas from Python that we will use heavily."
      ]
    },
    {
      "cell_type": "markdown",
      "source": [
        "## Type hints\n",
        "\n",
        "I know they can be a pain to document, but Gemini and Colab can make good use of them and save you debugging time. I'll introduce them gradually as we go along, but here are some things you should import."
      ],
      "metadata": {
        "id": "m378KMfV9Ku4"
      }
    },
    {
      "cell_type": "code",
      "source": [
        "import types\n",
        "from typing import Dict, Any, Optional, Union, List, Set, Hashable, Literal, Tuple, Self"
      ],
      "metadata": {
        "id": "ciNgWECe9f-r"
      },
      "execution_count": null,
      "outputs": []
    },
    {
      "cell_type": "markdown",
      "metadata": {
        "id": "eEDirsBnN7rw"
      },
      "source": [
        "## f strings\n",
        "\n",
        "---\n",
        "We can build strings from pieces of text and python values. Let me show you."
      ]
    },
    {
      "cell_type": "code",
      "metadata": {
        "id": "MLHXyn8N-kwW",
        "colab": {
          "base_uri": "https://localhost:8080/",
          "height": 35
        },
        "outputId": "0dac888d-de33-44ea-9ed8-cc8bf5be70c1"
      },
      "source": [
        "a_variable = 3\n",
        "f'The letter \"a\" appears {a_variable} times in this sentence.'"
      ],
      "execution_count": null,
      "outputs": [
        {
          "output_type": "execute_result",
          "data": {
            "text/plain": [
              "'The letter \"a\" appears 3 times in this sentence.'"
            ],
            "application/vnd.google.colaboratory.intrinsic+json": {
              "type": "string"
            }
          },
          "metadata": {},
          "execution_count": 275
        }
      ]
    },
    {
      "cell_type": "markdown",
      "metadata": {
        "id": "u8od5CmLOkRh"
      },
      "source": [
        "Without the f."
      ]
    },
    {
      "cell_type": "code",
      "metadata": {
        "id": "0uVhtbMnOoAf",
        "colab": {
          "base_uri": "https://localhost:8080/",
          "height": 35
        },
        "outputId": "106e7d92-9783-461d-91e7-b05f7fc6c6b2"
      },
      "source": [
        "'The letter \"a\" appears {a_variable} times in this sentence.'"
      ],
      "execution_count": null,
      "outputs": [
        {
          "output_type": "execute_result",
          "data": {
            "text/plain": [
              "'The letter \"a\" appears {a_variable} times in this sentence.'"
            ],
            "application/vnd.google.colaboratory.intrinsic+json": {
              "type": "string"
            }
          },
          "metadata": {},
          "execution_count": 276
        }
      ]
    },
    {
      "cell_type": "markdown",
      "source": [
        "###Other cool things you can do with f-strings\n",
        "\n",
        "https://medium.com/bitgrit-data-science-publication/python-f-strings-tricks-you-should-know-7ce094a25d43"
      ],
      "metadata": {
        "id": "0HufLykvB6sX"
      }
    },
    {
      "cell_type": "markdown",
      "metadata": {
        "id": "Nl9I5w4Z5alZ"
      },
      "source": [
        "## assert statements\n",
        "\n",
        "I'll use these for both checking my work and as a replacement for a full type-checking system for functions I define.\n",
        "\n",
        "As reminder of the syntax, check this out."
      ]
    },
    {
      "cell_type": "code",
      "metadata": {
        "id": "Vs8qRdXx5ttx",
        "colab": {
          "base_uri": "https://localhost:8080/",
          "height": 193
        },
        "outputId": "8a4a2bcf-2a7b-40e7-b173-46130d16228d"
      },
      "source": [
        "a_condition = []\n",
        "# b_condition = False\n",
        "assert a_condition, f'a_condition is {a_condition} instead of True'\n",
        "# assert b_condition, f'a_condition is {b_condition}'"
      ],
      "execution_count": null,
      "outputs": [
        {
          "output_type": "error",
          "ename": "AssertionError",
          "evalue": "a_condition is [] instead of True",
          "traceback": [
            "\u001b[0;31m---------------------------------------------------------------------------\u001b[0m",
            "\u001b[0;31mAssertionError\u001b[0m                            Traceback (most recent call last)",
            "\u001b[0;32m<ipython-input-282-2f35ab47607b>\u001b[0m in \u001b[0;36m<cell line: 0>\u001b[0;34m()\u001b[0m\n\u001b[1;32m      1\u001b[0m \u001b[0ma_condition\u001b[0m \u001b[0;34m=\u001b[0m \u001b[0;34m[\u001b[0m\u001b[0;34m]\u001b[0m\u001b[0;34m\u001b[0m\u001b[0;34m\u001b[0m\u001b[0m\n\u001b[1;32m      2\u001b[0m \u001b[0;31m# b_condition = False\u001b[0m\u001b[0;34m\u001b[0m\u001b[0;34m\u001b[0m\u001b[0m\n\u001b[0;32m----> 3\u001b[0;31m \u001b[0;32massert\u001b[0m \u001b[0ma_condition\u001b[0m\u001b[0;34m,\u001b[0m \u001b[0;34mf'a_condition is {a_condition} instead of True'\u001b[0m\u001b[0;34m\u001b[0m\u001b[0;34m\u001b[0m\u001b[0m\n\u001b[0m\u001b[1;32m      4\u001b[0m \u001b[0;31m# assert b_condition, f'a_condition is {b_condition}'\u001b[0m\u001b[0;34m\u001b[0m\u001b[0;34m\u001b[0m\u001b[0m\n",
            "\u001b[0;31mAssertionError\u001b[0m: a_condition is [] instead of True"
          ]
        }
      ]
    },
    {
      "cell_type": "markdown",
      "metadata": {
        "id": "zG_RKrEh6Xel"
      },
      "source": [
        "If the condition evaluates to True, the assert is silent."
      ]
    },
    {
      "cell_type": "markdown",
      "metadata": {
        "id": "yJ7HXNVb6gvI"
      },
      "source": [
        "## asserts as type checkers\n",
        "\n",
        "I tend to use assert in function bodies as a backup to Colabs type-checking system. It is good. But it uses hard to see red underscores that you sometimes can miss. So asserts are the enforcers.\n",
        "\n",
        "You have to be careful to ask your assert questions in general to specific order. You can see that in the example code below.\n",
        "\n",
        "1. Most generally, is `x` a list?\n",
        "2. Ok, is `x` non-empty?\n",
        "3. Ok, does `x` contain all inner lists?\n",
        "\n",
        "Note in the test cases below the red underscore line. This is Colab using the types hints I have provided to warn you of issues. Also note that it seems to miss `[] `as an arg. That is Colab's fault: the type hint would normally catch it."
      ]
    },
    {
      "cell_type": "code",
      "metadata": {
        "id": "bxtkGTWS6p-G"
      },
      "source": [
        "def first_in_list_of_lists(x: List[List[Any]]) -> List[Any]:\n",
        "  assert isinstance(x,list), f'expecting x to be list but is instead {type(x)}'\n",
        "  assert len(x)>0, f'expecting x to be non-empty'\n",
        "  assert all([isinstance(y, list) for y in x]), f'expecting x to be list of lists but is instead list of {type(x[0])}'\n",
        "\n",
        "  return x[0]"
      ],
      "execution_count": null,
      "outputs": []
    },
    {
      "cell_type": "code",
      "metadata": {
        "id": "hFmNEQ4c8H2a",
        "colab": {
          "base_uri": "https://localhost:8080/",
          "height": 263
        },
        "outputId": "907c65da-4127-4252-bf29-df5e86b68753"
      },
      "source": [
        "first_in_list_of_lists(34)  #should see red underscore as type warning"
      ],
      "execution_count": null,
      "outputs": [
        {
          "output_type": "error",
          "ename": "AssertionError",
          "evalue": "expecting x to be list but is instead <class 'int'>",
          "traceback": [
            "\u001b[0;31m---------------------------------------------------------------------------\u001b[0m",
            "\u001b[0;31mAssertionError\u001b[0m                            Traceback (most recent call last)",
            "\u001b[0;32m<ipython-input-286-4686d8827553>\u001b[0m in \u001b[0;36m<cell line: 0>\u001b[0;34m()\u001b[0m\n\u001b[0;32m----> 1\u001b[0;31m \u001b[0mfirst_in_list_of_lists\u001b[0m\u001b[0;34m(\u001b[0m\u001b[0;36m34\u001b[0m\u001b[0;34m)\u001b[0m  \u001b[0;31m#should see red underscore as type warning\u001b[0m\u001b[0;34m\u001b[0m\u001b[0;34m\u001b[0m\u001b[0m\n\u001b[0m",
            "\u001b[0;32m<ipython-input-283-94360bda14ae>\u001b[0m in \u001b[0;36mfirst_in_list_of_lists\u001b[0;34m(x)\u001b[0m\n\u001b[1;32m      1\u001b[0m \u001b[0;32mdef\u001b[0m \u001b[0mfirst_in_list_of_lists\u001b[0m\u001b[0;34m(\u001b[0m\u001b[0mx\u001b[0m\u001b[0;34m:\u001b[0m \u001b[0mList\u001b[0m\u001b[0;34m[\u001b[0m\u001b[0mList\u001b[0m\u001b[0;34m[\u001b[0m\u001b[0mAny\u001b[0m\u001b[0;34m]\u001b[0m\u001b[0;34m]\u001b[0m\u001b[0;34m)\u001b[0m \u001b[0;34m->\u001b[0m \u001b[0mList\u001b[0m\u001b[0;34m[\u001b[0m\u001b[0mAny\u001b[0m\u001b[0;34m]\u001b[0m\u001b[0;34m:\u001b[0m\u001b[0;34m\u001b[0m\u001b[0;34m\u001b[0m\u001b[0m\n\u001b[0;32m----> 2\u001b[0;31m   \u001b[0;32massert\u001b[0m \u001b[0misinstance\u001b[0m\u001b[0;34m(\u001b[0m\u001b[0mx\u001b[0m\u001b[0;34m,\u001b[0m\u001b[0mlist\u001b[0m\u001b[0;34m)\u001b[0m\u001b[0;34m,\u001b[0m \u001b[0;34mf'expecting x to be list but is instead {type(x)}'\u001b[0m\u001b[0;34m\u001b[0m\u001b[0;34m\u001b[0m\u001b[0m\n\u001b[0m\u001b[1;32m      3\u001b[0m   \u001b[0;32massert\u001b[0m \u001b[0mlen\u001b[0m\u001b[0;34m(\u001b[0m\u001b[0mx\u001b[0m\u001b[0;34m)\u001b[0m\u001b[0;34m>\u001b[0m\u001b[0;36m0\u001b[0m\u001b[0;34m,\u001b[0m \u001b[0;34mf'expecting x to be non-empty'\u001b[0m\u001b[0;34m\u001b[0m\u001b[0;34m\u001b[0m\u001b[0m\n\u001b[1;32m      4\u001b[0m   \u001b[0;32massert\u001b[0m \u001b[0mall\u001b[0m\u001b[0;34m(\u001b[0m\u001b[0;34m[\u001b[0m\u001b[0misinstance\u001b[0m\u001b[0;34m(\u001b[0m\u001b[0my\u001b[0m\u001b[0;34m,\u001b[0m \u001b[0mlist\u001b[0m\u001b[0;34m)\u001b[0m \u001b[0;32mfor\u001b[0m \u001b[0my\u001b[0m \u001b[0;32min\u001b[0m \u001b[0mx\u001b[0m\u001b[0;34m]\u001b[0m\u001b[0;34m)\u001b[0m\u001b[0;34m,\u001b[0m \u001b[0;34mf'expecting x to be list of lists but is instead list of {type(x[0])}'\u001b[0m\u001b[0;34m\u001b[0m\u001b[0;34m\u001b[0m\u001b[0m\n\u001b[1;32m      5\u001b[0m \u001b[0;34m\u001b[0m\u001b[0m\n",
            "\u001b[0;31mAssertionError\u001b[0m: expecting x to be list but is instead <class 'int'>"
          ]
        }
      ]
    },
    {
      "cell_type": "code",
      "metadata": {
        "id": "WSvOBSr98SKL",
        "colab": {
          "base_uri": "https://localhost:8080/",
          "height": 263
        },
        "outputId": "d05c859a-8958-4431-fced-e57ea86c2d57"
      },
      "source": [
        "first_in_list_of_lists([])  #no red underscore but there should be - type checker could still use some improvement"
      ],
      "execution_count": null,
      "outputs": [
        {
          "output_type": "error",
          "ename": "AssertionError",
          "evalue": "expecting x to be non-empty",
          "traceback": [
            "\u001b[0;31m---------------------------------------------------------------------------\u001b[0m",
            "\u001b[0;31mAssertionError\u001b[0m                            Traceback (most recent call last)",
            "\u001b[0;32m<ipython-input-287-e62542e9c76b>\u001b[0m in \u001b[0;36m<cell line: 0>\u001b[0;34m()\u001b[0m\n\u001b[0;32m----> 1\u001b[0;31m \u001b[0mfirst_in_list_of_lists\u001b[0m\u001b[0;34m(\u001b[0m\u001b[0;34m[\u001b[0m\u001b[0;34m]\u001b[0m\u001b[0;34m)\u001b[0m  \u001b[0;31m#no red underscore but there should be - type checker could still use some improvement\u001b[0m\u001b[0;34m\u001b[0m\u001b[0;34m\u001b[0m\u001b[0m\n\u001b[0m",
            "\u001b[0;32m<ipython-input-283-94360bda14ae>\u001b[0m in \u001b[0;36mfirst_in_list_of_lists\u001b[0;34m(x)\u001b[0m\n\u001b[1;32m      1\u001b[0m \u001b[0;32mdef\u001b[0m \u001b[0mfirst_in_list_of_lists\u001b[0m\u001b[0;34m(\u001b[0m\u001b[0mx\u001b[0m\u001b[0;34m:\u001b[0m \u001b[0mList\u001b[0m\u001b[0;34m[\u001b[0m\u001b[0mList\u001b[0m\u001b[0;34m[\u001b[0m\u001b[0mAny\u001b[0m\u001b[0;34m]\u001b[0m\u001b[0;34m]\u001b[0m\u001b[0;34m)\u001b[0m \u001b[0;34m->\u001b[0m \u001b[0mList\u001b[0m\u001b[0;34m[\u001b[0m\u001b[0mAny\u001b[0m\u001b[0;34m]\u001b[0m\u001b[0;34m:\u001b[0m\u001b[0;34m\u001b[0m\u001b[0;34m\u001b[0m\u001b[0m\n\u001b[1;32m      2\u001b[0m   \u001b[0;32massert\u001b[0m \u001b[0misinstance\u001b[0m\u001b[0;34m(\u001b[0m\u001b[0mx\u001b[0m\u001b[0;34m,\u001b[0m\u001b[0mlist\u001b[0m\u001b[0;34m)\u001b[0m\u001b[0;34m,\u001b[0m \u001b[0;34mf'expecting x to be list but is instead {type(x)}'\u001b[0m\u001b[0;34m\u001b[0m\u001b[0;34m\u001b[0m\u001b[0m\n\u001b[0;32m----> 3\u001b[0;31m   \u001b[0;32massert\u001b[0m \u001b[0mlen\u001b[0m\u001b[0;34m(\u001b[0m\u001b[0mx\u001b[0m\u001b[0;34m)\u001b[0m\u001b[0;34m>\u001b[0m\u001b[0;36m0\u001b[0m\u001b[0;34m,\u001b[0m \u001b[0;34mf'expecting x to be non-empty'\u001b[0m\u001b[0;34m\u001b[0m\u001b[0;34m\u001b[0m\u001b[0m\n\u001b[0m\u001b[1;32m      4\u001b[0m   \u001b[0;32massert\u001b[0m \u001b[0mall\u001b[0m\u001b[0;34m(\u001b[0m\u001b[0;34m[\u001b[0m\u001b[0misinstance\u001b[0m\u001b[0;34m(\u001b[0m\u001b[0my\u001b[0m\u001b[0;34m,\u001b[0m \u001b[0mlist\u001b[0m\u001b[0;34m)\u001b[0m \u001b[0;32mfor\u001b[0m \u001b[0my\u001b[0m \u001b[0;32min\u001b[0m \u001b[0mx\u001b[0m\u001b[0;34m]\u001b[0m\u001b[0;34m)\u001b[0m\u001b[0;34m,\u001b[0m \u001b[0;34mf'expecting x to be list of lists but is instead list of {type(x[0])}'\u001b[0m\u001b[0;34m\u001b[0m\u001b[0;34m\u001b[0m\u001b[0m\n\u001b[1;32m      5\u001b[0m \u001b[0;34m\u001b[0m\u001b[0m\n",
            "\u001b[0;31mAssertionError\u001b[0m: expecting x to be non-empty"
          ]
        }
      ]
    },
    {
      "cell_type": "code",
      "metadata": {
        "id": "oBAhKrv98X10",
        "colab": {
          "base_uri": "https://localhost:8080/",
          "height": 263
        },
        "outputId": "92e8050d-d4ce-489f-e53c-292bc51b3ae0"
      },
      "source": [
        "first_in_list_of_lists([1,2,3])  #should see red underscore"
      ],
      "execution_count": null,
      "outputs": [
        {
          "output_type": "error",
          "ename": "AssertionError",
          "evalue": "expecting x to be list of lists but is instead list of <class 'int'>",
          "traceback": [
            "\u001b[0;31m---------------------------------------------------------------------------\u001b[0m",
            "\u001b[0;31mAssertionError\u001b[0m                            Traceback (most recent call last)",
            "\u001b[0;32m<ipython-input-288-98ff825daa56>\u001b[0m in \u001b[0;36m<cell line: 0>\u001b[0;34m()\u001b[0m\n\u001b[0;32m----> 1\u001b[0;31m \u001b[0mfirst_in_list_of_lists\u001b[0m\u001b[0;34m(\u001b[0m\u001b[0;34m[\u001b[0m\u001b[0;36m1\u001b[0m\u001b[0;34m,\u001b[0m\u001b[0;36m2\u001b[0m\u001b[0;34m,\u001b[0m\u001b[0;36m3\u001b[0m\u001b[0;34m]\u001b[0m\u001b[0;34m)\u001b[0m  \u001b[0;31m#should see red underscore\u001b[0m\u001b[0;34m\u001b[0m\u001b[0;34m\u001b[0m\u001b[0m\n\u001b[0m",
            "\u001b[0;32m<ipython-input-283-94360bda14ae>\u001b[0m in \u001b[0;36mfirst_in_list_of_lists\u001b[0;34m(x)\u001b[0m\n\u001b[1;32m      2\u001b[0m   \u001b[0;32massert\u001b[0m \u001b[0misinstance\u001b[0m\u001b[0;34m(\u001b[0m\u001b[0mx\u001b[0m\u001b[0;34m,\u001b[0m\u001b[0mlist\u001b[0m\u001b[0;34m)\u001b[0m\u001b[0;34m,\u001b[0m \u001b[0;34mf'expecting x to be list but is instead {type(x)}'\u001b[0m\u001b[0;34m\u001b[0m\u001b[0;34m\u001b[0m\u001b[0m\n\u001b[1;32m      3\u001b[0m   \u001b[0;32massert\u001b[0m \u001b[0mlen\u001b[0m\u001b[0;34m(\u001b[0m\u001b[0mx\u001b[0m\u001b[0;34m)\u001b[0m\u001b[0;34m>\u001b[0m\u001b[0;36m0\u001b[0m\u001b[0;34m,\u001b[0m \u001b[0;34mf'expecting x to be non-empty'\u001b[0m\u001b[0;34m\u001b[0m\u001b[0;34m\u001b[0m\u001b[0m\n\u001b[0;32m----> 4\u001b[0;31m   \u001b[0;32massert\u001b[0m \u001b[0mall\u001b[0m\u001b[0;34m(\u001b[0m\u001b[0;34m[\u001b[0m\u001b[0misinstance\u001b[0m\u001b[0;34m(\u001b[0m\u001b[0my\u001b[0m\u001b[0;34m,\u001b[0m \u001b[0mlist\u001b[0m\u001b[0;34m)\u001b[0m \u001b[0;32mfor\u001b[0m \u001b[0my\u001b[0m \u001b[0;32min\u001b[0m \u001b[0mx\u001b[0m\u001b[0;34m]\u001b[0m\u001b[0;34m)\u001b[0m\u001b[0;34m,\u001b[0m \u001b[0;34mf'expecting x to be list of lists but is instead list of {type(x[0])}'\u001b[0m\u001b[0;34m\u001b[0m\u001b[0;34m\u001b[0m\u001b[0m\n\u001b[0m\u001b[1;32m      5\u001b[0m \u001b[0;34m\u001b[0m\u001b[0m\n\u001b[1;32m      6\u001b[0m   \u001b[0;32mreturn\u001b[0m \u001b[0mx\u001b[0m\u001b[0;34m[\u001b[0m\u001b[0;36m0\u001b[0m\u001b[0;34m]\u001b[0m\u001b[0;34m\u001b[0m\u001b[0;34m\u001b[0m\u001b[0m\n",
            "\u001b[0;31mAssertionError\u001b[0m: expecting x to be list of lists but is instead list of <class 'int'>"
          ]
        }
      ]
    },
    {
      "cell_type": "code",
      "metadata": {
        "id": "qwxPk74m8dnM",
        "colab": {
          "base_uri": "https://localhost:8080/"
        },
        "outputId": "5f9446a6-a215-4912-dfa4-7d0cfa09a398"
      },
      "source": [
        "first_in_list_of_lists([[1], [2]])"
      ],
      "execution_count": null,
      "outputs": [
        {
          "output_type": "execute_result",
          "data": {
            "text/plain": [
              "[1]"
            ]
          },
          "metadata": {},
          "execution_count": 289
        }
      ]
    },
    {
      "cell_type": "markdown",
      "metadata": {
        "id": "GTlC0H5E8rSO"
      },
      "source": [
        "##list comprehensions\n",
        "\n",
        "I much prefer these over for-loops. Sometimes you need a for-loop. But many times a list comprehension will suffice."
      ]
    },
    {
      "cell_type": "code",
      "metadata": {
        "id": "RuaKxhMi82jM",
        "colab": {
          "base_uri": "https://localhost:8080/"
        },
        "outputId": "fc0bb7fc-3c6d-4526-812b-04683cc8272f"
      },
      "source": [
        "[i for i in range(10)]"
      ],
      "execution_count": null,
      "outputs": [
        {
          "output_type": "execute_result",
          "data": {
            "text/plain": [
              "[0, 1, 2, 3, 4, 5, 6, 7, 8, 9]"
            ]
          },
          "metadata": {},
          "execution_count": 290
        }
      ]
    },
    {
      "cell_type": "code",
      "metadata": {
        "id": "mMcLBKm88_f3",
        "colab": {
          "base_uri": "https://localhost:8080/"
        },
        "outputId": "4efb45a0-968d-4f06-ee7f-c06a54219811"
      },
      "source": [
        "[i if i%2==0 else -1 for i in range(10)]"
      ],
      "execution_count": null,
      "outputs": [
        {
          "output_type": "execute_result",
          "data": {
            "text/plain": [
              "[0, -1, 2, -1, 4, -1, 6, -1, 8, -1]"
            ]
          },
          "metadata": {},
          "execution_count": 291
        }
      ]
    },
    {
      "cell_type": "code",
      "metadata": {
        "id": "DtKHHsww9pRL",
        "colab": {
          "base_uri": "https://localhost:8080/"
        },
        "outputId": "c89b3849-be6e-4cfc-f539-40695c3707dc"
      },
      "source": [
        "[i for i in range(10) if i%2==0]  #subtle - this one filters"
      ],
      "execution_count": null,
      "outputs": [
        {
          "output_type": "execute_result",
          "data": {
            "text/plain": [
              "[0, 2, 4, 6, 8]"
            ]
          },
          "metadata": {},
          "execution_count": 292
        }
      ]
    },
    {
      "cell_type": "code",
      "metadata": {
        "id": "vyU0RsZS9NuF",
        "colab": {
          "base_uri": "https://localhost:8080/"
        },
        "outputId": "e3ee87f7-08ad-4d81-8f97-2b1f5ee79a06"
      },
      "source": [
        "[a+b for a,b in zip([1,2,3], [4,5,6])]  # zip -> [(1,4), (2,5), (3,6)]"
      ],
      "execution_count": null,
      "outputs": [
        {
          "output_type": "execute_result",
          "data": {
            "text/plain": [
              "[5, 7, 9]"
            ]
          },
          "metadata": {},
          "execution_count": 293
        }
      ]
    },
    {
      "cell_type": "markdown",
      "metadata": {
        "id": "L_1ZVHiOUoF9"
      },
      "source": [
        "<img src='https://www.dropbox.com/s/8x575mvbi1xumje/cash_line.png?raw=1' height=3 width=500><br>\n",
        "<img src='https://www.gannett-cdn.com/-mm-/56cbeec8287997813f287995de67747ba5e101d5/c=9-0-1280-718/local/-/media/2018/02/15/Phoenix/Phoenix/636542954131413889-image.jpg' height=50>\n",
        "The Python string replace method is broken! Everyone is scrambling to fix it. But you step up to help out. You write a function `temp_replace` that does the same thing (mostly).\n",
        "\n",
        "I'll simplify and constrain `old` to be a single character."
      ]
    },
    {
      "cell_type": "code",
      "metadata": {
        "id": "22QduFMTAle6"
      },
      "source": [
        "def temp_replace(s: str, old: str, new: str) -> str:\n",
        "  \"\"\"Replaces all occurrences of `old` with `new` in string `s`.\n",
        "\n",
        "  This function is similar to the built-in `replace` method,\n",
        "  but it only supports replacing single characters.\n",
        "\n",
        "  Args:\n",
        "    s: The string to replace characters in.\n",
        "    old: The character to replace. Must be a single character.\n",
        "    new: The character to replace `old` with.\n",
        "\n",
        "  Returns:\n",
        "    A new string with all occurrences of `old` replaced with `new`.\n",
        "\n",
        "  Raises:\n",
        "    AssertionError: If `old` is not a single character, or if `s`,\n",
        "      `old`, or `new` are not strings.\n",
        "  \"\"\"\n",
        "  #asserts below\n",
        "  assert isinstance(s,str), f'expecting s to be str but is instead {type(s)}'\n",
        "  assert isinstance(old,str), f'expecting old to be str but is instead {type(old)}'\n",
        "  assert isinstance(new,str), f'expecting new to be str but is instead {type(new)}'\n",
        "  assert len(old)==1, f'expecting old to be single char but is len {len(old)}'\n",
        "\n",
        "  #body below - use list comprehension\n",
        "  result: List[str] = [new if i == old else i for i in s]\n",
        "  return ''.join(result)\n",
        "\n",
        "\n",
        "  \"\"\"for i in s:\n",
        "    if i == old:\n",
        "      result.append(new)\n",
        "    result.append(i)\n",
        "\n",
        "  return ''.join(result)\"\"\""
      ],
      "execution_count": null,
      "outputs": []
    },
    {
      "cell_type": "code",
      "metadata": {
        "id": "74XLHxJABCd2",
        "colab": {
          "base_uri": "https://localhost:8080/"
        },
        "outputId": "e8c67160-3268-4e80-8f31-2baa0a58ac93"
      },
      "source": [
        "#test your function\n",
        "test_string = 'abcde'\n",
        "(temp_replace(test_string, 'd', 'z'), temp_replace(test_string, 'A', '4'))  #('abcze', 'abcde')"
      ],
      "execution_count": null,
      "outputs": [
        {
          "output_type": "execute_result",
          "data": {
            "text/plain": [
              "('abcze', 'abcde')"
            ]
          },
          "metadata": {},
          "execution_count": 295
        }
      ]
    },
    {
      "cell_type": "markdown",
      "source": [
        "###One thing to notice\n",
        "\n",
        "I asked Gemini to fill out the function above with doc string and type hints. And note that it wrote the docstring by itself. How did it give such a precise description? Gemini can read text cells! So it read the specification I gave you in the quiz and used that to write the description. This is pretty dang powerful."
      ],
      "metadata": {
        "id": "Htq10sSNOwg-"
      }
    },
    {
      "cell_type": "markdown",
      "metadata": {
        "id": "DMOBLanJ-P8N"
      },
      "source": [
        "<hr>\n",
        "<pre>\n",
        "\n",
        "\n",
        "</pre>\n",
        "#V. The pandas library\n",
        "<img src='https://www.dropbox.com/s/9fcc1crlxp19ijt/major_section.png?raw=1' width='300'>\n",
        "\n",
        "pandas has lots of tools for exploring a tabular dataset. We will touch on a few of those tools before moving on."
      ]
    },
    {
      "cell_type": "code",
      "metadata": {
        "id": "h5hWakgj-4zn"
      },
      "source": [
        "import pandas as pd  #convention to use pd as nickname - follow it!"
      ],
      "execution_count": null,
      "outputs": []
    },
    {
      "cell_type": "markdown",
      "metadata": {
        "id": "b3xvrT36A0Bn"
      },
      "source": [
        "##url is way to go\n",
        "\n",
        "It may not always be possible, but if you can get a url for your data, pandas can use it for loading. Saves messing with file paths and reading in as file. Pretty slick.\n",
        "\n",
        "And good news. If you store your data on Dropbox or GitHub or Google Sheets, you can get a url that pandas can use. If your data is at some other location on the cloud or even on your computer, the easiest is to upload it to local Colab storage (see folder icon on left) and then read from there.\n",
        "\n",
        "Below, I am accessing data I have on my Google Drive (as a Google Sheet)."
      ]
    },
    {
      "cell_type": "code",
      "metadata": {
        "id": "ZKafFDa8-4zw"
      },
      "source": [
        "url = 'https://docs.google.com/spreadsheets/d/e/2PACX-1vQjIoC4LWfiuFmnix6TUAGSOPK29QMsn5Sb9DS73mNmMqikngNSG9ntmxHUO7ySZXTPpmoP8yAV0auz/pub?output=csv'  #plain old string I got from Google Sheets\n",
        "titanic_table = pd.read_csv(url)  #using pandas to read in an entire dataset - the coolest"
      ],
      "execution_count": null,
      "outputs": []
    },
    {
      "cell_type": "code",
      "metadata": {
        "id": "MhkNMAbhOrQs",
        "colab": {
          "base_uri": "https://localhost:8080/"
        },
        "outputId": "98828b10-7572-454c-9793-2b65dcd98b45"
      },
      "source": [
        "len(titanic_table)"
      ],
      "execution_count": null,
      "outputs": [
        {
          "output_type": "execute_result",
          "data": {
            "text/plain": [
              "2208"
            ]
          },
          "metadata": {},
          "execution_count": 298
        }
      ]
    },
    {
      "cell_type": "code",
      "metadata": {
        "id": "Z3r1rxC7VxCc",
        "colab": {
          "base_uri": "https://localhost:8080/",
          "height": 293
        },
        "outputId": "6fe09f84-909a-41a7-e02d-a6e8fa952d73"
      },
      "source": [
        "titanic_table.head()  #print first 5 rows of the table"
      ],
      "execution_count": null,
      "outputs": [
        {
          "output_type": "execute_result",
          "data": {
            "text/plain": [
              "                         Name   Age Gender Class       Joined  Married  \\\n",
              "0          ABBING, Mr Anthony  41.0   Male    C3  Southampton      0.0   \n",
              "1      ABBOTT, Mr Ernest Owen  21.0   Male  Crew  Southampton      0.0   \n",
              "2    ABBOTT, Mr Eugene Joseph  13.0   Male    C3  Southampton      NaN   \n",
              "3  ABBOTT, Mr Rossmore Edward  16.0   Male    C3  Southampton      0.0   \n",
              "4          ABELSON, Mr Samuel   NaN   Male    C2    Cherbourg      0.0   \n",
              "\n",
              "   Survived  Fare                                                Bio  \\\n",
              "0         0   7.0          anthony abbing was born in cincinnati,...   \n",
              "1         0   0.0          ernest owen abbott was born in southam...   \n",
              "2         0  20.0           \\tmaster eugene joseph abbott, 13,  w...   \n",
              "3         0   NaN          mr rossmore edward abbott, 16, of prov...   \n",
              "4         0  24.0          mr samuel abelson, 30, from russia, an...   \n",
              "\n",
              "              Occupation           Class/Dept Cabin Boat        Nationality  \\\n",
              "0             Blacksmith  3rd Class Passenger   NaN  NaN           American   \n",
              "1  Lounge Pantry Steward     Victualling Crew   NaN  NaN            English   \n",
              "2                Scholar  3rd Class Passenger   NaN  NaN           American   \n",
              "3               Jeweller  3rd Class Passenger   NaN  NaN  English, American   \n",
              "4                    NaN  2nd Class Passenger   NaN  NaN            Russian   \n",
              "\n",
              "                                                 URL  \n",
              "0  https://www.encyclopedia-titanica.org/titanic-...  \n",
              "1  https://www.encyclopedia-titanica.org/titanic-...  \n",
              "2  https://www.encyclopedia-titanica.org/titanic-...  \n",
              "3  https://www.encyclopedia-titanica.org/titanic-...  \n",
              "4  https://www.encyclopedia-titanica.org/titanic-...  "
            ],
            "text/html": [
              "\n",
              "  <div id=\"df-2f515432-ee49-4d91-b90d-513d414ee8f7\" class=\"colab-df-container\">\n",
              "    <div>\n",
              "<style scoped>\n",
              "    .dataframe tbody tr th:only-of-type {\n",
              "        vertical-align: middle;\n",
              "    }\n",
              "\n",
              "    .dataframe tbody tr th {\n",
              "        vertical-align: top;\n",
              "    }\n",
              "\n",
              "    .dataframe thead th {\n",
              "        text-align: right;\n",
              "    }\n",
              "</style>\n",
              "<table border=\"1\" class=\"dataframe\">\n",
              "  <thead>\n",
              "    <tr style=\"text-align: right;\">\n",
              "      <th></th>\n",
              "      <th>Name</th>\n",
              "      <th>Age</th>\n",
              "      <th>Gender</th>\n",
              "      <th>Class</th>\n",
              "      <th>Joined</th>\n",
              "      <th>Married</th>\n",
              "      <th>Survived</th>\n",
              "      <th>Fare</th>\n",
              "      <th>Bio</th>\n",
              "      <th>Occupation</th>\n",
              "      <th>Class/Dept</th>\n",
              "      <th>Cabin</th>\n",
              "      <th>Boat</th>\n",
              "      <th>Nationality</th>\n",
              "      <th>URL</th>\n",
              "    </tr>\n",
              "  </thead>\n",
              "  <tbody>\n",
              "    <tr>\n",
              "      <th>0</th>\n",
              "      <td>ABBING, Mr Anthony</td>\n",
              "      <td>41.0</td>\n",
              "      <td>Male</td>\n",
              "      <td>C3</td>\n",
              "      <td>Southampton</td>\n",
              "      <td>0.0</td>\n",
              "      <td>0</td>\n",
              "      <td>7.0</td>\n",
              "      <td>anthony abbing was born in cincinnati,...</td>\n",
              "      <td>Blacksmith</td>\n",
              "      <td>3rd Class Passenger</td>\n",
              "      <td>NaN</td>\n",
              "      <td>NaN</td>\n",
              "      <td>American</td>\n",
              "      <td>https://www.encyclopedia-titanica.org/titanic-...</td>\n",
              "    </tr>\n",
              "    <tr>\n",
              "      <th>1</th>\n",
              "      <td>ABBOTT, Mr Ernest Owen</td>\n",
              "      <td>21.0</td>\n",
              "      <td>Male</td>\n",
              "      <td>Crew</td>\n",
              "      <td>Southampton</td>\n",
              "      <td>0.0</td>\n",
              "      <td>0</td>\n",
              "      <td>0.0</td>\n",
              "      <td>ernest owen abbott was born in southam...</td>\n",
              "      <td>Lounge Pantry Steward</td>\n",
              "      <td>Victualling Crew</td>\n",
              "      <td>NaN</td>\n",
              "      <td>NaN</td>\n",
              "      <td>English</td>\n",
              "      <td>https://www.encyclopedia-titanica.org/titanic-...</td>\n",
              "    </tr>\n",
              "    <tr>\n",
              "      <th>2</th>\n",
              "      <td>ABBOTT, Mr Eugene Joseph</td>\n",
              "      <td>13.0</td>\n",
              "      <td>Male</td>\n",
              "      <td>C3</td>\n",
              "      <td>Southampton</td>\n",
              "      <td>NaN</td>\n",
              "      <td>0</td>\n",
              "      <td>20.0</td>\n",
              "      <td>\\tmaster eugene joseph abbott, 13,  w...</td>\n",
              "      <td>Scholar</td>\n",
              "      <td>3rd Class Passenger</td>\n",
              "      <td>NaN</td>\n",
              "      <td>NaN</td>\n",
              "      <td>American</td>\n",
              "      <td>https://www.encyclopedia-titanica.org/titanic-...</td>\n",
              "    </tr>\n",
              "    <tr>\n",
              "      <th>3</th>\n",
              "      <td>ABBOTT, Mr Rossmore Edward</td>\n",
              "      <td>16.0</td>\n",
              "      <td>Male</td>\n",
              "      <td>C3</td>\n",
              "      <td>Southampton</td>\n",
              "      <td>0.0</td>\n",
              "      <td>0</td>\n",
              "      <td>NaN</td>\n",
              "      <td>mr rossmore edward abbott, 16, of prov...</td>\n",
              "      <td>Jeweller</td>\n",
              "      <td>3rd Class Passenger</td>\n",
              "      <td>NaN</td>\n",
              "      <td>NaN</td>\n",
              "      <td>English, American</td>\n",
              "      <td>https://www.encyclopedia-titanica.org/titanic-...</td>\n",
              "    </tr>\n",
              "    <tr>\n",
              "      <th>4</th>\n",
              "      <td>ABELSON, Mr Samuel</td>\n",
              "      <td>NaN</td>\n",
              "      <td>Male</td>\n",
              "      <td>C2</td>\n",
              "      <td>Cherbourg</td>\n",
              "      <td>0.0</td>\n",
              "      <td>0</td>\n",
              "      <td>24.0</td>\n",
              "      <td>mr samuel abelson, 30, from russia, an...</td>\n",
              "      <td>NaN</td>\n",
              "      <td>2nd Class Passenger</td>\n",
              "      <td>NaN</td>\n",
              "      <td>NaN</td>\n",
              "      <td>Russian</td>\n",
              "      <td>https://www.encyclopedia-titanica.org/titanic-...</td>\n",
              "    </tr>\n",
              "  </tbody>\n",
              "</table>\n",
              "</div>\n",
              "    <div class=\"colab-df-buttons\">\n",
              "\n",
              "  <div class=\"colab-df-container\">\n",
              "    <button class=\"colab-df-convert\" onclick=\"convertToInteractive('df-2f515432-ee49-4d91-b90d-513d414ee8f7')\"\n",
              "            title=\"Convert this dataframe to an interactive table.\"\n",
              "            style=\"display:none;\">\n",
              "\n",
              "  <svg xmlns=\"http://www.w3.org/2000/svg\" height=\"24px\" viewBox=\"0 -960 960 960\">\n",
              "    <path d=\"M120-120v-720h720v720H120Zm60-500h600v-160H180v160Zm220 220h160v-160H400v160Zm0 220h160v-160H400v160ZM180-400h160v-160H180v160Zm440 0h160v-160H620v160ZM180-180h160v-160H180v160Zm440 0h160v-160H620v160Z\"/>\n",
              "  </svg>\n",
              "    </button>\n",
              "\n",
              "  <style>\n",
              "    .colab-df-container {\n",
              "      display:flex;\n",
              "      gap: 12px;\n",
              "    }\n",
              "\n",
              "    .colab-df-convert {\n",
              "      background-color: #E8F0FE;\n",
              "      border: none;\n",
              "      border-radius: 50%;\n",
              "      cursor: pointer;\n",
              "      display: none;\n",
              "      fill: #1967D2;\n",
              "      height: 32px;\n",
              "      padding: 0 0 0 0;\n",
              "      width: 32px;\n",
              "    }\n",
              "\n",
              "    .colab-df-convert:hover {\n",
              "      background-color: #E2EBFA;\n",
              "      box-shadow: 0px 1px 2px rgba(60, 64, 67, 0.3), 0px 1px 3px 1px rgba(60, 64, 67, 0.15);\n",
              "      fill: #174EA6;\n",
              "    }\n",
              "\n",
              "    .colab-df-buttons div {\n",
              "      margin-bottom: 4px;\n",
              "    }\n",
              "\n",
              "    [theme=dark] .colab-df-convert {\n",
              "      background-color: #3B4455;\n",
              "      fill: #D2E3FC;\n",
              "    }\n",
              "\n",
              "    [theme=dark] .colab-df-convert:hover {\n",
              "      background-color: #434B5C;\n",
              "      box-shadow: 0px 1px 3px 1px rgba(0, 0, 0, 0.15);\n",
              "      filter: drop-shadow(0px 1px 2px rgba(0, 0, 0, 0.3));\n",
              "      fill: #FFFFFF;\n",
              "    }\n",
              "  </style>\n",
              "\n",
              "    <script>\n",
              "      const buttonEl =\n",
              "        document.querySelector('#df-2f515432-ee49-4d91-b90d-513d414ee8f7 button.colab-df-convert');\n",
              "      buttonEl.style.display =\n",
              "        google.colab.kernel.accessAllowed ? 'block' : 'none';\n",
              "\n",
              "      async function convertToInteractive(key) {\n",
              "        const element = document.querySelector('#df-2f515432-ee49-4d91-b90d-513d414ee8f7');\n",
              "        const dataTable =\n",
              "          await google.colab.kernel.invokeFunction('convertToInteractive',\n",
              "                                                    [key], {});\n",
              "        if (!dataTable) return;\n",
              "\n",
              "        const docLinkHtml = 'Like what you see? Visit the ' +\n",
              "          '<a target=\"_blank\" href=https://colab.research.google.com/notebooks/data_table.ipynb>data table notebook</a>'\n",
              "          + ' to learn more about interactive tables.';\n",
              "        element.innerHTML = '';\n",
              "        dataTable['output_type'] = 'display_data';\n",
              "        await google.colab.output.renderOutput(dataTable, element);\n",
              "        const docLink = document.createElement('div');\n",
              "        docLink.innerHTML = docLinkHtml;\n",
              "        element.appendChild(docLink);\n",
              "      }\n",
              "    </script>\n",
              "  </div>\n",
              "\n",
              "\n",
              "<div id=\"df-068f3ce4-bb33-433c-a50f-c712e391345d\">\n",
              "  <button class=\"colab-df-quickchart\" onclick=\"quickchart('df-068f3ce4-bb33-433c-a50f-c712e391345d')\"\n",
              "            title=\"Suggest charts\"\n",
              "            style=\"display:none;\">\n",
              "\n",
              "<svg xmlns=\"http://www.w3.org/2000/svg\" height=\"24px\"viewBox=\"0 0 24 24\"\n",
              "     width=\"24px\">\n",
              "    <g>\n",
              "        <path d=\"M19 3H5c-1.1 0-2 .9-2 2v14c0 1.1.9 2 2 2h14c1.1 0 2-.9 2-2V5c0-1.1-.9-2-2-2zM9 17H7v-7h2v7zm4 0h-2V7h2v10zm4 0h-2v-4h2v4z\"/>\n",
              "    </g>\n",
              "</svg>\n",
              "  </button>\n",
              "\n",
              "<style>\n",
              "  .colab-df-quickchart {\n",
              "      --bg-color: #E8F0FE;\n",
              "      --fill-color: #1967D2;\n",
              "      --hover-bg-color: #E2EBFA;\n",
              "      --hover-fill-color: #174EA6;\n",
              "      --disabled-fill-color: #AAA;\n",
              "      --disabled-bg-color: #DDD;\n",
              "  }\n",
              "\n",
              "  [theme=dark] .colab-df-quickchart {\n",
              "      --bg-color: #3B4455;\n",
              "      --fill-color: #D2E3FC;\n",
              "      --hover-bg-color: #434B5C;\n",
              "      --hover-fill-color: #FFFFFF;\n",
              "      --disabled-bg-color: #3B4455;\n",
              "      --disabled-fill-color: #666;\n",
              "  }\n",
              "\n",
              "  .colab-df-quickchart {\n",
              "    background-color: var(--bg-color);\n",
              "    border: none;\n",
              "    border-radius: 50%;\n",
              "    cursor: pointer;\n",
              "    display: none;\n",
              "    fill: var(--fill-color);\n",
              "    height: 32px;\n",
              "    padding: 0;\n",
              "    width: 32px;\n",
              "  }\n",
              "\n",
              "  .colab-df-quickchart:hover {\n",
              "    background-color: var(--hover-bg-color);\n",
              "    box-shadow: 0 1px 2px rgba(60, 64, 67, 0.3), 0 1px 3px 1px rgba(60, 64, 67, 0.15);\n",
              "    fill: var(--button-hover-fill-color);\n",
              "  }\n",
              "\n",
              "  .colab-df-quickchart-complete:disabled,\n",
              "  .colab-df-quickchart-complete:disabled:hover {\n",
              "    background-color: var(--disabled-bg-color);\n",
              "    fill: var(--disabled-fill-color);\n",
              "    box-shadow: none;\n",
              "  }\n",
              "\n",
              "  .colab-df-spinner {\n",
              "    border: 2px solid var(--fill-color);\n",
              "    border-color: transparent;\n",
              "    border-bottom-color: var(--fill-color);\n",
              "    animation:\n",
              "      spin 1s steps(1) infinite;\n",
              "  }\n",
              "\n",
              "  @keyframes spin {\n",
              "    0% {\n",
              "      border-color: transparent;\n",
              "      border-bottom-color: var(--fill-color);\n",
              "      border-left-color: var(--fill-color);\n",
              "    }\n",
              "    20% {\n",
              "      border-color: transparent;\n",
              "      border-left-color: var(--fill-color);\n",
              "      border-top-color: var(--fill-color);\n",
              "    }\n",
              "    30% {\n",
              "      border-color: transparent;\n",
              "      border-left-color: var(--fill-color);\n",
              "      border-top-color: var(--fill-color);\n",
              "      border-right-color: var(--fill-color);\n",
              "    }\n",
              "    40% {\n",
              "      border-color: transparent;\n",
              "      border-right-color: var(--fill-color);\n",
              "      border-top-color: var(--fill-color);\n",
              "    }\n",
              "    60% {\n",
              "      border-color: transparent;\n",
              "      border-right-color: var(--fill-color);\n",
              "    }\n",
              "    80% {\n",
              "      border-color: transparent;\n",
              "      border-right-color: var(--fill-color);\n",
              "      border-bottom-color: var(--fill-color);\n",
              "    }\n",
              "    90% {\n",
              "      border-color: transparent;\n",
              "      border-bottom-color: var(--fill-color);\n",
              "    }\n",
              "  }\n",
              "</style>\n",
              "\n",
              "  <script>\n",
              "    async function quickchart(key) {\n",
              "      const quickchartButtonEl =\n",
              "        document.querySelector('#' + key + ' button');\n",
              "      quickchartButtonEl.disabled = true;  // To prevent multiple clicks.\n",
              "      quickchartButtonEl.classList.add('colab-df-spinner');\n",
              "      try {\n",
              "        const charts = await google.colab.kernel.invokeFunction(\n",
              "            'suggestCharts', [key], {});\n",
              "      } catch (error) {\n",
              "        console.error('Error during call to suggestCharts:', error);\n",
              "      }\n",
              "      quickchartButtonEl.classList.remove('colab-df-spinner');\n",
              "      quickchartButtonEl.classList.add('colab-df-quickchart-complete');\n",
              "    }\n",
              "    (() => {\n",
              "      let quickchartButtonEl =\n",
              "        document.querySelector('#df-068f3ce4-bb33-433c-a50f-c712e391345d button');\n",
              "      quickchartButtonEl.style.display =\n",
              "        google.colab.kernel.accessAllowed ? 'block' : 'none';\n",
              "    })();\n",
              "  </script>\n",
              "</div>\n",
              "\n",
              "    </div>\n",
              "  </div>\n"
            ],
            "application/vnd.google.colaboratory.intrinsic+json": {
              "type": "dataframe",
              "variable_name": "titanic_table",
              "summary": "{\n  \"name\": \"titanic_table\",\n  \"rows\": 2208,\n  \"fields\": [\n    {\n      \"column\": \"Name\",\n      \"properties\": {\n        \"dtype\": \"string\",\n        \"num_unique_values\": 2201,\n        \"samples\": [\n          \"LEWY, Mr Ervin G.\",\n          \"HESLIN, Mr James\",\n          \"HALFORD, Mr Richard\"\n        ],\n        \"semantic_type\": \"\",\n        \"description\": \"\"\n      }\n    },\n    {\n      \"column\": \"Age\",\n      \"properties\": {\n        \"dtype\": \"number\",\n        \"std\": 12.286679161843121,\n        \"min\": 1.0,\n        \"max\": 74.0,\n        \"num_unique_values\": 71,\n        \"samples\": [\n          4.0,\n          41.0,\n          60.0\n        ],\n        \"semantic_type\": \"\",\n        \"description\": \"\"\n      }\n    },\n    {\n      \"column\": \"Gender\",\n      \"properties\": {\n        \"dtype\": \"category\",\n        \"num_unique_values\": 2,\n        \"samples\": [\n          \"Female\",\n          \"Male\"\n        ],\n        \"semantic_type\": \"\",\n        \"description\": \"\"\n      }\n    },\n    {\n      \"column\": \"Class\",\n      \"properties\": {\n        \"dtype\": \"category\",\n        \"num_unique_values\": 4,\n        \"samples\": [\n          \"Crew\",\n          \"C1\"\n        ],\n        \"semantic_type\": \"\",\n        \"description\": \"\"\n      }\n    },\n    {\n      \"column\": \"Joined\",\n      \"properties\": {\n        \"dtype\": \"category\",\n        \"num_unique_values\": 4,\n        \"samples\": [\n          \"Cherbourg\",\n          \"Queenstown\"\n        ],\n        \"semantic_type\": \"\",\n        \"description\": \"\"\n      }\n    },\n    {\n      \"column\": \"Married\",\n      \"properties\": {\n        \"dtype\": \"number\",\n        \"std\": 0.47701351081944793,\n        \"min\": 0.0,\n        \"max\": 1.0,\n        \"num_unique_values\": 2,\n        \"samples\": [\n          1.0,\n          0.0\n        ],\n        \"semantic_type\": \"\",\n        \"description\": \"\"\n      }\n    },\n    {\n      \"column\": \"Survived\",\n      \"properties\": {\n        \"dtype\": \"number\",\n        \"std\": 0,\n        \"min\": 0,\n        \"max\": 1,\n        \"num_unique_values\": 2,\n        \"samples\": [\n          1,\n          0\n        ],\n        \"semantic_type\": \"\",\n        \"description\": \"\"\n      }\n    },\n    {\n      \"column\": \"Fare\",\n      \"properties\": {\n        \"dtype\": \"number\",\n        \"std\": 43.09022947221104,\n        \"min\": 0.0,\n        \"max\": 512.0,\n        \"num_unique_values\": 96,\n        \"samples\": [\n          19.0,\n          110.0\n        ],\n        \"semantic_type\": \"\",\n        \"description\": \"\"\n      }\n    },\n    {\n      \"column\": \"Bio\",\n      \"properties\": {\n        \"dtype\": \"string\",\n        \"num_unique_values\": 2145,\n        \"samples\": [\n          \"        mr janko vovk, 22, an unmarried labourer from jesenice, slovenia, boarded the titanic at southampton as a third class passenger .  to reach his destination of st. joseph, minnesota, he bought his ticket from the agent: viktor klaus-wildi, buchs for 430 swiss francs (ticket number 349252, \\u00a37 17s 11d). \",\n          \"         mara osman 1 was born in\\u00a0vagovina, croatia (austrian empire), on\\u00a017 march 1881.\\u00a0\\u00a0her parents were mijo and maria osman of that village.  she bought her third class ticket from the agent viktor klaus-wildi, buchs for 299 swiss francs (ticket number 349244 which cost \\u00a38, 13s, 8d) and boarded the titanic in southampton.  mara survived the sinking and was rescued by the\\u00a0carpathia, but in which boat is uncertain  after arriving in new york, she supposedly went to her 'sister' mrs rudolph pavlovi\\u0107 in steelton, pennsylvania.2  it is possible that maria was acquainted with fellow third class passenger stefo pavlovic, also from\\u00a0vagovina and also travelling to the harrisburg/ steelton area of pennsylvania.\\u00a0 perhaps mrs pavlovic was a relation by marriage to him? \"\n        ],\n        \"semantic_type\": \"\",\n        \"description\": \"\"\n      }\n    },\n    {\n      \"column\": \"Occupation\",\n      \"properties\": {\n        \"dtype\": \"category\",\n        \"num_unique_values\": 384,\n        \"samples\": [\n          \"Captain's Steward (Tiger)\",\n          \"Police Officer\"\n        ],\n        \"semantic_type\": \"\",\n        \"description\": \"\"\n      }\n    },\n    {\n      \"column\": \"Class/Dept\",\n      \"properties\": {\n        \"dtype\": \"category\",\n        \"num_unique_values\": 16,\n        \"samples\": [\n          \"3rd Class Passenger\",\n          \"Victualling Crew\"\n        ],\n        \"semantic_type\": \"\",\n        \"description\": \"\"\n      }\n    },\n    {\n      \"column\": \"Cabin\",\n      \"properties\": {\n        \"dtype\": \"category\",\n        \"num_unique_values\": 193,\n        \"samples\": [\n          \"C132 ?\",\n          \"C92\"\n        ],\n        \"semantic_type\": \"\",\n        \"description\": \"\"\n      }\n    },\n    {\n      \"column\": \"Boat\",\n      \"properties\": {\n        \"dtype\": \"category\",\n        \"num_unique_values\": 20,\n        \"samples\": [\n          \"A\",\n          \"7\"\n        ],\n        \"semantic_type\": \"\",\n        \"description\": \"\"\n      }\n    },\n    {\n      \"column\": \"Nationality\",\n      \"properties\": {\n        \"dtype\": \"category\",\n        \"num_unique_values\": 98,\n        \"samples\": [\n          \"Finnish,American\",\n          \"English, Italian\"\n        ],\n        \"semantic_type\": \"\",\n        \"description\": \"\"\n      }\n    },\n    {\n      \"column\": \"URL\",\n      \"properties\": {\n        \"dtype\": \"string\",\n        \"num_unique_values\": 2208,\n        \"samples\": [\n          \"https://www.encyclopedia-titanica.org/titanic-survivor/suzette-ryerson.html\",\n          \"https://www.encyclopedia-titanica.org/titanic-victim/james-ransom.html\"\n        ],\n        \"semantic_type\": \"\",\n        \"description\": \"\"\n      }\n    }\n  ]\n}"
            }
          },
          "metadata": {},
          "execution_count": 299
        }
      ]
    },
    {
      "cell_type": "code",
      "metadata": {
        "id": "9MUOA71eQ448",
        "colab": {
          "base_uri": "https://localhost:8080/",
          "height": 520
        },
        "outputId": "92a20590-b407-409d-9732-608ef5d9558e"
      },
      "source": [
        "titanic_table.describe(include='all').T  #Transpose table to make more readable"
      ],
      "execution_count": null,
      "outputs": [
        {
          "output_type": "execute_result",
          "data": {
            "text/plain": [
              "              count unique                                                top  \\\n",
              "Name           2208   2201                                    KELLY, Mr James   \n",
              "Age          2198.0    NaN                                                NaN   \n",
              "Gender         2208      2                                               Male   \n",
              "Class          2207      4                                               Crew   \n",
              "Joined         2208      4                                        Southampton   \n",
              "Married      2207.0    NaN                                                NaN   \n",
              "Survived     2208.0    NaN                                                NaN   \n",
              "Fare         2206.0    NaN                                                NaN   \n",
              "Bio            2145   2145           mr mubārik sulaymān abī āsī ḥannā (ha...   \n",
              "Occupation     1602    384                                            Fireman   \n",
              "Class/Dept     2208     16                                3rd Class Passenger   \n",
              "Cabin           308    193                                                  E   \n",
              "Boat            625     20                                                 15   \n",
              "Nationality    2205     98                                            English   \n",
              "URL            2208   2208  https://www.encyclopedia-titanica.org/titanic-...   \n",
              "\n",
              "             freq       mean        std  min   25%   50%   75%    max  \n",
              "Name            3        NaN        NaN  NaN   NaN   NaN   NaN    NaN  \n",
              "Age           NaN  30.452684  12.286679  1.0  22.0  29.0  38.0   74.0  \n",
              "Gender       1719        NaN        NaN  NaN   NaN   NaN   NaN    NaN  \n",
              "Class         950        NaN        NaN  NaN   NaN   NaN   NaN    NaN  \n",
              "Joined       1614        NaN        NaN  NaN   NaN   NaN   NaN    NaN  \n",
              "Married       NaN   0.349796   0.477014  0.0   0.0   0.0   1.0    1.0  \n",
              "Survived      NaN   0.322464   0.467525  0.0   0.0   0.0   1.0    1.0  \n",
              "Fare          NaN  19.483581  43.090229  0.0   0.0   7.0  20.0  512.0  \n",
              "Bio             1        NaN        NaN  NaN   NaN   NaN   NaN    NaN  \n",
              "Occupation    161        NaN        NaN  NaN   NaN   NaN   NaN    NaN  \n",
              "Class/Dept    709        NaN        NaN  NaN   NaN   NaN   NaN    NaN  \n",
              "Cabin           8        NaN        NaN  NaN   NaN   NaN   NaN    NaN  \n",
              "Boat           56        NaN        NaN  NaN   NaN   NaN   NaN    NaN  \n",
              "Nationality   999        NaN        NaN  NaN   NaN   NaN   NaN    NaN  \n",
              "URL             1        NaN        NaN  NaN   NaN   NaN   NaN    NaN  "
            ],
            "text/html": [
              "\n",
              "  <div id=\"df-22c53d59-0055-402d-80e0-9091123fe267\" class=\"colab-df-container\">\n",
              "    <div>\n",
              "<style scoped>\n",
              "    .dataframe tbody tr th:only-of-type {\n",
              "        vertical-align: middle;\n",
              "    }\n",
              "\n",
              "    .dataframe tbody tr th {\n",
              "        vertical-align: top;\n",
              "    }\n",
              "\n",
              "    .dataframe thead th {\n",
              "        text-align: right;\n",
              "    }\n",
              "</style>\n",
              "<table border=\"1\" class=\"dataframe\">\n",
              "  <thead>\n",
              "    <tr style=\"text-align: right;\">\n",
              "      <th></th>\n",
              "      <th>count</th>\n",
              "      <th>unique</th>\n",
              "      <th>top</th>\n",
              "      <th>freq</th>\n",
              "      <th>mean</th>\n",
              "      <th>std</th>\n",
              "      <th>min</th>\n",
              "      <th>25%</th>\n",
              "      <th>50%</th>\n",
              "      <th>75%</th>\n",
              "      <th>max</th>\n",
              "    </tr>\n",
              "  </thead>\n",
              "  <tbody>\n",
              "    <tr>\n",
              "      <th>Name</th>\n",
              "      <td>2208</td>\n",
              "      <td>2201</td>\n",
              "      <td>KELLY, Mr James</td>\n",
              "      <td>3</td>\n",
              "      <td>NaN</td>\n",
              "      <td>NaN</td>\n",
              "      <td>NaN</td>\n",
              "      <td>NaN</td>\n",
              "      <td>NaN</td>\n",
              "      <td>NaN</td>\n",
              "      <td>NaN</td>\n",
              "    </tr>\n",
              "    <tr>\n",
              "      <th>Age</th>\n",
              "      <td>2198.0</td>\n",
              "      <td>NaN</td>\n",
              "      <td>NaN</td>\n",
              "      <td>NaN</td>\n",
              "      <td>30.452684</td>\n",
              "      <td>12.286679</td>\n",
              "      <td>1.0</td>\n",
              "      <td>22.0</td>\n",
              "      <td>29.0</td>\n",
              "      <td>38.0</td>\n",
              "      <td>74.0</td>\n",
              "    </tr>\n",
              "    <tr>\n",
              "      <th>Gender</th>\n",
              "      <td>2208</td>\n",
              "      <td>2</td>\n",
              "      <td>Male</td>\n",
              "      <td>1719</td>\n",
              "      <td>NaN</td>\n",
              "      <td>NaN</td>\n",
              "      <td>NaN</td>\n",
              "      <td>NaN</td>\n",
              "      <td>NaN</td>\n",
              "      <td>NaN</td>\n",
              "      <td>NaN</td>\n",
              "    </tr>\n",
              "    <tr>\n",
              "      <th>Class</th>\n",
              "      <td>2207</td>\n",
              "      <td>4</td>\n",
              "      <td>Crew</td>\n",
              "      <td>950</td>\n",
              "      <td>NaN</td>\n",
              "      <td>NaN</td>\n",
              "      <td>NaN</td>\n",
              "      <td>NaN</td>\n",
              "      <td>NaN</td>\n",
              "      <td>NaN</td>\n",
              "      <td>NaN</td>\n",
              "    </tr>\n",
              "    <tr>\n",
              "      <th>Joined</th>\n",
              "      <td>2208</td>\n",
              "      <td>4</td>\n",
              "      <td>Southampton</td>\n",
              "      <td>1614</td>\n",
              "      <td>NaN</td>\n",
              "      <td>NaN</td>\n",
              "      <td>NaN</td>\n",
              "      <td>NaN</td>\n",
              "      <td>NaN</td>\n",
              "      <td>NaN</td>\n",
              "      <td>NaN</td>\n",
              "    </tr>\n",
              "    <tr>\n",
              "      <th>Married</th>\n",
              "      <td>2207.0</td>\n",
              "      <td>NaN</td>\n",
              "      <td>NaN</td>\n",
              "      <td>NaN</td>\n",
              "      <td>0.349796</td>\n",
              "      <td>0.477014</td>\n",
              "      <td>0.0</td>\n",
              "      <td>0.0</td>\n",
              "      <td>0.0</td>\n",
              "      <td>1.0</td>\n",
              "      <td>1.0</td>\n",
              "    </tr>\n",
              "    <tr>\n",
              "      <th>Survived</th>\n",
              "      <td>2208.0</td>\n",
              "      <td>NaN</td>\n",
              "      <td>NaN</td>\n",
              "      <td>NaN</td>\n",
              "      <td>0.322464</td>\n",
              "      <td>0.467525</td>\n",
              "      <td>0.0</td>\n",
              "      <td>0.0</td>\n",
              "      <td>0.0</td>\n",
              "      <td>1.0</td>\n",
              "      <td>1.0</td>\n",
              "    </tr>\n",
              "    <tr>\n",
              "      <th>Fare</th>\n",
              "      <td>2206.0</td>\n",
              "      <td>NaN</td>\n",
              "      <td>NaN</td>\n",
              "      <td>NaN</td>\n",
              "      <td>19.483581</td>\n",
              "      <td>43.090229</td>\n",
              "      <td>0.0</td>\n",
              "      <td>0.0</td>\n",
              "      <td>7.0</td>\n",
              "      <td>20.0</td>\n",
              "      <td>512.0</td>\n",
              "    </tr>\n",
              "    <tr>\n",
              "      <th>Bio</th>\n",
              "      <td>2145</td>\n",
              "      <td>2145</td>\n",
              "      <td>mr mubārik sulaymān abī āsī ḥannā (ha...</td>\n",
              "      <td>1</td>\n",
              "      <td>NaN</td>\n",
              "      <td>NaN</td>\n",
              "      <td>NaN</td>\n",
              "      <td>NaN</td>\n",
              "      <td>NaN</td>\n",
              "      <td>NaN</td>\n",
              "      <td>NaN</td>\n",
              "    </tr>\n",
              "    <tr>\n",
              "      <th>Occupation</th>\n",
              "      <td>1602</td>\n",
              "      <td>384</td>\n",
              "      <td>Fireman</td>\n",
              "      <td>161</td>\n",
              "      <td>NaN</td>\n",
              "      <td>NaN</td>\n",
              "      <td>NaN</td>\n",
              "      <td>NaN</td>\n",
              "      <td>NaN</td>\n",
              "      <td>NaN</td>\n",
              "      <td>NaN</td>\n",
              "    </tr>\n",
              "    <tr>\n",
              "      <th>Class/Dept</th>\n",
              "      <td>2208</td>\n",
              "      <td>16</td>\n",
              "      <td>3rd Class Passenger</td>\n",
              "      <td>709</td>\n",
              "      <td>NaN</td>\n",
              "      <td>NaN</td>\n",
              "      <td>NaN</td>\n",
              "      <td>NaN</td>\n",
              "      <td>NaN</td>\n",
              "      <td>NaN</td>\n",
              "      <td>NaN</td>\n",
              "    </tr>\n",
              "    <tr>\n",
              "      <th>Cabin</th>\n",
              "      <td>308</td>\n",
              "      <td>193</td>\n",
              "      <td>E</td>\n",
              "      <td>8</td>\n",
              "      <td>NaN</td>\n",
              "      <td>NaN</td>\n",
              "      <td>NaN</td>\n",
              "      <td>NaN</td>\n",
              "      <td>NaN</td>\n",
              "      <td>NaN</td>\n",
              "      <td>NaN</td>\n",
              "    </tr>\n",
              "    <tr>\n",
              "      <th>Boat</th>\n",
              "      <td>625</td>\n",
              "      <td>20</td>\n",
              "      <td>15</td>\n",
              "      <td>56</td>\n",
              "      <td>NaN</td>\n",
              "      <td>NaN</td>\n",
              "      <td>NaN</td>\n",
              "      <td>NaN</td>\n",
              "      <td>NaN</td>\n",
              "      <td>NaN</td>\n",
              "      <td>NaN</td>\n",
              "    </tr>\n",
              "    <tr>\n",
              "      <th>Nationality</th>\n",
              "      <td>2205</td>\n",
              "      <td>98</td>\n",
              "      <td>English</td>\n",
              "      <td>999</td>\n",
              "      <td>NaN</td>\n",
              "      <td>NaN</td>\n",
              "      <td>NaN</td>\n",
              "      <td>NaN</td>\n",
              "      <td>NaN</td>\n",
              "      <td>NaN</td>\n",
              "      <td>NaN</td>\n",
              "    </tr>\n",
              "    <tr>\n",
              "      <th>URL</th>\n",
              "      <td>2208</td>\n",
              "      <td>2208</td>\n",
              "      <td>https://www.encyclopedia-titanica.org/titanic-...</td>\n",
              "      <td>1</td>\n",
              "      <td>NaN</td>\n",
              "      <td>NaN</td>\n",
              "      <td>NaN</td>\n",
              "      <td>NaN</td>\n",
              "      <td>NaN</td>\n",
              "      <td>NaN</td>\n",
              "      <td>NaN</td>\n",
              "    </tr>\n",
              "  </tbody>\n",
              "</table>\n",
              "</div>\n",
              "    <div class=\"colab-df-buttons\">\n",
              "\n",
              "  <div class=\"colab-df-container\">\n",
              "    <button class=\"colab-df-convert\" onclick=\"convertToInteractive('df-22c53d59-0055-402d-80e0-9091123fe267')\"\n",
              "            title=\"Convert this dataframe to an interactive table.\"\n",
              "            style=\"display:none;\">\n",
              "\n",
              "  <svg xmlns=\"http://www.w3.org/2000/svg\" height=\"24px\" viewBox=\"0 -960 960 960\">\n",
              "    <path d=\"M120-120v-720h720v720H120Zm60-500h600v-160H180v160Zm220 220h160v-160H400v160Zm0 220h160v-160H400v160ZM180-400h160v-160H180v160Zm440 0h160v-160H620v160ZM180-180h160v-160H180v160Zm440 0h160v-160H620v160Z\"/>\n",
              "  </svg>\n",
              "    </button>\n",
              "\n",
              "  <style>\n",
              "    .colab-df-container {\n",
              "      display:flex;\n",
              "      gap: 12px;\n",
              "    }\n",
              "\n",
              "    .colab-df-convert {\n",
              "      background-color: #E8F0FE;\n",
              "      border: none;\n",
              "      border-radius: 50%;\n",
              "      cursor: pointer;\n",
              "      display: none;\n",
              "      fill: #1967D2;\n",
              "      height: 32px;\n",
              "      padding: 0 0 0 0;\n",
              "      width: 32px;\n",
              "    }\n",
              "\n",
              "    .colab-df-convert:hover {\n",
              "      background-color: #E2EBFA;\n",
              "      box-shadow: 0px 1px 2px rgba(60, 64, 67, 0.3), 0px 1px 3px 1px rgba(60, 64, 67, 0.15);\n",
              "      fill: #174EA6;\n",
              "    }\n",
              "\n",
              "    .colab-df-buttons div {\n",
              "      margin-bottom: 4px;\n",
              "    }\n",
              "\n",
              "    [theme=dark] .colab-df-convert {\n",
              "      background-color: #3B4455;\n",
              "      fill: #D2E3FC;\n",
              "    }\n",
              "\n",
              "    [theme=dark] .colab-df-convert:hover {\n",
              "      background-color: #434B5C;\n",
              "      box-shadow: 0px 1px 3px 1px rgba(0, 0, 0, 0.15);\n",
              "      filter: drop-shadow(0px 1px 2px rgba(0, 0, 0, 0.3));\n",
              "      fill: #FFFFFF;\n",
              "    }\n",
              "  </style>\n",
              "\n",
              "    <script>\n",
              "      const buttonEl =\n",
              "        document.querySelector('#df-22c53d59-0055-402d-80e0-9091123fe267 button.colab-df-convert');\n",
              "      buttonEl.style.display =\n",
              "        google.colab.kernel.accessAllowed ? 'block' : 'none';\n",
              "\n",
              "      async function convertToInteractive(key) {\n",
              "        const element = document.querySelector('#df-22c53d59-0055-402d-80e0-9091123fe267');\n",
              "        const dataTable =\n",
              "          await google.colab.kernel.invokeFunction('convertToInteractive',\n",
              "                                                    [key], {});\n",
              "        if (!dataTable) return;\n",
              "\n",
              "        const docLinkHtml = 'Like what you see? Visit the ' +\n",
              "          '<a target=\"_blank\" href=https://colab.research.google.com/notebooks/data_table.ipynb>data table notebook</a>'\n",
              "          + ' to learn more about interactive tables.';\n",
              "        element.innerHTML = '';\n",
              "        dataTable['output_type'] = 'display_data';\n",
              "        await google.colab.output.renderOutput(dataTable, element);\n",
              "        const docLink = document.createElement('div');\n",
              "        docLink.innerHTML = docLinkHtml;\n",
              "        element.appendChild(docLink);\n",
              "      }\n",
              "    </script>\n",
              "  </div>\n",
              "\n",
              "\n",
              "<div id=\"df-8ea61131-7449-4145-b53f-f2f7fc7d1fc8\">\n",
              "  <button class=\"colab-df-quickchart\" onclick=\"quickchart('df-8ea61131-7449-4145-b53f-f2f7fc7d1fc8')\"\n",
              "            title=\"Suggest charts\"\n",
              "            style=\"display:none;\">\n",
              "\n",
              "<svg xmlns=\"http://www.w3.org/2000/svg\" height=\"24px\"viewBox=\"0 0 24 24\"\n",
              "     width=\"24px\">\n",
              "    <g>\n",
              "        <path d=\"M19 3H5c-1.1 0-2 .9-2 2v14c0 1.1.9 2 2 2h14c1.1 0 2-.9 2-2V5c0-1.1-.9-2-2-2zM9 17H7v-7h2v7zm4 0h-2V7h2v10zm4 0h-2v-4h2v4z\"/>\n",
              "    </g>\n",
              "</svg>\n",
              "  </button>\n",
              "\n",
              "<style>\n",
              "  .colab-df-quickchart {\n",
              "      --bg-color: #E8F0FE;\n",
              "      --fill-color: #1967D2;\n",
              "      --hover-bg-color: #E2EBFA;\n",
              "      --hover-fill-color: #174EA6;\n",
              "      --disabled-fill-color: #AAA;\n",
              "      --disabled-bg-color: #DDD;\n",
              "  }\n",
              "\n",
              "  [theme=dark] .colab-df-quickchart {\n",
              "      --bg-color: #3B4455;\n",
              "      --fill-color: #D2E3FC;\n",
              "      --hover-bg-color: #434B5C;\n",
              "      --hover-fill-color: #FFFFFF;\n",
              "      --disabled-bg-color: #3B4455;\n",
              "      --disabled-fill-color: #666;\n",
              "  }\n",
              "\n",
              "  .colab-df-quickchart {\n",
              "    background-color: var(--bg-color);\n",
              "    border: none;\n",
              "    border-radius: 50%;\n",
              "    cursor: pointer;\n",
              "    display: none;\n",
              "    fill: var(--fill-color);\n",
              "    height: 32px;\n",
              "    padding: 0;\n",
              "    width: 32px;\n",
              "  }\n",
              "\n",
              "  .colab-df-quickchart:hover {\n",
              "    background-color: var(--hover-bg-color);\n",
              "    box-shadow: 0 1px 2px rgba(60, 64, 67, 0.3), 0 1px 3px 1px rgba(60, 64, 67, 0.15);\n",
              "    fill: var(--button-hover-fill-color);\n",
              "  }\n",
              "\n",
              "  .colab-df-quickchart-complete:disabled,\n",
              "  .colab-df-quickchart-complete:disabled:hover {\n",
              "    background-color: var(--disabled-bg-color);\n",
              "    fill: var(--disabled-fill-color);\n",
              "    box-shadow: none;\n",
              "  }\n",
              "\n",
              "  .colab-df-spinner {\n",
              "    border: 2px solid var(--fill-color);\n",
              "    border-color: transparent;\n",
              "    border-bottom-color: var(--fill-color);\n",
              "    animation:\n",
              "      spin 1s steps(1) infinite;\n",
              "  }\n",
              "\n",
              "  @keyframes spin {\n",
              "    0% {\n",
              "      border-color: transparent;\n",
              "      border-bottom-color: var(--fill-color);\n",
              "      border-left-color: var(--fill-color);\n",
              "    }\n",
              "    20% {\n",
              "      border-color: transparent;\n",
              "      border-left-color: var(--fill-color);\n",
              "      border-top-color: var(--fill-color);\n",
              "    }\n",
              "    30% {\n",
              "      border-color: transparent;\n",
              "      border-left-color: var(--fill-color);\n",
              "      border-top-color: var(--fill-color);\n",
              "      border-right-color: var(--fill-color);\n",
              "    }\n",
              "    40% {\n",
              "      border-color: transparent;\n",
              "      border-right-color: var(--fill-color);\n",
              "      border-top-color: var(--fill-color);\n",
              "    }\n",
              "    60% {\n",
              "      border-color: transparent;\n",
              "      border-right-color: var(--fill-color);\n",
              "    }\n",
              "    80% {\n",
              "      border-color: transparent;\n",
              "      border-right-color: var(--fill-color);\n",
              "      border-bottom-color: var(--fill-color);\n",
              "    }\n",
              "    90% {\n",
              "      border-color: transparent;\n",
              "      border-bottom-color: var(--fill-color);\n",
              "    }\n",
              "  }\n",
              "</style>\n",
              "\n",
              "  <script>\n",
              "    async function quickchart(key) {\n",
              "      const quickchartButtonEl =\n",
              "        document.querySelector('#' + key + ' button');\n",
              "      quickchartButtonEl.disabled = true;  // To prevent multiple clicks.\n",
              "      quickchartButtonEl.classList.add('colab-df-spinner');\n",
              "      try {\n",
              "        const charts = await google.colab.kernel.invokeFunction(\n",
              "            'suggestCharts', [key], {});\n",
              "      } catch (error) {\n",
              "        console.error('Error during call to suggestCharts:', error);\n",
              "      }\n",
              "      quickchartButtonEl.classList.remove('colab-df-spinner');\n",
              "      quickchartButtonEl.classList.add('colab-df-quickchart-complete');\n",
              "    }\n",
              "    (() => {\n",
              "      let quickchartButtonEl =\n",
              "        document.querySelector('#df-8ea61131-7449-4145-b53f-f2f7fc7d1fc8 button');\n",
              "      quickchartButtonEl.style.display =\n",
              "        google.colab.kernel.accessAllowed ? 'block' : 'none';\n",
              "    })();\n",
              "  </script>\n",
              "</div>\n",
              "\n",
              "    </div>\n",
              "  </div>\n"
            ],
            "application/vnd.google.colaboratory.intrinsic+json": {
              "type": "dataframe",
              "summary": "{\n  \"name\": \"titanic_table\",\n  \"rows\": 15,\n  \"fields\": [\n    {\n      \"column\": \"count\",\n      \"properties\": {\n        \"dtype\": \"date\",\n        \"min\": \"308\",\n        \"max\": \"2208\",\n        \"num_unique_values\": 9,\n        \"samples\": [\n          \"625\",\n          2198.0,\n          \"1602\"\n        ],\n        \"semantic_type\": \"\",\n        \"description\": \"\"\n      }\n    },\n    {\n      \"column\": \"unique\",\n      \"properties\": {\n        \"dtype\": \"date\",\n        \"min\": 2,\n        \"max\": 2208,\n        \"num_unique_values\": 10,\n        \"samples\": [\n          98,\n          2,\n          16\n        ],\n        \"semantic_type\": \"\",\n        \"description\": \"\"\n      }\n    },\n    {\n      \"column\": \"top\",\n      \"properties\": {\n        \"dtype\": \"string\",\n        \"num_unique_values\": 11,\n        \"samples\": [\n          \"Fireman\",\n          \"KELLY, Mr James\",\n          \"English\"\n        ],\n        \"semantic_type\": \"\",\n        \"description\": \"\"\n      }\n    },\n    {\n      \"column\": \"freq\",\n      \"properties\": {\n        \"dtype\": \"date\",\n        \"min\": \"1\",\n        \"max\": \"1719\",\n        \"num_unique_values\": 10,\n        \"samples\": [\n          \"56\",\n          \"1719\",\n          \"161\"\n        ],\n        \"semantic_type\": \"\",\n        \"description\": \"\"\n      }\n    },\n    {\n      \"column\": \"mean\",\n      \"properties\": {\n        \"dtype\": \"date\",\n        \"min\": 0.322463768115942,\n        \"max\": 30.452684258416742,\n        \"num_unique_values\": 4,\n        \"samples\": [\n          0.3497961033076575,\n          19.483581142339073,\n          30.452684258416742\n        ],\n        \"semantic_type\": \"\",\n        \"description\": \"\"\n      }\n    },\n    {\n      \"column\": \"std\",\n      \"properties\": {\n        \"dtype\": \"date\",\n        \"min\": 0.4675252729849767,\n        \"max\": 43.09022947221104,\n        \"num_unique_values\": 4,\n        \"samples\": [\n          0.47701351081944793,\n          43.09022947221104,\n          12.286679161843121\n        ],\n        \"semantic_type\": \"\",\n        \"description\": \"\"\n      }\n    },\n    {\n      \"column\": \"min\",\n      \"properties\": {\n        \"dtype\": \"date\",\n        \"min\": 0.0,\n        \"max\": 1.0,\n        \"num_unique_values\": 2,\n        \"samples\": [\n          0.0,\n          1.0\n        ],\n        \"semantic_type\": \"\",\n        \"description\": \"\"\n      }\n    },\n    {\n      \"column\": \"25%\",\n      \"properties\": {\n        \"dtype\": \"date\",\n        \"min\": 0.0,\n        \"max\": 22.0,\n        \"num_unique_values\": 2,\n        \"samples\": [\n          0.0,\n          22.0\n        ],\n        \"semantic_type\": \"\",\n        \"description\": \"\"\n      }\n    },\n    {\n      \"column\": \"50%\",\n      \"properties\": {\n        \"dtype\": \"date\",\n        \"min\": 0.0,\n        \"max\": 29.0,\n        \"num_unique_values\": 3,\n        \"samples\": [\n          29.0,\n          0.0\n        ],\n        \"semantic_type\": \"\",\n        \"description\": \"\"\n      }\n    },\n    {\n      \"column\": \"75%\",\n      \"properties\": {\n        \"dtype\": \"date\",\n        \"min\": 1.0,\n        \"max\": 38.0,\n        \"num_unique_values\": 3,\n        \"samples\": [\n          38.0,\n          1.0\n        ],\n        \"semantic_type\": \"\",\n        \"description\": \"\"\n      }\n    },\n    {\n      \"column\": \"max\",\n      \"properties\": {\n        \"dtype\": \"date\",\n        \"min\": 1.0,\n        \"max\": 512.0,\n        \"num_unique_values\": 3,\n        \"samples\": [\n          74.0,\n          1.0\n        ],\n        \"semantic_type\": \"\",\n        \"description\": \"\"\n      }\n    }\n  ]\n}"
            }
          },
          "metadata": {},
          "execution_count": 300
        }
      ]
    },
    {
      "cell_type": "markdown",
      "metadata": {
        "id": "iS6L0WnOEgeb"
      },
      "source": [
        "##Titanic is our jam\n",
        "\n",
        "I admit the dataset is a bit academic in the sense of who cares what happened over 100 years ago. But it has a mixture of data that will force us to use a range of data engineering tools. And these tools will come in handy on new, important and timely datasets.\n",
        "\n",
        "So it is a good place to practice getting our tools in order."
      ]
    },
    {
      "cell_type": "markdown",
      "metadata": {
        "id": "wK-5EKsfF49w"
      },
      "source": [
        "###Drop some columns\n",
        "\n",
        "Before we move on, let's focus on a subset of columns. I'll go into more detail on this in the next chapter. For now, I'll just drop some columns to simplify."
      ]
    },
    {
      "cell_type": "code",
      "metadata": {
        "id": "47uCJMHqGQdA",
        "colab": {
          "base_uri": "https://localhost:8080/"
        },
        "outputId": "76b9e89b-8d95-4628-ce4e-467ce8be86c8"
      },
      "source": [
        "print(titanic_table.columns)  #full set of columns"
      ],
      "execution_count": null,
      "outputs": [
        {
          "output_type": "stream",
          "name": "stdout",
          "text": [
            "Index(['Name', 'Age', 'Gender', 'Class', 'Joined', 'Married', 'Survived',\n",
            "       'Fare', 'Bio', 'Occupation', 'Class/Dept', 'Cabin', 'Boat',\n",
            "       'Nationality', 'URL'],\n",
            "      dtype='object')\n"
          ]
        }
      ]
    },
    {
      "cell_type": "code",
      "metadata": {
        "id": "OvRnvfroGJMy",
        "colab": {
          "base_uri": "https://localhost:8080/",
          "height": 206
        },
        "outputId": "df84a11a-db6e-4312-afe6-8191005ca717"
      },
      "source": [
        "titanic_table = titanic_table.drop(columns=['Bio', 'Occupation', 'Class/Dept', 'Cabin', 'Boat', 'Nationality', 'URL'])\n",
        "titanic_table.head()"
      ],
      "execution_count": null,
      "outputs": [
        {
          "output_type": "execute_result",
          "data": {
            "text/plain": [
              "                         Name   Age Gender Class       Joined  Married  \\\n",
              "0          ABBING, Mr Anthony  41.0   Male    C3  Southampton      0.0   \n",
              "1      ABBOTT, Mr Ernest Owen  21.0   Male  Crew  Southampton      0.0   \n",
              "2    ABBOTT, Mr Eugene Joseph  13.0   Male    C3  Southampton      NaN   \n",
              "3  ABBOTT, Mr Rossmore Edward  16.0   Male    C3  Southampton      0.0   \n",
              "4          ABELSON, Mr Samuel   NaN   Male    C2    Cherbourg      0.0   \n",
              "\n",
              "   Survived  Fare  \n",
              "0         0   7.0  \n",
              "1         0   0.0  \n",
              "2         0  20.0  \n",
              "3         0   NaN  \n",
              "4         0  24.0  "
            ],
            "text/html": [
              "\n",
              "  <div id=\"df-e8930d2c-163d-4109-a360-cb2e30cbe60e\" class=\"colab-df-container\">\n",
              "    <div>\n",
              "<style scoped>\n",
              "    .dataframe tbody tr th:only-of-type {\n",
              "        vertical-align: middle;\n",
              "    }\n",
              "\n",
              "    .dataframe tbody tr th {\n",
              "        vertical-align: top;\n",
              "    }\n",
              "\n",
              "    .dataframe thead th {\n",
              "        text-align: right;\n",
              "    }\n",
              "</style>\n",
              "<table border=\"1\" class=\"dataframe\">\n",
              "  <thead>\n",
              "    <tr style=\"text-align: right;\">\n",
              "      <th></th>\n",
              "      <th>Name</th>\n",
              "      <th>Age</th>\n",
              "      <th>Gender</th>\n",
              "      <th>Class</th>\n",
              "      <th>Joined</th>\n",
              "      <th>Married</th>\n",
              "      <th>Survived</th>\n",
              "      <th>Fare</th>\n",
              "    </tr>\n",
              "  </thead>\n",
              "  <tbody>\n",
              "    <tr>\n",
              "      <th>0</th>\n",
              "      <td>ABBING, Mr Anthony</td>\n",
              "      <td>41.0</td>\n",
              "      <td>Male</td>\n",
              "      <td>C3</td>\n",
              "      <td>Southampton</td>\n",
              "      <td>0.0</td>\n",
              "      <td>0</td>\n",
              "      <td>7.0</td>\n",
              "    </tr>\n",
              "    <tr>\n",
              "      <th>1</th>\n",
              "      <td>ABBOTT, Mr Ernest Owen</td>\n",
              "      <td>21.0</td>\n",
              "      <td>Male</td>\n",
              "      <td>Crew</td>\n",
              "      <td>Southampton</td>\n",
              "      <td>0.0</td>\n",
              "      <td>0</td>\n",
              "      <td>0.0</td>\n",
              "    </tr>\n",
              "    <tr>\n",
              "      <th>2</th>\n",
              "      <td>ABBOTT, Mr Eugene Joseph</td>\n",
              "      <td>13.0</td>\n",
              "      <td>Male</td>\n",
              "      <td>C3</td>\n",
              "      <td>Southampton</td>\n",
              "      <td>NaN</td>\n",
              "      <td>0</td>\n",
              "      <td>20.0</td>\n",
              "    </tr>\n",
              "    <tr>\n",
              "      <th>3</th>\n",
              "      <td>ABBOTT, Mr Rossmore Edward</td>\n",
              "      <td>16.0</td>\n",
              "      <td>Male</td>\n",
              "      <td>C3</td>\n",
              "      <td>Southampton</td>\n",
              "      <td>0.0</td>\n",
              "      <td>0</td>\n",
              "      <td>NaN</td>\n",
              "    </tr>\n",
              "    <tr>\n",
              "      <th>4</th>\n",
              "      <td>ABELSON, Mr Samuel</td>\n",
              "      <td>NaN</td>\n",
              "      <td>Male</td>\n",
              "      <td>C2</td>\n",
              "      <td>Cherbourg</td>\n",
              "      <td>0.0</td>\n",
              "      <td>0</td>\n",
              "      <td>24.0</td>\n",
              "    </tr>\n",
              "  </tbody>\n",
              "</table>\n",
              "</div>\n",
              "    <div class=\"colab-df-buttons\">\n",
              "\n",
              "  <div class=\"colab-df-container\">\n",
              "    <button class=\"colab-df-convert\" onclick=\"convertToInteractive('df-e8930d2c-163d-4109-a360-cb2e30cbe60e')\"\n",
              "            title=\"Convert this dataframe to an interactive table.\"\n",
              "            style=\"display:none;\">\n",
              "\n",
              "  <svg xmlns=\"http://www.w3.org/2000/svg\" height=\"24px\" viewBox=\"0 -960 960 960\">\n",
              "    <path d=\"M120-120v-720h720v720H120Zm60-500h600v-160H180v160Zm220 220h160v-160H400v160Zm0 220h160v-160H400v160ZM180-400h160v-160H180v160Zm440 0h160v-160H620v160ZM180-180h160v-160H180v160Zm440 0h160v-160H620v160Z\"/>\n",
              "  </svg>\n",
              "    </button>\n",
              "\n",
              "  <style>\n",
              "    .colab-df-container {\n",
              "      display:flex;\n",
              "      gap: 12px;\n",
              "    }\n",
              "\n",
              "    .colab-df-convert {\n",
              "      background-color: #E8F0FE;\n",
              "      border: none;\n",
              "      border-radius: 50%;\n",
              "      cursor: pointer;\n",
              "      display: none;\n",
              "      fill: #1967D2;\n",
              "      height: 32px;\n",
              "      padding: 0 0 0 0;\n",
              "      width: 32px;\n",
              "    }\n",
              "\n",
              "    .colab-df-convert:hover {\n",
              "      background-color: #E2EBFA;\n",
              "      box-shadow: 0px 1px 2px rgba(60, 64, 67, 0.3), 0px 1px 3px 1px rgba(60, 64, 67, 0.15);\n",
              "      fill: #174EA6;\n",
              "    }\n",
              "\n",
              "    .colab-df-buttons div {\n",
              "      margin-bottom: 4px;\n",
              "    }\n",
              "\n",
              "    [theme=dark] .colab-df-convert {\n",
              "      background-color: #3B4455;\n",
              "      fill: #D2E3FC;\n",
              "    }\n",
              "\n",
              "    [theme=dark] .colab-df-convert:hover {\n",
              "      background-color: #434B5C;\n",
              "      box-shadow: 0px 1px 3px 1px rgba(0, 0, 0, 0.15);\n",
              "      filter: drop-shadow(0px 1px 2px rgba(0, 0, 0, 0.3));\n",
              "      fill: #FFFFFF;\n",
              "    }\n",
              "  </style>\n",
              "\n",
              "    <script>\n",
              "      const buttonEl =\n",
              "        document.querySelector('#df-e8930d2c-163d-4109-a360-cb2e30cbe60e button.colab-df-convert');\n",
              "      buttonEl.style.display =\n",
              "        google.colab.kernel.accessAllowed ? 'block' : 'none';\n",
              "\n",
              "      async function convertToInteractive(key) {\n",
              "        const element = document.querySelector('#df-e8930d2c-163d-4109-a360-cb2e30cbe60e');\n",
              "        const dataTable =\n",
              "          await google.colab.kernel.invokeFunction('convertToInteractive',\n",
              "                                                    [key], {});\n",
              "        if (!dataTable) return;\n",
              "\n",
              "        const docLinkHtml = 'Like what you see? Visit the ' +\n",
              "          '<a target=\"_blank\" href=https://colab.research.google.com/notebooks/data_table.ipynb>data table notebook</a>'\n",
              "          + ' to learn more about interactive tables.';\n",
              "        element.innerHTML = '';\n",
              "        dataTable['output_type'] = 'display_data';\n",
              "        await google.colab.output.renderOutput(dataTable, element);\n",
              "        const docLink = document.createElement('div');\n",
              "        docLink.innerHTML = docLinkHtml;\n",
              "        element.appendChild(docLink);\n",
              "      }\n",
              "    </script>\n",
              "  </div>\n",
              "\n",
              "\n",
              "<div id=\"df-521f99eb-7404-48c3-8161-5ed7a5e18bd5\">\n",
              "  <button class=\"colab-df-quickchart\" onclick=\"quickchart('df-521f99eb-7404-48c3-8161-5ed7a5e18bd5')\"\n",
              "            title=\"Suggest charts\"\n",
              "            style=\"display:none;\">\n",
              "\n",
              "<svg xmlns=\"http://www.w3.org/2000/svg\" height=\"24px\"viewBox=\"0 0 24 24\"\n",
              "     width=\"24px\">\n",
              "    <g>\n",
              "        <path d=\"M19 3H5c-1.1 0-2 .9-2 2v14c0 1.1.9 2 2 2h14c1.1 0 2-.9 2-2V5c0-1.1-.9-2-2-2zM9 17H7v-7h2v7zm4 0h-2V7h2v10zm4 0h-2v-4h2v4z\"/>\n",
              "    </g>\n",
              "</svg>\n",
              "  </button>\n",
              "\n",
              "<style>\n",
              "  .colab-df-quickchart {\n",
              "      --bg-color: #E8F0FE;\n",
              "      --fill-color: #1967D2;\n",
              "      --hover-bg-color: #E2EBFA;\n",
              "      --hover-fill-color: #174EA6;\n",
              "      --disabled-fill-color: #AAA;\n",
              "      --disabled-bg-color: #DDD;\n",
              "  }\n",
              "\n",
              "  [theme=dark] .colab-df-quickchart {\n",
              "      --bg-color: #3B4455;\n",
              "      --fill-color: #D2E3FC;\n",
              "      --hover-bg-color: #434B5C;\n",
              "      --hover-fill-color: #FFFFFF;\n",
              "      --disabled-bg-color: #3B4455;\n",
              "      --disabled-fill-color: #666;\n",
              "  }\n",
              "\n",
              "  .colab-df-quickchart {\n",
              "    background-color: var(--bg-color);\n",
              "    border: none;\n",
              "    border-radius: 50%;\n",
              "    cursor: pointer;\n",
              "    display: none;\n",
              "    fill: var(--fill-color);\n",
              "    height: 32px;\n",
              "    padding: 0;\n",
              "    width: 32px;\n",
              "  }\n",
              "\n",
              "  .colab-df-quickchart:hover {\n",
              "    background-color: var(--hover-bg-color);\n",
              "    box-shadow: 0 1px 2px rgba(60, 64, 67, 0.3), 0 1px 3px 1px rgba(60, 64, 67, 0.15);\n",
              "    fill: var(--button-hover-fill-color);\n",
              "  }\n",
              "\n",
              "  .colab-df-quickchart-complete:disabled,\n",
              "  .colab-df-quickchart-complete:disabled:hover {\n",
              "    background-color: var(--disabled-bg-color);\n",
              "    fill: var(--disabled-fill-color);\n",
              "    box-shadow: none;\n",
              "  }\n",
              "\n",
              "  .colab-df-spinner {\n",
              "    border: 2px solid var(--fill-color);\n",
              "    border-color: transparent;\n",
              "    border-bottom-color: var(--fill-color);\n",
              "    animation:\n",
              "      spin 1s steps(1) infinite;\n",
              "  }\n",
              "\n",
              "  @keyframes spin {\n",
              "    0% {\n",
              "      border-color: transparent;\n",
              "      border-bottom-color: var(--fill-color);\n",
              "      border-left-color: var(--fill-color);\n",
              "    }\n",
              "    20% {\n",
              "      border-color: transparent;\n",
              "      border-left-color: var(--fill-color);\n",
              "      border-top-color: var(--fill-color);\n",
              "    }\n",
              "    30% {\n",
              "      border-color: transparent;\n",
              "      border-left-color: var(--fill-color);\n",
              "      border-top-color: var(--fill-color);\n",
              "      border-right-color: var(--fill-color);\n",
              "    }\n",
              "    40% {\n",
              "      border-color: transparent;\n",
              "      border-right-color: var(--fill-color);\n",
              "      border-top-color: var(--fill-color);\n",
              "    }\n",
              "    60% {\n",
              "      border-color: transparent;\n",
              "      border-right-color: var(--fill-color);\n",
              "    }\n",
              "    80% {\n",
              "      border-color: transparent;\n",
              "      border-right-color: var(--fill-color);\n",
              "      border-bottom-color: var(--fill-color);\n",
              "    }\n",
              "    90% {\n",
              "      border-color: transparent;\n",
              "      border-bottom-color: var(--fill-color);\n",
              "    }\n",
              "  }\n",
              "</style>\n",
              "\n",
              "  <script>\n",
              "    async function quickchart(key) {\n",
              "      const quickchartButtonEl =\n",
              "        document.querySelector('#' + key + ' button');\n",
              "      quickchartButtonEl.disabled = true;  // To prevent multiple clicks.\n",
              "      quickchartButtonEl.classList.add('colab-df-spinner');\n",
              "      try {\n",
              "        const charts = await google.colab.kernel.invokeFunction(\n",
              "            'suggestCharts', [key], {});\n",
              "      } catch (error) {\n",
              "        console.error('Error during call to suggestCharts:', error);\n",
              "      }\n",
              "      quickchartButtonEl.classList.remove('colab-df-spinner');\n",
              "      quickchartButtonEl.classList.add('colab-df-quickchart-complete');\n",
              "    }\n",
              "    (() => {\n",
              "      let quickchartButtonEl =\n",
              "        document.querySelector('#df-521f99eb-7404-48c3-8161-5ed7a5e18bd5 button');\n",
              "      quickchartButtonEl.style.display =\n",
              "        google.colab.kernel.accessAllowed ? 'block' : 'none';\n",
              "    })();\n",
              "  </script>\n",
              "</div>\n",
              "\n",
              "    </div>\n",
              "  </div>\n"
            ],
            "application/vnd.google.colaboratory.intrinsic+json": {
              "type": "dataframe",
              "variable_name": "titanic_table",
              "summary": "{\n  \"name\": \"titanic_table\",\n  \"rows\": 2208,\n  \"fields\": [\n    {\n      \"column\": \"Name\",\n      \"properties\": {\n        \"dtype\": \"string\",\n        \"num_unique_values\": 2201,\n        \"samples\": [\n          \"LEWY, Mr Ervin G.\",\n          \"HESLIN, Mr James\",\n          \"HALFORD, Mr Richard\"\n        ],\n        \"semantic_type\": \"\",\n        \"description\": \"\"\n      }\n    },\n    {\n      \"column\": \"Age\",\n      \"properties\": {\n        \"dtype\": \"number\",\n        \"std\": 12.286679161843121,\n        \"min\": 1.0,\n        \"max\": 74.0,\n        \"num_unique_values\": 71,\n        \"samples\": [\n          4.0,\n          41.0,\n          60.0\n        ],\n        \"semantic_type\": \"\",\n        \"description\": \"\"\n      }\n    },\n    {\n      \"column\": \"Gender\",\n      \"properties\": {\n        \"dtype\": \"category\",\n        \"num_unique_values\": 2,\n        \"samples\": [\n          \"Female\",\n          \"Male\"\n        ],\n        \"semantic_type\": \"\",\n        \"description\": \"\"\n      }\n    },\n    {\n      \"column\": \"Class\",\n      \"properties\": {\n        \"dtype\": \"category\",\n        \"num_unique_values\": 4,\n        \"samples\": [\n          \"Crew\",\n          \"C1\"\n        ],\n        \"semantic_type\": \"\",\n        \"description\": \"\"\n      }\n    },\n    {\n      \"column\": \"Joined\",\n      \"properties\": {\n        \"dtype\": \"category\",\n        \"num_unique_values\": 4,\n        \"samples\": [\n          \"Cherbourg\",\n          \"Queenstown\"\n        ],\n        \"semantic_type\": \"\",\n        \"description\": \"\"\n      }\n    },\n    {\n      \"column\": \"Married\",\n      \"properties\": {\n        \"dtype\": \"number\",\n        \"std\": 0.47701351081944793,\n        \"min\": 0.0,\n        \"max\": 1.0,\n        \"num_unique_values\": 2,\n        \"samples\": [\n          1.0,\n          0.0\n        ],\n        \"semantic_type\": \"\",\n        \"description\": \"\"\n      }\n    },\n    {\n      \"column\": \"Survived\",\n      \"properties\": {\n        \"dtype\": \"number\",\n        \"std\": 0,\n        \"min\": 0,\n        \"max\": 1,\n        \"num_unique_values\": 2,\n        \"samples\": [\n          1,\n          0\n        ],\n        \"semantic_type\": \"\",\n        \"description\": \"\"\n      }\n    },\n    {\n      \"column\": \"Fare\",\n      \"properties\": {\n        \"dtype\": \"number\",\n        \"std\": 43.09022947221104,\n        \"min\": 0.0,\n        \"max\": 512.0,\n        \"num_unique_values\": 96,\n        \"samples\": [\n          19.0,\n          110.0\n        ],\n        \"semantic_type\": \"\",\n        \"description\": \"\"\n      }\n    }\n  ]\n}"
            }
          },
          "metadata": {},
          "execution_count": 302
        }
      ]
    },
    {
      "cell_type": "markdown",
      "metadata": {
        "id": "uvBXvv5P3RDM"
      },
      "source": [
        "<hr>\n",
        "<pre>\n",
        "\n",
        "\n",
        "</pre>\n",
        "#VI. pandas has rudimentary plotting methods\n",
        "<img src='https://www.dropbox.com/s/9fcc1crlxp19ijt/major_section.png?raw=1' width='300'>\n",
        "\n",
        "First, let me say we won't be doing any plotting beyond this chapter. This is not because I think it is unimportant, just that there are only 10 weeks in the quarter. But I hated to skip it so we will do a brief look. Plotting is the kind of thing you would typically do the first time you are handed a dataset. The goal is to get a picture of how the data is distributed and possibly correlated.\n",
        "\n",
        "I can tell you that the standard visualization/plotting library in Python is `matplotlib`. I can also tell you that it is knarly both conceptually and syntactically. I am going to rely on pandas as a \"wrapper\" for `matplotlib`. What pandas has done is give you plotting methods that hide the messy underlying `matplotlib` code. Thanks, pandas!"
      ]
    },
    {
      "cell_type": "markdown",
      "metadata": {
        "id": "jDTfB7QX4kOl"
      },
      "source": [
        "##The crosstab method plus the plot method\n",
        "\n",
        "I can give you, in a single line, the pandas code that can power our investigation of the Titanic data. Here it is:\n",
        "<pre>\n",
        "pd.crosstab(table[col1], table[col2]).plot(kind='bar', figsize=(10,6), grid=True, logy=True)\n",
        "</pre>\n",
        "Or with a real example that plots `Gender` against `Survived`:\n",
        "<pre>\n",
        "pd.crosstab(titanic_table['Gender'], titanic_table['Survived']).plot(kind='bar', figsize=(10,6), grid=True, logy=True)\n",
        "</pre>\n",
        "The pandas plotting method is called `plot` and comes last in the method chain. We have 1 method that preceeds it: `crosstab`, which sets up a new table (which gets thrown away after plotting) that has rows and columns set up for plotting, i.e., it is wrangled for plotting. Let's run the code and see what happens."
      ]
    },
    {
      "cell_type": "code",
      "metadata": {
        "id": "mFPZBaBVneFq",
        "colab": {
          "base_uri": "https://localhost:8080/",
          "height": 595
        },
        "outputId": "12b2b456-b9c2-4e4f-c032-711eeb9c3d7b"
      },
      "source": [
        "pd.crosstab(titanic_table['Gender'], titanic_table['Survived']).plot(kind='bar', figsize=(10,6), grid=True, logy=True)"
      ],
      "execution_count": null,
      "outputs": [
        {
          "output_type": "execute_result",
          "data": {
            "text/plain": [
              "<Axes: xlabel='Gender'>"
            ]
          },
          "metadata": {},
          "execution_count": 303
        },
        {
          "output_type": "display_data",
          "data": {
            "text/plain": [
              "<Figure size 1000x600 with 1 Axes>"
            ],
            "image/png": "[encoded data removed]"
          },
          "metadata": {}
        }
      ]
    },
    {
      "cell_type": "markdown",
      "metadata": {
        "id": "MclglulO65rq"
      },
      "source": [
        "Let's look at the parameters to `plot`.\n",
        "<pre>\n",
        "plot(kind='bar', figsize=(10,6), grid=True, logy=True)\n",
        "</pre>\n",
        " It's a kind of  bar chart. It shows the possible values in the `Survived` column, blue being perished, orange survived. The blue line dominates if it is larger and vice versa. `figsize` says the plot should show on a 10 inch wide and 6 inch deep figure. `grid` is used to overlay the plot with grid-lines. `logy` says to scale the data on the y axis, log base 10. I chose to scale because of the tendency for small values to be lost in the plot, e.g., values of 1. With scaling they can be seen more clearly."
      ]
    },
    {
      "cell_type": "markdown",
      "metadata": {
        "id": "9yPKLSTQ85kH"
      },
      "source": [
        "Here is another example looking at `Class` cross `Gender`."
      ]
    },
    {
      "cell_type": "code",
      "metadata": {
        "id": "2wmvzOrg7j_r",
        "colab": {
          "base_uri": "https://localhost:8080/",
          "height": 582
        },
        "outputId": "9f4702f3-dad4-415f-c487-dc86ca7cdd17"
      },
      "source": [
        "pd.crosstab(titanic_table['Class'], titanic_table['Gender']).plot(kind='bar', figsize=(10,6), grid=True, logy=True)"
      ],
      "execution_count": null,
      "outputs": [
        {
          "output_type": "execute_result",
          "data": {
            "text/plain": [
              "<Axes: xlabel='Class'>"
            ]
          },
          "metadata": {},
          "execution_count": 304
        },
        {
          "output_type": "display_data",
          "data": {
            "text/plain": [
              "<Figure size 1000x600 with 1 Axes>"
            ],
            "image/png": "[encoded data removed]"
          },
          "metadata": {}
        }
      ]
    },
    {
      "cell_type": "markdown",
      "metadata": {
        "id": "8533YENDbbWw"
      },
      "source": [
        "## Subsetting the table\n",
        "\n",
        "There is another pandas concept that is useful. It is the idea of taking a subset of rows based on some condition(s). We can use the `query` method for this. I like query because it generally follows a style called SQL, which has been the standard used to query databases forever - talking 1970s. Here are some examples.\n",
        "<pre>\n",
        "fem3_table = titanic_table.query('Gender == \"Female\" and Class == \"C3\"')\n",
        "\n",
        "senior_table = titanic_table.query('Age > 65')\n",
        "</pre>\n",
        "The `query` method takes a single argument, a string. So that is straightforward. The complication is in how that string needs to be formatted. You have to remember these key facts:\n",
        "\n",
        "1. You do **not** have to quote column names.\n",
        "\n",
        "2. You do have to quote column **values** if they are not numeric, i.e., they are categorical.\n",
        "\n",
        "3. Do **not** quote a numeric value - just use the number.\n",
        "\n",
        "4. To do quoting, if you use a single quote for entire string, then use double-quotes for internal things.\n",
        "\n",
        "Let's try it out."
      ]
    },
    {
      "cell_type": "code",
      "metadata": {
        "id": "uVpua4Sts2CR",
        "colab": {
          "base_uri": "https://localhost:8080/",
          "height": 81
        },
        "outputId": "21bec3f2-d85f-4995-fe1e-409c1cd1a176"
      },
      "source": [
        "c3_female_table = titanic_table.query('Gender == \"Female\" and Class == \"C3\"') #quotes around 2 column values\n",
        "c3_female_table.head(1)"
      ],
      "execution_count": null,
      "outputs": [
        {
          "output_type": "execute_result",
          "data": {
            "text/plain": [
              "                             Name   Age  Gender Class       Joined  Married  \\\n",
              "11  AHLIN, Mrs Johanna Persdotter  40.0  Female    C3  Southampton      1.0   \n",
              "\n",
              "    Survived  Fare  \n",
              "11         0   9.0  "
            ],
            "text/html": [
              "\n",
              "  <div id=\"df-e1e50d39-570f-4985-ae5d-9b6bb4653dab\" class=\"colab-df-container\">\n",
              "    <div>\n",
              "<style scoped>\n",
              "    .dataframe tbody tr th:only-of-type {\n",
              "        vertical-align: middle;\n",
              "    }\n",
              "\n",
              "    .dataframe tbody tr th {\n",
              "        vertical-align: top;\n",
              "    }\n",
              "\n",
              "    .dataframe thead th {\n",
              "        text-align: right;\n",
              "    }\n",
              "</style>\n",
              "<table border=\"1\" class=\"dataframe\">\n",
              "  <thead>\n",
              "    <tr style=\"text-align: right;\">\n",
              "      <th></th>\n",
              "      <th>Name</th>\n",
              "      <th>Age</th>\n",
              "      <th>Gender</th>\n",
              "      <th>Class</th>\n",
              "      <th>Joined</th>\n",
              "      <th>Married</th>\n",
              "      <th>Survived</th>\n",
              "      <th>Fare</th>\n",
              "    </tr>\n",
              "  </thead>\n",
              "  <tbody>\n",
              "    <tr>\n",
              "      <th>11</th>\n",
              "      <td>AHLIN, Mrs Johanna Persdotter</td>\n",
              "      <td>40.0</td>\n",
              "      <td>Female</td>\n",
              "      <td>C3</td>\n",
              "      <td>Southampton</td>\n",
              "      <td>1.0</td>\n",
              "      <td>0</td>\n",
              "      <td>9.0</td>\n",
              "    </tr>\n",
              "  </tbody>\n",
              "</table>\n",
              "</div>\n",
              "    <div class=\"colab-df-buttons\">\n",
              "\n",
              "  <div class=\"colab-df-container\">\n",
              "    <button class=\"colab-df-convert\" onclick=\"convertToInteractive('df-e1e50d39-570f-4985-ae5d-9b6bb4653dab')\"\n",
              "            title=\"Convert this dataframe to an interactive table.\"\n",
              "            style=\"display:none;\">\n",
              "\n",
              "  <svg xmlns=\"http://www.w3.org/2000/svg\" height=\"24px\" viewBox=\"0 -960 960 960\">\n",
              "    <path d=\"M120-120v-720h720v720H120Zm60-500h600v-160H180v160Zm220 220h160v-160H400v160Zm0 220h160v-160H400v160ZM180-400h160v-160H180v160Zm440 0h160v-160H620v160ZM180-180h160v-160H180v160Zm440 0h160v-160H620v160Z\"/>\n",
              "  </svg>\n",
              "    </button>\n",
              "\n",
              "  <style>\n",
              "    .colab-df-container {\n",
              "      display:flex;\n",
              "      gap: 12px;\n",
              "    }\n",
              "\n",
              "    .colab-df-convert {\n",
              "      background-color: #E8F0FE;\n",
              "      border: none;\n",
              "      border-radius: 50%;\n",
              "      cursor: pointer;\n",
              "      display: none;\n",
              "      fill: #1967D2;\n",
              "      height: 32px;\n",
              "      padding: 0 0 0 0;\n",
              "      width: 32px;\n",
              "    }\n",
              "\n",
              "    .colab-df-convert:hover {\n",
              "      background-color: #E2EBFA;\n",
              "      box-shadow: 0px 1px 2px rgba(60, 64, 67, 0.3), 0px 1px 3px 1px rgba(60, 64, 67, 0.15);\n",
              "      fill: #174EA6;\n",
              "    }\n",
              "\n",
              "    .colab-df-buttons div {\n",
              "      margin-bottom: 4px;\n",
              "    }\n",
              "\n",
              "    [theme=dark] .colab-df-convert {\n",
              "      background-color: #3B4455;\n",
              "      fill: #D2E3FC;\n",
              "    }\n",
              "\n",
              "    [theme=dark] .colab-df-convert:hover {\n",
              "      background-color: #434B5C;\n",
              "      box-shadow: 0px 1px 3px 1px rgba(0, 0, 0, 0.15);\n",
              "      filter: drop-shadow(0px 1px 2px rgba(0, 0, 0, 0.3));\n",
              "      fill: #FFFFFF;\n",
              "    }\n",
              "  </style>\n",
              "\n",
              "    <script>\n",
              "      const buttonEl =\n",
              "        document.querySelector('#df-e1e50d39-570f-4985-ae5d-9b6bb4653dab button.colab-df-convert');\n",
              "      buttonEl.style.display =\n",
              "        google.colab.kernel.accessAllowed ? 'block' : 'none';\n",
              "\n",
              "      async function convertToInteractive(key) {\n",
              "        const element = document.querySelector('#df-e1e50d39-570f-4985-ae5d-9b6bb4653dab');\n",
              "        const dataTable =\n",
              "          await google.colab.kernel.invokeFunction('convertToInteractive',\n",
              "                                                    [key], {});\n",
              "        if (!dataTable) return;\n",
              "\n",
              "        const docLinkHtml = 'Like what you see? Visit the ' +\n",
              "          '<a target=\"_blank\" href=https://colab.research.google.com/notebooks/data_table.ipynb>data table notebook</a>'\n",
              "          + ' to learn more about interactive tables.';\n",
              "        element.innerHTML = '';\n",
              "        dataTable['output_type'] = 'display_data';\n",
              "        await google.colab.output.renderOutput(dataTable, element);\n",
              "        const docLink = document.createElement('div');\n",
              "        docLink.innerHTML = docLinkHtml;\n",
              "        element.appendChild(docLink);\n",
              "      }\n",
              "    </script>\n",
              "  </div>\n",
              "\n",
              "\n",
              "    </div>\n",
              "  </div>\n"
            ],
            "application/vnd.google.colaboratory.intrinsic+json": {
              "type": "dataframe",
              "variable_name": "c3_female_table",
              "summary": "{\n  \"name\": \"c3_female_table\",\n  \"rows\": 216,\n  \"fields\": [\n    {\n      \"column\": \"Name\",\n      \"properties\": {\n        \"dtype\": \"string\",\n        \"num_unique_values\": 216,\n        \"samples\": [\n          \"SHINE, Miss Ellen\",\n          \"Y\\u016bSUF, Miss Nab\\u012bah (Mary)\",\n          \"DROPKIN, Miss Jennie\"\n        ],\n        \"semantic_type\": \"\",\n        \"description\": \"\"\n      }\n    },\n    {\n      \"column\": \"Age\",\n      \"properties\": {\n        \"dtype\": \"number\",\n        \"std\": 12.478317643614986,\n        \"min\": 1.0,\n        \"max\": 64.0,\n        \"num_unique_values\": 49,\n        \"samples\": [\n          15.0,\n          5.0,\n          35.0\n        ],\n        \"semantic_type\": \"\",\n        \"description\": \"\"\n      }\n    },\n    {\n      \"column\": \"Gender\",\n      \"properties\": {\n        \"dtype\": \"category\",\n        \"num_unique_values\": 1,\n        \"samples\": [\n          \"Female\"\n        ],\n        \"semantic_type\": \"\",\n        \"description\": \"\"\n      }\n    },\n    {\n      \"column\": \"Class\",\n      \"properties\": {\n        \"dtype\": \"category\",\n        \"num_unique_values\": 1,\n        \"samples\": [\n          \"C3\"\n        ],\n        \"semantic_type\": \"\",\n        \"description\": \"\"\n      }\n    },\n    {\n      \"column\": \"Joined\",\n      \"properties\": {\n        \"dtype\": \"category\",\n        \"num_unique_values\": 3,\n        \"samples\": [\n          \"Southampton\"\n        ],\n        \"semantic_type\": \"\",\n        \"description\": \"\"\n      }\n    },\n    {\n      \"column\": \"Married\",\n      \"properties\": {\n        \"dtype\": \"number\",\n        \"std\": 0.4197688137770728,\n        \"min\": 0.0,\n        \"max\": 1.0,\n        \"num_unique_values\": 2,\n        \"samples\": [\n          0.0\n        ],\n        \"semantic_type\": \"\",\n        \"description\": \"\"\n      }\n    },\n    {\n      \"column\": \"Survived\",\n      \"properties\": {\n        \"dtype\": \"number\",\n        \"std\": 0,\n        \"min\": 0,\n        \"max\": 1,\n        \"num_unique_values\": 2,\n        \"samples\": [\n          1\n        ],\n        \"semantic_type\": \"\",\n        \"description\": \"\"\n      }\n    },\n    {\n      \"column\": \"Fare\",\n      \"properties\": {\n        \"dtype\": \"number\",\n        \"std\": 11.834950939406415,\n        \"min\": 6.0,\n        \"max\": 69.0,\n        \"num_unique_values\": 27,\n        \"samples\": [\n          46.0\n        ],\n        \"semantic_type\": \"\",\n        \"description\": \"\"\n      }\n    }\n  ]\n}"
            }
          },
          "metadata": {},
          "execution_count": 305
        }
      ]
    },
    {
      "cell_type": "markdown",
      "metadata": {
        "id": "8RumLIgKApRV"
      },
      "source": [
        "Then we plot."
      ]
    },
    {
      "cell_type": "code",
      "metadata": {
        "id": "hQTHdQYEAtBt",
        "colab": {
          "base_uri": "https://localhost:8080/",
          "height": 567
        },
        "outputId": "8dafa128-49b6-4e52-d69b-b816e8137a7e"
      },
      "source": [
        "pd.crosstab(c3_female_table['Married'], c3_female_table['Survived']).plot(kind='bar', figsize=(10,6), grid=True, logy=True)"
      ],
      "execution_count": null,
      "outputs": [
        {
          "output_type": "execute_result",
          "data": {
            "text/plain": [
              "<Axes: xlabel='Married'>"
            ]
          },
          "metadata": {},
          "execution_count": 306
        },
        {
          "output_type": "display_data",
          "data": {
            "text/plain": [
              "<Figure size 1000x600 with 1 Axes>"
            ],
            "image/png": "[encoded data removed]"
          },
          "metadata": {}
        }
      ]
    },
    {
      "cell_type": "markdown",
      "metadata": {
        "id": "7CnGlQT6-tcN"
      },
      "source": [
        "###`loc` equivalent\n",
        "\n",
        "Here is equivalent using `loc`.\n",
        "Note need `&` for `and` and need parens around logical conditions. And square brackets.\n",
        "\n",
        " While the `loc` method is powerful, in this case I like `query` better :)"
      ]
    },
    {
      "cell_type": "code",
      "metadata": {
        "id": "hHniD7nA-2tm"
      },
      "source": [
        "loc_c3_female_table = titanic_table.loc[(titanic_table['Gender'] == \"Female\") &\n",
        "                                        (titanic_table['Class'] == \"C3\")]\n"
      ],
      "execution_count": null,
      "outputs": []
    },
    {
      "cell_type": "code",
      "metadata": {
        "id": "cUh1W9CPA6qZ",
        "colab": {
          "base_uri": "https://localhost:8080/",
          "height": 81
        },
        "outputId": "39c2a653-866e-4b4c-c184-f138f24412c7"
      },
      "source": [
        "loc_c3_female_table.head(1)"
      ],
      "execution_count": null,
      "outputs": [
        {
          "output_type": "execute_result",
          "data": {
            "text/plain": [
              "                             Name   Age  Gender Class       Joined  Married  \\\n",
              "11  AHLIN, Mrs Johanna Persdotter  40.0  Female    C3  Southampton      1.0   \n",
              "\n",
              "    Survived  Fare  \n",
              "11         0   9.0  "
            ],
            "text/html": [
              "\n",
              "  <div id=\"df-0d355f9f-662e-4b7f-9776-b0b046b35295\" class=\"colab-df-container\">\n",
              "    <div>\n",
              "<style scoped>\n",
              "    .dataframe tbody tr th:only-of-type {\n",
              "        vertical-align: middle;\n",
              "    }\n",
              "\n",
              "    .dataframe tbody tr th {\n",
              "        vertical-align: top;\n",
              "    }\n",
              "\n",
              "    .dataframe thead th {\n",
              "        text-align: right;\n",
              "    }\n",
              "</style>\n",
              "<table border=\"1\" class=\"dataframe\">\n",
              "  <thead>\n",
              "    <tr style=\"text-align: right;\">\n",
              "      <th></th>\n",
              "      <th>Name</th>\n",
              "      <th>Age</th>\n",
              "      <th>Gender</th>\n",
              "      <th>Class</th>\n",
              "      <th>Joined</th>\n",
              "      <th>Married</th>\n",
              "      <th>Survived</th>\n",
              "      <th>Fare</th>\n",
              "    </tr>\n",
              "  </thead>\n",
              "  <tbody>\n",
              "    <tr>\n",
              "      <th>11</th>\n",
              "      <td>AHLIN, Mrs Johanna Persdotter</td>\n",
              "      <td>40.0</td>\n",
              "      <td>Female</td>\n",
              "      <td>C3</td>\n",
              "      <td>Southampton</td>\n",
              "      <td>1.0</td>\n",
              "      <td>0</td>\n",
              "      <td>9.0</td>\n",
              "    </tr>\n",
              "  </tbody>\n",
              "</table>\n",
              "</div>\n",
              "    <div class=\"colab-df-buttons\">\n",
              "\n",
              "  <div class=\"colab-df-container\">\n",
              "    <button class=\"colab-df-convert\" onclick=\"convertToInteractive('df-0d355f9f-662e-4b7f-9776-b0b046b35295')\"\n",
              "            title=\"Convert this dataframe to an interactive table.\"\n",
              "            style=\"display:none;\">\n",
              "\n",
              "  <svg xmlns=\"http://www.w3.org/2000/svg\" height=\"24px\" viewBox=\"0 -960 960 960\">\n",
              "    <path d=\"M120-120v-720h720v720H120Zm60-500h600v-160H180v160Zm220 220h160v-160H400v160Zm0 220h160v-160H400v160ZM180-400h160v-160H180v160Zm440 0h160v-160H620v160ZM180-180h160v-160H180v160Zm440 0h160v-160H620v160Z\"/>\n",
              "  </svg>\n",
              "    </button>\n",
              "\n",
              "  <style>\n",
              "    .colab-df-container {\n",
              "      display:flex;\n",
              "      gap: 12px;\n",
              "    }\n",
              "\n",
              "    .colab-df-convert {\n",
              "      background-color: #E8F0FE;\n",
              "      border: none;\n",
              "      border-radius: 50%;\n",
              "      cursor: pointer;\n",
              "      display: none;\n",
              "      fill: #1967D2;\n",
              "      height: 32px;\n",
              "      padding: 0 0 0 0;\n",
              "      width: 32px;\n",
              "    }\n",
              "\n",
              "    .colab-df-convert:hover {\n",
              "      background-color: #E2EBFA;\n",
              "      box-shadow: 0px 1px 2px rgba(60, 64, 67, 0.3), 0px 1px 3px 1px rgba(60, 64, 67, 0.15);\n",
              "      fill: #174EA6;\n",
              "    }\n",
              "\n",
              "    .colab-df-buttons div {\n",
              "      margin-bottom: 4px;\n",
              "    }\n",
              "\n",
              "    [theme=dark] .colab-df-convert {\n",
              "      background-color: #3B4455;\n",
              "      fill: #D2E3FC;\n",
              "    }\n",
              "\n",
              "    [theme=dark] .colab-df-convert:hover {\n",
              "      background-color: #434B5C;\n",
              "      box-shadow: 0px 1px 3px 1px rgba(0, 0, 0, 0.15);\n",
              "      filter: drop-shadow(0px 1px 2px rgba(0, 0, 0, 0.3));\n",
              "      fill: #FFFFFF;\n",
              "    }\n",
              "  </style>\n",
              "\n",
              "    <script>\n",
              "      const buttonEl =\n",
              "        document.querySelector('#df-0d355f9f-662e-4b7f-9776-b0b046b35295 button.colab-df-convert');\n",
              "      buttonEl.style.display =\n",
              "        google.colab.kernel.accessAllowed ? 'block' : 'none';\n",
              "\n",
              "      async function convertToInteractive(key) {\n",
              "        const element = document.querySelector('#df-0d355f9f-662e-4b7f-9776-b0b046b35295');\n",
              "        const dataTable =\n",
              "          await google.colab.kernel.invokeFunction('convertToInteractive',\n",
              "                                                    [key], {});\n",
              "        if (!dataTable) return;\n",
              "\n",
              "        const docLinkHtml = 'Like what you see? Visit the ' +\n",
              "          '<a target=\"_blank\" href=https://colab.research.google.com/notebooks/data_table.ipynb>data table notebook</a>'\n",
              "          + ' to learn more about interactive tables.';\n",
              "        element.innerHTML = '';\n",
              "        dataTable['output_type'] = 'display_data';\n",
              "        await google.colab.output.renderOutput(dataTable, element);\n",
              "        const docLink = document.createElement('div');\n",
              "        docLink.innerHTML = docLinkHtml;\n",
              "        element.appendChild(docLink);\n",
              "      }\n",
              "    </script>\n",
              "  </div>\n",
              "\n",
              "\n",
              "    </div>\n",
              "  </div>\n"
            ],
            "application/vnd.google.colaboratory.intrinsic+json": {
              "type": "dataframe",
              "variable_name": "loc_c3_female_table",
              "summary": "{\n  \"name\": \"loc_c3_female_table\",\n  \"rows\": 216,\n  \"fields\": [\n    {\n      \"column\": \"Name\",\n      \"properties\": {\n        \"dtype\": \"string\",\n        \"num_unique_values\": 216,\n        \"samples\": [\n          \"SHINE, Miss Ellen\",\n          \"Y\\u016bSUF, Miss Nab\\u012bah (Mary)\",\n          \"DROPKIN, Miss Jennie\"\n        ],\n        \"semantic_type\": \"\",\n        \"description\": \"\"\n      }\n    },\n    {\n      \"column\": \"Age\",\n      \"properties\": {\n        \"dtype\": \"number\",\n        \"std\": 12.478317643614986,\n        \"min\": 1.0,\n        \"max\": 64.0,\n        \"num_unique_values\": 49,\n        \"samples\": [\n          15.0,\n          5.0,\n          35.0\n        ],\n        \"semantic_type\": \"\",\n        \"description\": \"\"\n      }\n    },\n    {\n      \"column\": \"Gender\",\n      \"properties\": {\n        \"dtype\": \"category\",\n        \"num_unique_values\": 1,\n        \"samples\": [\n          \"Female\"\n        ],\n        \"semantic_type\": \"\",\n        \"description\": \"\"\n      }\n    },\n    {\n      \"column\": \"Class\",\n      \"properties\": {\n        \"dtype\": \"category\",\n        \"num_unique_values\": 1,\n        \"samples\": [\n          \"C3\"\n        ],\n        \"semantic_type\": \"\",\n        \"description\": \"\"\n      }\n    },\n    {\n      \"column\": \"Joined\",\n      \"properties\": {\n        \"dtype\": \"category\",\n        \"num_unique_values\": 3,\n        \"samples\": [\n          \"Southampton\"\n        ],\n        \"semantic_type\": \"\",\n        \"description\": \"\"\n      }\n    },\n    {\n      \"column\": \"Married\",\n      \"properties\": {\n        \"dtype\": \"number\",\n        \"std\": 0.4197688137770728,\n        \"min\": 0.0,\n        \"max\": 1.0,\n        \"num_unique_values\": 2,\n        \"samples\": [\n          0.0\n        ],\n        \"semantic_type\": \"\",\n        \"description\": \"\"\n      }\n    },\n    {\n      \"column\": \"Survived\",\n      \"properties\": {\n        \"dtype\": \"number\",\n        \"std\": 0,\n        \"min\": 0,\n        \"max\": 1,\n        \"num_unique_values\": 2,\n        \"samples\": [\n          1\n        ],\n        \"semantic_type\": \"\",\n        \"description\": \"\"\n      }\n    },\n    {\n      \"column\": \"Fare\",\n      \"properties\": {\n        \"dtype\": \"number\",\n        \"std\": 11.834950939406415,\n        \"min\": 6.0,\n        \"max\": 69.0,\n        \"num_unique_values\": 27,\n        \"samples\": [\n          46.0\n        ],\n        \"semantic_type\": \"\",\n        \"description\": \"\"\n      }\n    }\n  ]\n}"
            }
          },
          "metadata": {},
          "execution_count": 308
        }
      ]
    },
    {
      "cell_type": "markdown",
      "metadata": {
        "id": "y2bebYFpBTXU"
      },
      "source": [
        "Here's another."
      ]
    },
    {
      "cell_type": "code",
      "metadata": {
        "id": "GWPMplapv5H1",
        "colab": {
          "base_uri": "https://localhost:8080/",
          "height": 563
        },
        "outputId": "f5cc5a07-91ec-4918-8097-a49db5fab73c"
      },
      "source": [
        "passenger_table = titanic_table.query('Class != \"Crew\"')  #not crew, i.e., passengers only\n",
        "pd.crosstab(passenger_table['Class'], passenger_table['Survived']).plot(kind='bar', figsize=(10,6), grid=True, logy=True)"
      ],
      "execution_count": null,
      "outputs": [
        {
          "output_type": "execute_result",
          "data": {
            "text/plain": [
              "<Axes: xlabel='Class'>"
            ]
          },
          "metadata": {},
          "execution_count": 309
        },
        {
          "output_type": "display_data",
          "data": {
            "text/plain": [
              "<Figure size 1000x600 with 1 Axes>"
            ],
            "image/png": "[encoded data removed]"
          },
          "metadata": {}
        }
      ]
    },
    {
      "cell_type": "markdown",
      "metadata": {
        "id": "pUV3oBwgClFw"
      },
      "source": [
        "<img src='https://www.dropbox.com/s/8x575mvbi1xumje/cash_line.png?raw=1' height=3 width=500><br>\n",
        "<img src='https://www.gannett-cdn.com/-mm-/56cbeec8287997813f287995de67747ba5e101d5/c=9-0-1280-718/local/-/media/2018/02/15/Phoenix/Phoenix/636542954131413889-image.jpg' height=50 align=center>  Please plot survival by Gender of those who were Married and joined in Cherbourg.\n",
        "\n"
      ]
    },
    {
      "cell_type": "code",
      "metadata": {
        "id": "Ap4nugZVC62i"
      },
      "source": [
        "#subset the table\n",
        "mcher_table = titanic_table.query('Married == 1 and Joined == \"Cherbourg\"')"
      ],
      "execution_count": null,
      "outputs": []
    },
    {
      "cell_type": "code",
      "metadata": {
        "id": "Zzp2ZolTC62i",
        "colab": {
          "base_uri": "https://localhost:8080/",
          "height": 578
        },
        "outputId": "cf568714-4b3b-422a-f06d-62a7aa9a1902"
      },
      "source": [
        "#crosstab\n",
        "pd_crosstab = pd.crosstab(mcher_table['Gender'], mcher_table['Survived']).plot(kind='bar', figsize=(10,6), grid=True, logy=True)"
      ],
      "execution_count": null,
      "outputs": [
        {
          "output_type": "display_data",
          "data": {
            "text/plain": [
              "<Figure size 1000x600 with 1 Axes>"
            ],
            "image/png": "[encoded data removed]"
          },
          "metadata": {}
        }
      ]
    },
    {
      "cell_type": "markdown",
      "metadata": {
        "id": "Lv0iyz-j8Svu"
      },
      "source": [
        "##What we are not covering\n",
        "\n",
        "There is a lot more initial plotting you might want to do to gain insight into your data. You will cover that in a full-blown data science course.\n",
        "\n",
        "Our focus is on software engineering so we will move ahead with data wrangling then modeling."
      ]
    },
    {
      "cell_type": "markdown",
      "metadata": {
        "id": "s38AKvHT2t1q"
      },
      "source": [
        "#Putting it All Together: Problems to Solve\n",
        "\n",
        "\n",
        "I'll give you some problems to work on. Please turn your notebook in on canvas. Make sure to make the shared link viewable by everyone.\n"
      ]
    },
    {
      "cell_type": "markdown",
      "metadata": {
        "id": "ok_qpbLox1NR"
      },
      "source": [
        "#Challenge 1\n",
        "<img src='https://www.dropbox.com/s/3uyvp722kp5to2r/assignment.png?raw=1' width='300'>\n",
        "\n",
        "\n",
        "Define a function `add_lists` that takes 2 arguments, each a list of ints, and then pair-wise adds items to produce a new list. The one constraint is that if the sum is less than `0`, then it uses `0` for the sum.\n",
        "\n",
        "Use a list comprehension!\n",
        "\n",
        "Make sure your arguments look ok by using asserts, i.e., I want you (not Python) to produce error messages.\n",
        "\n",
        "Here are some test cases:\n",
        "<pre>\n",
        "add_lists([1,2,3], [4,5,6]) => [5,7,9]\n",
        "add_lists([1,2,3], [4,-5,-3]) => [5,0,0]\n",
        "add_lists([], []) => []\n",
        "add_lists(1,2) => your error message\n",
        "add_lists([1,2,3], [4,5]) => your error message\n",
        "add_lists([1, 2],[3, 4.5]) => your error message\n",
        "</pre>"
      ]
    },
    {
      "cell_type": "code",
      "metadata": {
        "id": "1dJR2a22pi67"
      },
      "source": [
        "#your function here\n",
        "\n",
        "def add_lists(a: List[int], b: List[int]) -> List[int]:\n",
        "  \"\"\"Pair-wise adds items from two lists of integers.\n",
        "\n",
        "  This function takes two lists of integers as input and performs\n",
        "  pair-wise addition of corresponding elements. If the sum of\n",
        "  two elements is less than 0, it is replaced with 0.\n",
        "\n",
        "  Args:\n",
        "    a: The first list of integers.\n",
        "    b: The second list of integers.\n",
        "\n",
        "  Returns:\n",
        "    A new list containing the pair-wise sums, with negative sums\n",
        "    replaced by 0.\n",
        "\n",
        "  Raises:\n",
        "    AssertionError: If `a` or `b` are not lists, if they are\n",
        "      not of equal length, or if they contain elements that\n",
        "      are not integers.\n",
        "  \"\"\"\n",
        "  # if negative sum replace with 0\n",
        "  # zip(list1, list2) -> ([(x,y), (x2,x2)...])\n",
        "  # x + y -> list = [x + y if (x + y) < 0 for x, y in zip(a, b)]\n",
        "\n",
        "  assert isinstance(a, list), f'a is expected to be a list of ints but is {type(a)}'\n",
        "  assert isinstance(b, list), f'b is expected to be a list of ints but is {type(b)}'\n",
        "  assert len(a) == len(b), f'length of a and b are not equal'\n",
        "  assert all([isinstance(i, int) for i in a]), f'a list contains an non int'\n",
        "  assert all([isinstance(i, int) for i in b]), f'b list contains an non int'\n",
        "\n",
        "  result = [x + y for x, y in zip(a, b)] # adds zipped tuples together, handles negatives on next line\n",
        "  result = [0 if i < 0 else i for i in result] # if i negative return 0 else return i\n",
        "\n",
        "  print(result)\n",
        "  return result"
      ],
      "execution_count": null,
      "outputs": []
    },
    {
      "cell_type": "code",
      "metadata": {
        "id": "8wSkhkDdpmqM",
        "colab": {
          "base_uri": "https://localhost:8080/"
        },
        "outputId": "92e755bf-513f-4fcf-e9d6-4971e4e775f8"
      },
      "source": [
        "assert add_lists([1,2,3], [4,5,6]) == [5,7,9]"
      ],
      "execution_count": null,
      "outputs": [
        {
          "output_type": "stream",
          "name": "stdout",
          "text": [
            "[5, 7, 9]\n"
          ]
        }
      ]
    },
    {
      "cell_type": "code",
      "metadata": {
        "id": "NDq4nP-iJOH8",
        "colab": {
          "base_uri": "https://localhost:8080/"
        },
        "outputId": "1b2e8406-7276-44d8-a89e-c9d7d0f91440"
      },
      "source": [
        "assert add_lists([1,2,3], [4,-5,-3]) == [5,0,0]"
      ],
      "execution_count": null,
      "outputs": [
        {
          "output_type": "stream",
          "name": "stdout",
          "text": [
            "[5, 0, 0]\n"
          ]
        }
      ]
    },
    {
      "cell_type": "code",
      "metadata": {
        "id": "YYZJQxGwJeKl",
        "colab": {
          "base_uri": "https://localhost:8080/"
        },
        "outputId": "6291ad16-eaad-46a4-edbb-5243f5199091"
      },
      "source": [
        "assert add_lists([], []) == []"
      ],
      "execution_count": null,
      "outputs": [
        {
          "output_type": "stream",
          "name": "stdout",
          "text": [
            "[]\n"
          ]
        }
      ]
    },
    {
      "cell_type": "code",
      "metadata": {
        "id": "84FxKTZXpsb4",
        "colab": {
          "base_uri": "https://localhost:8080/",
          "height": 263
        },
        "outputId": "3c34d7e4-3b03-436d-da01-63e620572642"
      },
      "source": [
        "add_lists(1,2) # notice red underscore"
      ],
      "execution_count": null,
      "outputs": [
        {
          "output_type": "error",
          "ename": "AssertionError",
          "evalue": "a is expected to be a list of ints but is <class 'int'>",
          "traceback": [
            "\u001b[0;31m---------------------------------------------------------------------------\u001b[0m",
            "\u001b[0;31mAssertionError\u001b[0m                            Traceback (most recent call last)",
            "\u001b[0;32m<ipython-input-316-5134ce97e28a>\u001b[0m in \u001b[0;36m<cell line: 0>\u001b[0;34m()\u001b[0m\n\u001b[0;32m----> 1\u001b[0;31m \u001b[0madd_lists\u001b[0m\u001b[0;34m(\u001b[0m\u001b[0;36m1\u001b[0m\u001b[0;34m,\u001b[0m\u001b[0;36m2\u001b[0m\u001b[0;34m)\u001b[0m \u001b[0;31m# notice red underscore\u001b[0m\u001b[0;34m\u001b[0m\u001b[0;34m\u001b[0m\u001b[0m\n\u001b[0m",
            "\u001b[0;32m<ipython-input-312-d2ba3688c9ff>\u001b[0m in \u001b[0;36madd_lists\u001b[0;34m(a, b)\u001b[0m\n\u001b[1;32m     25\u001b[0m   \u001b[0;31m# x + y -> list = [x + y if (x + y) < 0 for x, y in zip(a, b)]\u001b[0m\u001b[0;34m\u001b[0m\u001b[0;34m\u001b[0m\u001b[0m\n\u001b[1;32m     26\u001b[0m \u001b[0;34m\u001b[0m\u001b[0m\n\u001b[0;32m---> 27\u001b[0;31m   \u001b[0;32massert\u001b[0m \u001b[0misinstance\u001b[0m\u001b[0;34m(\u001b[0m\u001b[0ma\u001b[0m\u001b[0;34m,\u001b[0m \u001b[0mlist\u001b[0m\u001b[0;34m)\u001b[0m\u001b[0;34m,\u001b[0m \u001b[0;34mf'a is expected to be a list of ints but is {type(a)}'\u001b[0m\u001b[0;34m\u001b[0m\u001b[0;34m\u001b[0m\u001b[0m\n\u001b[0m\u001b[1;32m     28\u001b[0m   \u001b[0;32massert\u001b[0m \u001b[0misinstance\u001b[0m\u001b[0;34m(\u001b[0m\u001b[0mb\u001b[0m\u001b[0;34m,\u001b[0m \u001b[0mlist\u001b[0m\u001b[0;34m)\u001b[0m\u001b[0;34m,\u001b[0m \u001b[0;34mf'b is expected to be a list of ints but is {type(b)}'\u001b[0m\u001b[0;34m\u001b[0m\u001b[0;34m\u001b[0m\u001b[0m\n\u001b[1;32m     29\u001b[0m   \u001b[0;32massert\u001b[0m \u001b[0mlen\u001b[0m\u001b[0;34m(\u001b[0m\u001b[0ma\u001b[0m\u001b[0;34m)\u001b[0m \u001b[0;34m==\u001b[0m \u001b[0mlen\u001b[0m\u001b[0;34m(\u001b[0m\u001b[0mb\u001b[0m\u001b[0;34m)\u001b[0m\u001b[0;34m,\u001b[0m \u001b[0;34mf'length of a and b are not equal'\u001b[0m\u001b[0;34m\u001b[0m\u001b[0;34m\u001b[0m\u001b[0m\n",
            "\u001b[0;31mAssertionError\u001b[0m: a is expected to be a list of ints but is <class 'int'>"
          ]
        }
      ]
    },
    {
      "cell_type": "code",
      "metadata": {
        "id": "RUo5qw9dpw5k",
        "colab": {
          "base_uri": "https://localhost:8080/",
          "height": 263
        },
        "outputId": "ee767da7-8a0a-4107-bcb2-8e330011faff"
      },
      "source": [
        "add_lists([1,2,3], [4,5]) # no way presently to use typing to enforce same length - maybe in future"
      ],
      "execution_count": null,
      "outputs": [
        {
          "output_type": "error",
          "ename": "AssertionError",
          "evalue": "length of a and b are not equal",
          "traceback": [
            "\u001b[0;31m---------------------------------------------------------------------------\u001b[0m",
            "\u001b[0;31mAssertionError\u001b[0m                            Traceback (most recent call last)",
            "\u001b[0;32m<ipython-input-317-b7539387488a>\u001b[0m in \u001b[0;36m<cell line: 0>\u001b[0;34m()\u001b[0m\n\u001b[0;32m----> 1\u001b[0;31m \u001b[0madd_lists\u001b[0m\u001b[0;34m(\u001b[0m\u001b[0;34m[\u001b[0m\u001b[0;36m1\u001b[0m\u001b[0;34m,\u001b[0m\u001b[0;36m2\u001b[0m\u001b[0;34m,\u001b[0m\u001b[0;36m3\u001b[0m\u001b[0;34m]\u001b[0m\u001b[0;34m,\u001b[0m \u001b[0;34m[\u001b[0m\u001b[0;36m4\u001b[0m\u001b[0;34m,\u001b[0m\u001b[0;36m5\u001b[0m\u001b[0;34m]\u001b[0m\u001b[0;34m)\u001b[0m \u001b[0;31m# no way presently to use typing to enforce same length - maybe in future\u001b[0m\u001b[0;34m\u001b[0m\u001b[0;34m\u001b[0m\u001b[0m\n\u001b[0m",
            "\u001b[0;32m<ipython-input-312-d2ba3688c9ff>\u001b[0m in \u001b[0;36madd_lists\u001b[0;34m(a, b)\u001b[0m\n\u001b[1;32m     27\u001b[0m   \u001b[0;32massert\u001b[0m \u001b[0misinstance\u001b[0m\u001b[0;34m(\u001b[0m\u001b[0ma\u001b[0m\u001b[0;34m,\u001b[0m \u001b[0mlist\u001b[0m\u001b[0;34m)\u001b[0m\u001b[0;34m,\u001b[0m \u001b[0;34mf'a is expected to be a list of ints but is {type(a)}'\u001b[0m\u001b[0;34m\u001b[0m\u001b[0;34m\u001b[0m\u001b[0m\n\u001b[1;32m     28\u001b[0m   \u001b[0;32massert\u001b[0m \u001b[0misinstance\u001b[0m\u001b[0;34m(\u001b[0m\u001b[0mb\u001b[0m\u001b[0;34m,\u001b[0m \u001b[0mlist\u001b[0m\u001b[0;34m)\u001b[0m\u001b[0;34m,\u001b[0m \u001b[0;34mf'b is expected to be a list of ints but is {type(b)}'\u001b[0m\u001b[0;34m\u001b[0m\u001b[0;34m\u001b[0m\u001b[0m\n\u001b[0;32m---> 29\u001b[0;31m   \u001b[0;32massert\u001b[0m \u001b[0mlen\u001b[0m\u001b[0;34m(\u001b[0m\u001b[0ma\u001b[0m\u001b[0;34m)\u001b[0m \u001b[0;34m==\u001b[0m \u001b[0mlen\u001b[0m\u001b[0;34m(\u001b[0m\u001b[0mb\u001b[0m\u001b[0;34m)\u001b[0m\u001b[0;34m,\u001b[0m \u001b[0;34mf'length of a and b are not equal'\u001b[0m\u001b[0;34m\u001b[0m\u001b[0;34m\u001b[0m\u001b[0m\n\u001b[0m\u001b[1;32m     30\u001b[0m   \u001b[0;32massert\u001b[0m \u001b[0mall\u001b[0m\u001b[0;34m(\u001b[0m\u001b[0;34m[\u001b[0m\u001b[0misinstance\u001b[0m\u001b[0;34m(\u001b[0m\u001b[0mi\u001b[0m\u001b[0;34m,\u001b[0m \u001b[0mint\u001b[0m\u001b[0;34m)\u001b[0m \u001b[0;32mfor\u001b[0m \u001b[0mi\u001b[0m \u001b[0;32min\u001b[0m \u001b[0ma\u001b[0m\u001b[0;34m]\u001b[0m\u001b[0;34m)\u001b[0m\u001b[0;34m,\u001b[0m \u001b[0;34mf'a list contains an non int'\u001b[0m\u001b[0;34m\u001b[0m\u001b[0;34m\u001b[0m\u001b[0m\n\u001b[1;32m     31\u001b[0m   \u001b[0;32massert\u001b[0m \u001b[0mall\u001b[0m\u001b[0;34m(\u001b[0m\u001b[0;34m[\u001b[0m\u001b[0misinstance\u001b[0m\u001b[0;34m(\u001b[0m\u001b[0mi\u001b[0m\u001b[0;34m,\u001b[0m \u001b[0mint\u001b[0m\u001b[0;34m)\u001b[0m \u001b[0;32mfor\u001b[0m \u001b[0mi\u001b[0m \u001b[0;32min\u001b[0m \u001b[0mb\u001b[0m\u001b[0;34m]\u001b[0m\u001b[0;34m)\u001b[0m\u001b[0;34m,\u001b[0m \u001b[0;34mf'b list contains an non int'\u001b[0m\u001b[0;34m\u001b[0m\u001b[0;34m\u001b[0m\u001b[0m\n",
            "\u001b[0;31mAssertionError\u001b[0m: length of a and b are not equal"
          ]
        }
      ]
    },
    {
      "cell_type": "code",
      "metadata": {
        "id": "POaxRS_mpzmO",
        "colab": {
          "base_uri": "https://localhost:8080/",
          "height": 263
        },
        "outputId": "773d8c60-846a-4f2d-a26c-40b74e64f82b"
      },
      "source": [
        "add_lists([1, 2],[3, 4.5]) # notice red underscore"
      ],
      "execution_count": null,
      "outputs": [
        {
          "output_type": "error",
          "ename": "AssertionError",
          "evalue": "b list contains an non int",
          "traceback": [
            "\u001b[0;31m---------------------------------------------------------------------------\u001b[0m",
            "\u001b[0;31mAssertionError\u001b[0m                            Traceback (most recent call last)",
            "\u001b[0;32m<ipython-input-318-c4577410a949>\u001b[0m in \u001b[0;36m<cell line: 0>\u001b[0;34m()\u001b[0m\n\u001b[0;32m----> 1\u001b[0;31m \u001b[0madd_lists\u001b[0m\u001b[0;34m(\u001b[0m\u001b[0;34m[\u001b[0m\u001b[0;36m1\u001b[0m\u001b[0;34m,\u001b[0m \u001b[0;36m2\u001b[0m\u001b[0;34m]\u001b[0m\u001b[0;34m,\u001b[0m\u001b[0;34m[\u001b[0m\u001b[0;36m3\u001b[0m\u001b[0;34m,\u001b[0m \u001b[0;36m4.5\u001b[0m\u001b[0;34m]\u001b[0m\u001b[0;34m)\u001b[0m \u001b[0;31m# notice red underscore\u001b[0m\u001b[0;34m\u001b[0m\u001b[0;34m\u001b[0m\u001b[0m\n\u001b[0m",
            "\u001b[0;32m<ipython-input-312-d2ba3688c9ff>\u001b[0m in \u001b[0;36madd_lists\u001b[0;34m(a, b)\u001b[0m\n\u001b[1;32m     29\u001b[0m   \u001b[0;32massert\u001b[0m \u001b[0mlen\u001b[0m\u001b[0;34m(\u001b[0m\u001b[0ma\u001b[0m\u001b[0;34m)\u001b[0m \u001b[0;34m==\u001b[0m \u001b[0mlen\u001b[0m\u001b[0;34m(\u001b[0m\u001b[0mb\u001b[0m\u001b[0;34m)\u001b[0m\u001b[0;34m,\u001b[0m \u001b[0;34mf'length of a and b are not equal'\u001b[0m\u001b[0;34m\u001b[0m\u001b[0;34m\u001b[0m\u001b[0m\n\u001b[1;32m     30\u001b[0m   \u001b[0;32massert\u001b[0m \u001b[0mall\u001b[0m\u001b[0;34m(\u001b[0m\u001b[0;34m[\u001b[0m\u001b[0misinstance\u001b[0m\u001b[0;34m(\u001b[0m\u001b[0mi\u001b[0m\u001b[0;34m,\u001b[0m \u001b[0mint\u001b[0m\u001b[0;34m)\u001b[0m \u001b[0;32mfor\u001b[0m \u001b[0mi\u001b[0m \u001b[0;32min\u001b[0m \u001b[0ma\u001b[0m\u001b[0;34m]\u001b[0m\u001b[0;34m)\u001b[0m\u001b[0;34m,\u001b[0m \u001b[0;34mf'a list contains an non int'\u001b[0m\u001b[0;34m\u001b[0m\u001b[0;34m\u001b[0m\u001b[0m\n\u001b[0;32m---> 31\u001b[0;31m   \u001b[0;32massert\u001b[0m \u001b[0mall\u001b[0m\u001b[0;34m(\u001b[0m\u001b[0;34m[\u001b[0m\u001b[0misinstance\u001b[0m\u001b[0;34m(\u001b[0m\u001b[0mi\u001b[0m\u001b[0;34m,\u001b[0m \u001b[0mint\u001b[0m\u001b[0;34m)\u001b[0m \u001b[0;32mfor\u001b[0m \u001b[0mi\u001b[0m \u001b[0;32min\u001b[0m \u001b[0mb\u001b[0m\u001b[0;34m]\u001b[0m\u001b[0;34m)\u001b[0m\u001b[0;34m,\u001b[0m \u001b[0;34mf'b list contains an non int'\u001b[0m\u001b[0;34m\u001b[0m\u001b[0;34m\u001b[0m\u001b[0m\n\u001b[0m\u001b[1;32m     32\u001b[0m \u001b[0;34m\u001b[0m\u001b[0m\n\u001b[1;32m     33\u001b[0m   \u001b[0mresult\u001b[0m \u001b[0;34m=\u001b[0m \u001b[0;34m[\u001b[0m\u001b[0mx\u001b[0m \u001b[0;34m+\u001b[0m \u001b[0my\u001b[0m \u001b[0;32mfor\u001b[0m \u001b[0mx\u001b[0m\u001b[0;34m,\u001b[0m \u001b[0my\u001b[0m \u001b[0;32min\u001b[0m \u001b[0mzip\u001b[0m\u001b[0;34m(\u001b[0m\u001b[0ma\u001b[0m\u001b[0;34m,\u001b[0m \u001b[0mb\u001b[0m\u001b[0;34m)\u001b[0m\u001b[0;34m]\u001b[0m \u001b[0;31m# adds zipped tuples together, handles negatives on next line\u001b[0m\u001b[0;34m\u001b[0m\u001b[0;34m\u001b[0m\u001b[0m\n",
            "\u001b[0;31mAssertionError\u001b[0m: b list contains an non int"
          ]
        }
      ]
    },
    {
      "cell_type": "markdown",
      "metadata": {
        "id": "4ABh50H4CGEu"
      },
      "source": [
        "#Challenge 2\n",
        "<img src='https://www.dropbox.com/s/3uyvp722kp5to2r/assignment.png?raw=1' width='300'>\n",
        "\n",
        "If \"women and children first\" was the ethics of the day, use plotting to find a likely cut off age for \"children\". At what age did children perish at same rate as everyone else?\n",
        "\n",
        "Given that there was no definition of children age, it was up to officers on deck to make subjective judgement. The data helps us see what they were using.\n",
        "\n",
        "**One caveat**: since females survived at much higher rate than males, let's look at males only. This should give us a better indication of where cutoff was.\n",
        "\n",
        "Show your plots and your conclusion.\n"
      ]
    },
    {
      "cell_type": "code",
      "metadata": {
        "id": "ANg46mGbJp9M"
      },
      "source": [
        "#subset the table with males under 25\n",
        "male_young_table = titanic_table.query('Gender == \"Male\" and Age < 25')"
      ],
      "execution_count": null,
      "outputs": []
    },
    {
      "cell_type": "code",
      "metadata": {
        "id": "0-TBYpRSJp9N",
        "colab": {
          "base_uri": "https://localhost:8080/",
          "height": 561
        },
        "outputId": "529802f1-da66-4297-ec4f-b967f8dc9edb"
      },
      "source": [
        "#crosstab to get survival of this group\n",
        "pd_crosstab = pd.crosstab(male_young_table['Gender'], male_young_table['Survived']).plot(kind='bar', figsize=(10,6), grid=True, logy=True)"
      ],
      "execution_count": null,
      "outputs": [
        {
          "output_type": "display_data",
          "data": {
            "text/plain": [
              "<Figure size 1000x600 with 1 Axes>"
            ],
            "image/png": "[encoded data removed]"
          },
          "metadata": {}
        }
      ]
    },
    {
      "cell_type": "markdown",
      "metadata": {
        "id": "101nLyXsC6mm"
      },
      "source": [
        "#Challenge 3\n",
        "<img src='https://www.dropbox.com/s/3uyvp722kp5to2r/assignment.png?raw=1' width='300'>\n",
        "\n",
        "Figure out how to remove duplicate rows and make sure index has no gaps.\n",
        "\n",
        "I'll give you a small table to test on. It has duplicate rows so remove one of them. Find the pandas method that deals with duplicates to do this. At the same time, look for the pandas method for filling in gaps in the index. You should be able to chain them together.\n"
      ]
    },
    {
      "cell_type": "code",
      "metadata": {
        "id": "THpaDBy6D4Hp",
        "colab": {
          "base_uri": "https://localhost:8080/"
        },
        "outputId": "3f6f812a-4a85-4518-e7d0-9f797ba34f2c"
      },
      "source": [
        "test_df = pd.DataFrame({'a': [1,2,2,4], 'b':[3,1,1,5]})\n",
        "print(test_df)"
      ],
      "execution_count": null,
      "outputs": [
        {
          "output_type": "stream",
          "name": "stdout",
          "text": [
            "   a  b\n",
            "0  1  3\n",
            "1  2  1\n",
            "2  2  1\n",
            "3  4  5\n"
          ]
        }
      ]
    },
    {
      "cell_type": "markdown",
      "metadata": {
        "id": "WEqGOMrrCva2"
      },
      "source": [
        "###Ok, make assert True\n",
        "\n",
        "Don't change `test_df`. Create a new table `new_df`, instead, with the changes. Here is your target. Notice the index has no gaps.\n",
        "\n",
        "<img src='https://www.dropbox.com/s/y94jo92nhdr1fr6/Screen%20Shot%202021-10-22%20at%2011.06.27%20AM.png?raw=1' height=150>"
      ]
    },
    {
      "cell_type": "code",
      "metadata": {
        "id": "smvVrVHyEVH5",
        "colab": {
          "base_uri": "https://localhost:8080/"
        },
        "outputId": "7cc9413e-b8ec-4c5e-8428-f9909556d372"
      },
      "source": [
        "new_df = test_df.drop_duplicates().reset_index(drop=True)\n",
        "print(new_df)"
      ],
      "execution_count": null,
      "outputs": [
        {
          "output_type": "stream",
          "name": "stdout",
          "text": [
            "   a  b\n",
            "0  1  3\n",
            "1  2  1\n",
            "2  4  5\n"
          ]
        }
      ]
    },
    {
      "cell_type": "markdown",
      "source": [
        "<pre>\n",
        "     a\tb\n",
        "0\t1\t3\n",
        "1\t2\t1\n",
        "2\t4\t5\n",
        "</pre>"
      ],
      "metadata": {
        "id": "R8U8VS-zVu5o"
      }
    },
    {
      "cell_type": "code",
      "metadata": {
        "id": "BmsnlGz4EkV0"
      },
      "source": [
        "#don't modify this cell - make it True\n",
        "assert len(new_df)+1 == len(test_df)\n",
        "assert len(new_df.loc[2])==2, f'len is {len(new_df.loc[2])}'  #make sure column not dropped\n",
        "assert new_df.loc[2,'a']==4, f'loc[2,\"a\"] not 4 but {new_df.loc[2,\"a\"]}'  #make sure index looks ok"
      ],
      "execution_count": null,
      "outputs": []
    },
    {
      "cell_type": "markdown",
      "metadata": {
        "id": "xTbcZiLE55_w"
      },
      "source": [
        "#Challenge 4\n",
        "<img src='https://www.dropbox.com/s/3uyvp722kp5to2r/assignment.png?raw=1' width='300'>\n",
        "\n",
        "This is a chance to get some Python practice. Here is an article that introduces a means of measuring the correlation between 2 columns. Read the article. Then implement a function `my_distance_correlation(a,b)`. Test it out on the `Age` and `Fare` columns. [Distance correlation article](https://towardsdatascience.com/introducing-distance-correlation-a-superior-correlation-metric-d569dc8900c7).\n",
        "\n",
        "I'm asking you to use the final 100 values in `Age` and `Fare` because they do not contain any NaN values, which would screw up our code.\n",
        "\n",
        "You can use a library method as an oracle:\n",
        "<pre>\n",
        "!pip install dcor\n",
        "import dcor\n",
        "\n",
        "dcor.distance_correlation(np.array(a),np.array(b))  #0.31412993552690227\n",
        "</pre>\n",
        "where `a` and `b` are the list of the **final** 100 column values in `Age` and `Fare`. You will have to slice to get the last 100. The value 0.`31412993552690227` is your target."
      ]
    },
    {
      "cell_type": "code",
      "metadata": {
        "id": "4Hc69Jqq764N",
        "colab": {
          "base_uri": "https://localhost:8080/"
        },
        "outputId": "3989eb38-b150-4021-f71e-9f7e69152812"
      },
      "source": [
        "#slice to get a and b as plain python lists (not numpy arrays)\n",
        "a = titanic_table['Age'][-100:]\n",
        "b = titanic_table['Fare'][-100:]\n",
        "\n",
        "a = [i for i in a]\n",
        "b = [i for i in b]\n",
        "print(a)\n",
        "print(b)"
      ],
      "execution_count": null,
      "outputs": [
        {
          "output_type": "stream",
          "name": "stdout",
          "text": [
            "[47.0, 54.0, 43.0, 52.0, 28.0, 61.0, 30.0, 25.0, 32.0, 20.0, 45.0, 14.0, 46.0, 24.0, 24.0, 1.0, 16.0, 18.0, 39.0, 48.0, 23.0, 28.0, 49.0, 25.0, 27.0, 17.0, 39.0, 46.0, 23.0, 30.0, 36.0, 37.0, 32.0, 44.0, 25.0, 29.0, 50.0, 41.0, 27.0, 27.0, 8.0, 9.0, 27.0, 31.0, 18.0, 64.0, 26.0, 22.0, 32.0, 36.0, 37.0, 37.0, 32.0, 60.0, 12.0, 40.0, 38.0, 52.0, 37.0, 30.0, 2.0, 4.0, 29.0, 27.0, 1.0, 4.0, 33.0, 30.0, 28.0, 31.0, 32.0, 23.0, 55.0, 18.0, 31.0, 45.0, 50.0, 37.0, 47.0, 30.0, 21.0, 23.0, 21.0, 28.0, 33.0, 38.0, 31.0, 45.0, 26.0, 47.0, 41.0, 17.0, 40.0, 36.0, 4.0, 2.0, 23.0, 22.0, 22.0, 27.0]\n",
            "[0.0, 55.0, 55.0, 78.0, 0.0, 80.0, 7.0, 0.0, 30.0, 8.0, 7.0, 9.0, 25.0, 0.0, 69.0, 8.0, 8.0, 79.0, 79.0, 52.0, 0.0, 0.0, 52.0, 7.0, 0.0, 110.0, 110.0, 0.0, 0.0, 0.0, 0.0, 80.0, 16.0, 0.0, 0.0, 0.0, 10.0, 0.0, 12.0, 10.0, 15.0, 15.0, 15.0, 28.0, 9.0, 9.0, 19.54, 7.0, 0.0, 21.0, 512.0, 0.0, 21.0, 75.0, 15.0, 15.0, 13.0, 0.0, 26.0, 0.0, 23.0, 23.0, 23.0, 7.0, 27.0, 27.0, 27.0, 0.0, 0.0, 13.0, 0.0, 0.0, 135.0, 0.0, 164.0, 164.0, 211.0, 0.0, 7.0, 26.0, 26.0, 13.0, 61.0, 0.0, 134.0, 0.0, 0.0, 35.0, 13.0, 0.0, 0.0, 14.0, 0.0, 135.0, 22.0, 22.0, 22.0, 7.0, 61.0, 7.0]\n"
          ]
        }
      ]
    },
    {
      "cell_type": "code",
      "source": [
        "#your oracle\n",
        "!pip install dcor\n",
        "import dcor as dc\n",
        "import numpy as np\n",
        "\n",
        "dc.distance_correlation(np.array(a),np.array(b))  #0.31412993552690227"
      ],
      "metadata": {
        "id": "XoNz8aHIrfkR",
        "collapsed": true,
        "colab": {
          "base_uri": "https://localhost:8080/"
        },
        "outputId": "c72f6b8e-f619-4f06-819f-2eccb7ac144e"
      },
      "execution_count": null,
      "outputs": [
        {
          "output_type": "stream",
          "name": "stdout",
          "text": [
            "Requirement already satisfied: dcor in /usr/local/lib/python3.11/dist-packages (0.6)\n",
            "Requirement already satisfied: numpy in /usr/local/lib/python3.11/dist-packages (from dcor) (2.0.2)\n",
            "Requirement already satisfied: numba>=0.51 in /usr/local/lib/python3.11/dist-packages (from dcor) (0.60.0)\n",
            "Requirement already satisfied: scipy in /usr/local/lib/python3.11/dist-packages (from dcor) (1.14.1)\n",
            "Requirement already satisfied: joblib in /usr/local/lib/python3.11/dist-packages (from dcor) (1.4.2)\n",
            "Requirement already satisfied: llvmlite<0.44,>=0.43.0dev0 in /usr/local/lib/python3.11/dist-packages (from numba>=0.51->dcor) (0.43.0)\n"
          ]
        },
        {
          "output_type": "execute_result",
          "data": {
            "text/plain": [
              "np.float64(0.31412993552690116)"
            ]
          },
          "metadata": {},
          "execution_count": 325
        }
      ]
    },
    {
      "cell_type": "markdown",
      "metadata": {
        "id": "Ca91k6g8tysE"
      },
      "source": [
        "##Here is the general formula\n",
        "\n",
        "<img src='https://www.dropbox.com/s/ywqbbd6qn8jchwu/Screen%20Shot%202021-08-27%20at%2010.44.29%20AM.png?raw=1' height=150>\n",
        "\n",
        "In words, the distance correlation (dCor) between 2 vectors X and Y is (a) the distance covariance (dCov) between X and Y, divided by (b) the distance variance (dVar) of X alone times the distance variance of Y alone taken to the .5 power (square root).\n",
        "\n",
        "We will break this into steps below."
      ]
    },
    {
      "cell_type": "markdown",
      "metadata": {
        "id": "d-XkkIXFz6h8"
      },
      "source": [
        "##Reminder of what is in `a` and `b`"
      ]
    },
    {
      "cell_type": "code",
      "metadata": {
        "id": "B5GRDODsz-6c",
        "colab": {
          "base_uri": "https://localhost:8080/"
        },
        "outputId": "3d9877d4-7e8b-43d7-ab3f-1fcc594e9dd6"
      },
      "source": [
        "print(a[:5])  #[47.0, 54.0, 43.0, 52.0, 28.0]  #Age\n",
        "print(b[:5])  #[0.0, 55.0, 55.0, 78.0, 0.0]    #Fare"
      ],
      "execution_count": null,
      "outputs": [
        {
          "output_type": "stream",
          "name": "stdout",
          "text": [
            "[47.0, 54.0, 43.0, 52.0, 28.0]\n",
            "[0.0, 55.0, 55.0, 78.0, 0.0]\n"
          ]
        }
      ]
    },
    {
      "cell_type": "markdown",
      "metadata": {
        "id": "siU5BdrHY4zb"
      },
      "source": [
        "##Constraint 1: Pure Python\n",
        "\n",
        "I would like you to practice with pure Python. No outside libraries can be used, e.g., no numpy."
      ]
    },
    {
      "cell_type": "markdown",
      "metadata": {
        "id": "pKLSWN1CaE23"
      },
      "source": [
        "##Constraint 2: List Comprehensions when you can\n",
        "\n",
        "Please avoid a for-loop when you can use a list comprehension instead. I'll give you hints along the way."
      ]
    },
    {
      "cell_type": "markdown",
      "metadata": {
        "id": "t73efognm2lI"
      },
      "source": [
        "##Step 4.1 Build a distance matrix for both `Age` and `Fare`\n",
        "\n",
        "Read the paper first to get a general idea of what is going on. The paper breaks computation into steps and I'll do the same. Here is the first step:\n",
        "\n",
        "<img src='https://miro.medium.com/max/1400/1*rrv85K1EkS4B9tLnugY9-Q.png'>\n",
        "\n",
        "We are building a \"distance matrix\" for each list of ages and fares. To decipher, looking at the matrix `aj,k`, the first 2 rows are as follows:\n",
        "<pre>\n",
        "[abs(a[0]-a[0]), abs(a[0]-a[1]), abs(a[0]-a[2]), ...]  #row 1\n",
        "[abs(a[1]-a[0]), abs(a[1]-a[1]), abs(a[1]-a[2]), ...]  #row 2\n",
        "...\n",
        "</pre>\n",
        "Remember `a` is a list of ages (an array, not a matrix). We are converting it to a distance matrix following method above. We should end up with a 100 by 100 matrix if `a` is length 100 to start.\n",
        "\n",
        "If you have sharp eyes, you may notice that row 1 == column 1, etc."
      ]
    },
    {
      "cell_type": "markdown",
      "metadata": {
        "id": "9D3C85R0uomI"
      },
      "source": [
        "Please write a function that will compute a distance matrix for a python list of values.\n",
        "\n",
        "Note I am showing you scipy and numpy code that does this for you. I think it is ugly and hard to understand. I suppose its benefit is that it is fast. But might be worth looking at speed comparison with your straight Python code. Some other time."
      ]
    },
    {
      "cell_type": "code",
      "metadata": {
        "id": "0nk2_JGVee1b"
      },
      "source": [
        "'''\n",
        "from scipy.spatial.distance import pdist, squareform\n",
        "A = a[:, None]  #numpy rescaling required for pdist - yuck\n",
        "B = b[:, None]\n",
        "dmatrix_a = squareform(pdist(A))\n",
        "dmatrix_b = squareform(pdist(B))\n",
        "'''\n",
        "\n",
        "def compute_distance_matrix(a: List[float]) -> List[List[float]]:\n",
        "    \"\"\"Computes the distance matrix for a list of values.\n",
        "\n",
        "    This function takes a list of numeric values (e.g., floats)\n",
        "    and calculates the distance matrix, where each element (i, j)\n",
        "    represents the absolute difference between elements a[i] and a[j].\n",
        "\n",
        "    Args:\n",
        "    a: The list of numeric values.\n",
        "\n",
        "    Returns:\n",
        "    The distance matrix as a list of lists.\n",
        "\n",
        "    Raises:\n",
        "    AssertionError: If `a` is not a list or if it contains\n",
        "    elements that are not numeric.\n",
        "    \"\"\"\n",
        "    assert isinstance(a, list), f'expecting a to be list but is instead {type(a)}'\n",
        "    assert all([isinstance(v, (int, float)) for v in a]), f'expecting a to be list of numbers but is instead list of {type(a[0]) if len(a) > 0 else \"empty list\"}'\n",
        "\n",
        "    #your code below. I used for-loop and list-comprehension tandem.\n",
        "    # abs diffrence between a[i] - a[j]\n",
        "    result = [[abs(a[i] - a[j]) for j in range(len(a))] for i in range(len(a))]\n",
        "    return result\n",
        "\n"
      ],
      "execution_count": null,
      "outputs": []
    },
    {
      "cell_type": "code",
      "source": [
        " ac = [.3, 1.2, 5.4, 3.1]\n",
        " n = len(ac)\n",
        " [[abs(ac[i] - ac[j]) for i in range(n)] for j in range(n)]"
      ],
      "metadata": {
        "id": "LLpigeUB6LC2",
        "colab": {
          "base_uri": "https://localhost:8080/"
        },
        "outputId": "e2f3e41f-5ef7-4b54-a596-4d427a6cfe42"
      },
      "execution_count": null,
      "outputs": [
        {
          "output_type": "execute_result",
          "data": {
            "text/plain": [
              "[[0.0, 0.8999999999999999, 5.1000000000000005, 2.8000000000000003],\n",
              " [0.8999999999999999, 0.0, 4.2, 1.9000000000000001],\n",
              " [5.1000000000000005, 4.2, 0.0, 2.3000000000000003],\n",
              " [2.8000000000000003, 1.9000000000000001, 2.3000000000000003, 0.0]]"
            ]
          },
          "metadata": {},
          "execution_count": 329
        }
      ]
    },
    {
      "cell_type": "code",
      "metadata": {
        "id": "cmbOoWRnaCbu",
        "colab": {
          "base_uri": "https://localhost:8080/"
        },
        "outputId": "413bfcb6-d9f6-4586-f0cd-a3011b4a9885"
      },
      "source": [
        "dmatrix_a = compute_distance_matrix(a)\n",
        "dmatrix_b = compute_distance_matrix(b)\n",
        "\n",
        "print(a)  #[47.0, 54.0, 43.0, 52.0, 28.0, 61.0, 30.0, 25.0, ...\n",
        "print('========')\n",
        "print(dmatrix_a[0])  #[0.0, 7.0, 4.0, 5.0, 19.0, 14.0, 17.0, 22.0, 15.0, ...\n",
        "print(dmatrix_a[1])  #[7.0, 0.0, 11.0, 2.0, 26.0, 7.0, 24.0, 29.0, 22.0, ...\n",
        "print(dmatrix_a[2])  #[4.0, 11.0, 0.0, 9.0, 15.0, 18.0, 13.0, 18.0, 11.0,..."
      ],
      "execution_count": null,
      "outputs": [
        {
          "output_type": "stream",
          "name": "stdout",
          "text": [
            "[47.0, 54.0, 43.0, 52.0, 28.0, 61.0, 30.0, 25.0, 32.0, 20.0, 45.0, 14.0, 46.0, 24.0, 24.0, 1.0, 16.0, 18.0, 39.0, 48.0, 23.0, 28.0, 49.0, 25.0, 27.0, 17.0, 39.0, 46.0, 23.0, 30.0, 36.0, 37.0, 32.0, 44.0, 25.0, 29.0, 50.0, 41.0, 27.0, 27.0, 8.0, 9.0, 27.0, 31.0, 18.0, 64.0, 26.0, 22.0, 32.0, 36.0, 37.0, 37.0, 32.0, 60.0, 12.0, 40.0, 38.0, 52.0, 37.0, 30.0, 2.0, 4.0, 29.0, 27.0, 1.0, 4.0, 33.0, 30.0, 28.0, 31.0, 32.0, 23.0, 55.0, 18.0, 31.0, 45.0, 50.0, 37.0, 47.0, 30.0, 21.0, 23.0, 21.0, 28.0, 33.0, 38.0, 31.0, 45.0, 26.0, 47.0, 41.0, 17.0, 40.0, 36.0, 4.0, 2.0, 23.0, 22.0, 22.0, 27.0]\n",
            "========\n",
            "[0.0, 7.0, 4.0, 5.0, 19.0, 14.0, 17.0, 22.0, 15.0, 27.0, 2.0, 33.0, 1.0, 23.0, 23.0, 46.0, 31.0, 29.0, 8.0, 1.0, 24.0, 19.0, 2.0, 22.0, 20.0, 30.0, 8.0, 1.0, 24.0, 17.0, 11.0, 10.0, 15.0, 3.0, 22.0, 18.0, 3.0, 6.0, 20.0, 20.0, 39.0, 38.0, 20.0, 16.0, 29.0, 17.0, 21.0, 25.0, 15.0, 11.0, 10.0, 10.0, 15.0, 13.0, 35.0, 7.0, 9.0, 5.0, 10.0, 17.0, 45.0, 43.0, 18.0, 20.0, 46.0, 43.0, 14.0, 17.0, 19.0, 16.0, 15.0, 24.0, 8.0, 29.0, 16.0, 2.0, 3.0, 10.0, 0.0, 17.0, 26.0, 24.0, 26.0, 19.0, 14.0, 9.0, 16.0, 2.0, 21.0, 0.0, 6.0, 30.0, 7.0, 11.0, 43.0, 45.0, 24.0, 25.0, 25.0, 20.0]\n",
            "[7.0, 0.0, 11.0, 2.0, 26.0, 7.0, 24.0, 29.0, 22.0, 34.0, 9.0, 40.0, 8.0, 30.0, 30.0, 53.0, 38.0, 36.0, 15.0, 6.0, 31.0, 26.0, 5.0, 29.0, 27.0, 37.0, 15.0, 8.0, 31.0, 24.0, 18.0, 17.0, 22.0, 10.0, 29.0, 25.0, 4.0, 13.0, 27.0, 27.0, 46.0, 45.0, 27.0, 23.0, 36.0, 10.0, 28.0, 32.0, 22.0, 18.0, 17.0, 17.0, 22.0, 6.0, 42.0, 14.0, 16.0, 2.0, 17.0, 24.0, 52.0, 50.0, 25.0, 27.0, 53.0, 50.0, 21.0, 24.0, 26.0, 23.0, 22.0, 31.0, 1.0, 36.0, 23.0, 9.0, 4.0, 17.0, 7.0, 24.0, 33.0, 31.0, 33.0, 26.0, 21.0, 16.0, 23.0, 9.0, 28.0, 7.0, 13.0, 37.0, 14.0, 18.0, 50.0, 52.0, 31.0, 32.0, 32.0, 27.0]\n",
            "[4.0, 11.0, 0.0, 9.0, 15.0, 18.0, 13.0, 18.0, 11.0, 23.0, 2.0, 29.0, 3.0, 19.0, 19.0, 42.0, 27.0, 25.0, 4.0, 5.0, 20.0, 15.0, 6.0, 18.0, 16.0, 26.0, 4.0, 3.0, 20.0, 13.0, 7.0, 6.0, 11.0, 1.0, 18.0, 14.0, 7.0, 2.0, 16.0, 16.0, 35.0, 34.0, 16.0, 12.0, 25.0, 21.0, 17.0, 21.0, 11.0, 7.0, 6.0, 6.0, 11.0, 17.0, 31.0, 3.0, 5.0, 9.0, 6.0, 13.0, 41.0, 39.0, 14.0, 16.0, 42.0, 39.0, 10.0, 13.0, 15.0, 12.0, 11.0, 20.0, 12.0, 25.0, 12.0, 2.0, 7.0, 6.0, 4.0, 13.0, 22.0, 20.0, 22.0, 15.0, 10.0, 5.0, 12.0, 2.0, 17.0, 4.0, 2.0, 26.0, 3.0, 7.0, 39.0, 41.0, 20.0, 21.0, 21.0, 16.0]\n"
          ]
        }
      ]
    },
    {
      "cell_type": "code",
      "metadata": {
        "id": "n2_5sXd5YxyN",
        "colab": {
          "base_uri": "https://localhost:8080/"
        },
        "outputId": "b4b81042-fc5e-4301-b267-0e0a43c47129"
      },
      "source": [
        "print(len(dmatrix_a), len(dmatrix_a[0])) #100 100"
      ],
      "execution_count": null,
      "outputs": [
        {
          "output_type": "stream",
          "name": "stdout",
          "text": [
            "100 100\n"
          ]
        }
      ]
    },
    {
      "cell_type": "code",
      "metadata": {
        "id": "RwKdpRwvHK2r",
        "colab": {
          "base_uri": "https://localhost:8080/"
        },
        "outputId": "0fcf249e-d2b9-4fff-845f-0bf19193290a"
      },
      "source": [
        "dmatrix_a[0]==[v[0] for v in dmatrix_a]  #matrix is symmetrical, row i == column i"
      ],
      "execution_count": null,
      "outputs": [
        {
          "output_type": "execute_result",
          "data": {
            "text/plain": [
              "True"
            ]
          },
          "metadata": {},
          "execution_count": 332
        }
      ]
    },
    {
      "cell_type": "markdown",
      "metadata": {
        "id": "nlVpx7XgnOvq"
      },
      "source": [
        "##Step 4.2 double centered distances\n",
        "\n",
        "<img src='https://miro.medium.com/max/9600/1*wXEgdSoxnG7SGfCbR7M7zQ.png'>\n",
        "\n",
        "I'm going to break up into sub-problems (bar over variable signifies mean):\n",
        "\n",
        "* compute `aj bar` (mean for each row, giving a 1D array)\n",
        "\n",
        "* compute `ak bar` (mean for each column, giving a 1D array). Note that while I will ask you to compute this with a separate function, you should be able to convice yourself that it is equivalent to `aj bar`, e.g., the mean of row 0 is equal to the mean of column 0, and so forth.\n",
        "\n",
        "* broadcast to get `aj. bar` (repeat `aj bar` n times to get matrix with n duplicate rows)\n",
        "\n",
        "* broadcast to get `a.k bar` (repeat `ak bar` n times to get matrix with n duplicate columns)\n",
        "\n",
        "* Now ready to do normal matrix subtraction with matrices with identical dimensions, i.e., all are 100 by 100.\n",
        "\n",
        "* Finally add in the grand mean `a.. bar` (a scalar).\n",
        "\n",
        "I'll ask you to write a set of functions to help. Then we can apply the functions to both `dmatrix_a` and `dmatrix_b`."
      ]
    },
    {
      "cell_type": "code",
      "metadata": {
        "id": "tbCnPQqJhES2",
        "colab": {
          "base_uri": "https://localhost:8080/"
        },
        "outputId": "1adf2506-0668-4da9-8578-829010893b33"
      },
      "source": [
        "#row mean, i.e., aj bar (will get to the dot shortly)\n",
        "#numpy: dmat.mean(axis=0)\n",
        "\n",
        "def row_mean(dmat: List[List[float]]) -> List[float]:\n",
        "  \"\"\"Calculates the mean of each row in a matrix.\n",
        "\n",
        "  This function takes a matrix (represented as a list of lists)\n",
        "  and computes the mean of each row.\n",
        "\n",
        "  Args:\n",
        "    dmat: The matrix (list of lists) to calculate row means for.\n",
        "\n",
        "  Returns:\n",
        "    A list containing the mean of each row in the input matrix.\n",
        "\n",
        "  Raises:\n",
        "    AssertionError: If `dmat` is not a list, if it is empty,\n",
        "      or if it does not contain lists of equal length.\n",
        "  \"\"\"\n",
        "\n",
        "  assert isinstance(dmat, list), f'expecting dmat to be list but is instead {type(dmat)}'\n",
        "  assert len(dmat) > 0, f'expecting dmat to be non-empty'\n",
        "  assert all([len(row) == len(dmat[0]) for row in dmat]), f'expecting dmat to be list of lists of equal length'\n",
        "\n",
        "  #your code below - I used a single list-comprehension\n",
        "  result = [sum(row)/len(row) for row in dmat]\n",
        "  return result\n",
        "\n",
        "\n",
        "row_mean_a = row_mean(dmatrix_a)\n",
        "row_mean_b = row_mean(dmatrix_b)\n",
        "row_mean_a[:5]  #[17.82, 23.74, 15.2, 21.94, 10.8]"
      ],
      "execution_count": null,
      "outputs": [
        {
          "output_type": "execute_result",
          "data": {
            "text/plain": [
              "[17.82, 23.74, 15.2, 21.94, 10.8]"
            ]
          },
          "metadata": {},
          "execution_count": 333
        }
      ]
    },
    {
      "cell_type": "code",
      "metadata": {
        "id": "F75K4sGbhdlc",
        "colab": {
          "base_uri": "https://localhost:8080/"
        },
        "outputId": "067350e8-af93-49e9-eb22-e8b1a62adaaa"
      },
      "source": [
        "##column mean, i.e., ak bar (will get to the dot shortly)\n",
        "#numpy: dmat.mean(axis=1)\n",
        "\n",
        "def column_mean(dmat: List[List[float]]) -> List[float]:\n",
        "  \"\"\"Calculates the mean of each column in a matrix.\n",
        "\n",
        "  This function takes a matrix (represented as a list of lists)\n",
        "  and computes the mean of each column. It assumes the matrix\n",
        "  is square (i.e., the number of rows equals the number of columns).\n",
        "\n",
        "  Args:\n",
        "    dmat: The matrix (list of lists) to calculate column means for.\n",
        "\n",
        "  Returns:\n",
        "    A list containing the mean of each column in the input matrix.\n",
        "\n",
        "  Raises:\n",
        "    AssertionError: If `dmat` is not a list, if it is empty,\n",
        "      or if it does not contain lists of equal length.\n",
        "  \"\"\"\n",
        "\n",
        "  assert isinstance(dmat, list), f'expecting dmat to be list but is instead {type(dmat)}'\n",
        "  assert len(dmat) > 0, f'expecting dmat to be non-empty'\n",
        "  assert all([len(row) == len(dmat[0]) for row in dmat]), f'expecting dmat to be list of lists of equal length'\n",
        "\n",
        "  #your code below - I used a combination of for-loop and list-comprehension\n",
        "  num_rows = len(dmat)\n",
        "  num_cols = len(dmat[0])\n",
        "\n",
        "  # result sum(col) / len(col); dmat[i][j]\n",
        "  result = [sum(dmat[i][j] for i in range(num_rows)) / num_rows for j in range(num_cols)]\n",
        "  return result\n",
        "\n",
        "col_mean_a = column_mean(dmatrix_a)\n",
        "col_mean_b= column_mean(dmatrix_b)\n",
        "col_mean_a[:5]  #[17.82, 23.74, 15.2, 21.94, 10.8]"
      ],
      "execution_count": null,
      "outputs": [
        {
          "output_type": "execute_result",
          "data": {
            "text/plain": [
              "[17.82, 23.74, 15.2, 21.94, 10.8]"
            ]
          },
          "metadata": {},
          "execution_count": 334
        }
      ]
    },
    {
      "cell_type": "code",
      "metadata": {
        "id": "ygVLQYdxIU2Y",
        "colab": {
          "base_uri": "https://localhost:8080/"
        },
        "outputId": "b1b5ea40-7eab-4634-fdef-eed15a80eb1a"
      },
      "source": [
        "row_mean_a==col_mean_a  #True"
      ],
      "execution_count": null,
      "outputs": [
        {
          "output_type": "execute_result",
          "data": {
            "text/plain": [
              "True"
            ]
          },
          "metadata": {},
          "execution_count": 335
        }
      ]
    },
    {
      "cell_type": "markdown",
      "metadata": {
        "id": "VzPqovIYoBAg"
      },
      "source": [
        "##Problem of dimensions\n",
        "\n",
        "\n",
        "We need to do matrix subtraction but to do so all matrices must be of the same dimensions. We have mean values as 1D arrays so not there yet. The solution is to broadcast, i.e., convert the 1D arrays into 2D matrices that are 100 by 100.\n",
        "\n",
        "First type of broadcasting is by row. Easy peasy. We just repeat a 1D array we have n times. So now have a matrix of n rows, all identical. Specifically, a 100 by 100 matrix.\n",
        "\n",
        "Second type of broadcasting is by column. Same idea. Treat a 1D array we have as a column and repeat it to get matrix with identical columns.\n",
        "\n",
        "This gets us the final `aj. bar` and `a.k bar` that we need, both 100 by 100 matrices."
      ]
    },
    {
      "cell_type": "code",
      "metadata": {
        "id": "2VBlJoRrgcHQ",
        "colab": {
          "base_uri": "https://localhost:8080/"
        },
        "outputId": "05a68233-1bfc-4db2-d609-6a6179a04851"
      },
      "source": [
        "nrows = len(dmatrix_a)  #100\n",
        "ncols = len(dmatrix_a[0])  #100\n",
        "nrows, ncols"
      ],
      "execution_count": null,
      "outputs": [
        {
          "output_type": "execute_result",
          "data": {
            "text/plain": [
              "(100, 100)"
            ]
          },
          "metadata": {},
          "execution_count": 336
        }
      ]
    },
    {
      "cell_type": "code",
      "metadata": {
        "id": "ebqEEa3d5Ghv"
      },
      "source": [
        "#broadcast both in one fell swoop!\n",
        "#numpy: row_matrix_a, col_matrix_a = np.meshgrid(row_mean_a, col_mean_a)"
      ],
      "execution_count": null,
      "outputs": []
    },
    {
      "cell_type": "code",
      "source": [
        "#Python hint\n",
        "\n",
        "row = [0,1,2,3,4]\n",
        "matrix = [row]*5\n",
        "matrix"
      ],
      "metadata": {
        "id": "wRn-EmKmee7s",
        "colab": {
          "base_uri": "https://localhost:8080/"
        },
        "outputId": "491564fb-9da1-479d-f441-4ed015237db4"
      },
      "execution_count": null,
      "outputs": [
        {
          "output_type": "execute_result",
          "data": {
            "text/plain": [
              "[[0, 1, 2, 3, 4],\n",
              " [0, 1, 2, 3, 4],\n",
              " [0, 1, 2, 3, 4],\n",
              " [0, 1, 2, 3, 4],\n",
              " [0, 1, 2, 3, 4]]"
            ]
          },
          "metadata": {},
          "execution_count": 338
        }
      ]
    },
    {
      "cell_type": "code",
      "metadata": {
        "id": "UF8-CgXHeCW0",
        "colab": {
          "base_uri": "https://localhost:8080/"
        },
        "outputId": "7f40f632-25dd-4ec2-f229-8ddd39dedc44"
      },
      "source": [
        "from typing import List, Any\n",
        "\n",
        "def broadcast_row(row: List[Any], n: int) -> List[List[Any]]:\n",
        "  \"\"\"Duplicates a row n times to create a matrix.\n",
        "\n",
        "  This function takes a row (represented as a list) and an integer n,\n",
        "  and creates a matrix by duplicating the row n times.\n",
        "\n",
        "  Args:\n",
        "    row: The row to duplicate.\n",
        "    n: The number of times to duplicate the row.\n",
        "\n",
        "  Returns:\n",
        "    A matrix (list of lists) consisting of n copies of the input row.\n",
        "  \"\"\"\n",
        "  assert isinstance(row, list), f'expecting row to be list but is instead {type(row)}'\n",
        "  assert isinstance(n, int), f'expecting n to be int but is instead {type(n)}'\n",
        "  assert n > 0, f'expecting n to be positive but is instead {n}'\n",
        "\n",
        "  #your code below, either list-comprehension or see my hint above\n",
        "  # result = [row * n for i in row]\n",
        "  result = [row]*n\n",
        "  return result\n",
        "\n",
        "\n",
        "\n",
        "row_matrix_a = broadcast_row(row_mean_a, nrows)\n",
        "row_matrix_b = broadcast_row(row_mean_b, nrows)\n",
        "print(row_matrix_a[0][:10])  #[17.82, 23.74, 15.2, 21.94, 10.8, 30.32, 10.64, 11.62, 10.8, 14.24]\n",
        "print(row_matrix_a[1][:10])  #[17.82, 23.74, 15.2, 21.94, 10.8, 30.32, 10.64, 11.62, 10.8, 14.24]\n",
        "print(len(row_matrix_a[0]))  # needs to be 100\n"
      ],
      "execution_count": null,
      "outputs": [
        {
          "output_type": "stream",
          "name": "stdout",
          "text": [
            "[17.82, 23.74, 15.2, 21.94, 10.8, 30.32, 10.64, 11.62, 10.8, 14.24]\n",
            "[17.82, 23.74, 15.2, 21.94, 10.8, 30.32, 10.64, 11.62, 10.8, 14.24]\n",
            "100\n"
          ]
        }
      ]
    },
    {
      "cell_type": "code",
      "metadata": {
        "id": "34LIuhI2fERw",
        "colab": {
          "base_uri": "https://localhost:8080/"
        },
        "outputId": "26e0e1db-811b-4dd6-dff2-2c202427bb2f"
      },
      "source": [
        "def broadcast_column(col: List[Any], n: int) -> List[List[Any]]:\n",
        "  \"\"\"Duplicates a column n times to create a matrix.\n",
        "\n",
        "  This function takes a column (represented as a list) and an integer n,\n",
        "  and creates a matrix by duplicating the column n times.\n",
        "\n",
        "  Args:\n",
        "    col: The column to duplicate.\n",
        "    n: The number of times to duplicate the column.\n",
        "\n",
        "  Returns:\n",
        "    A matrix (list of lists) consisting of n copies of the input column.\n",
        "    Each inner list in the matrix will represent a row, with the\n",
        "    column's values repeated n times.\n",
        "\n",
        "  Raises:\n",
        "    AssertionError: If `col` is not a list, if `n` is not an integer,\n",
        "      or if `n` is less than or equal to 0.\n",
        "  \"\"\"\n",
        "  assert isinstance(col, list), f'expecting col to be list but is instead {type(col)}'\n",
        "  assert isinstance(n, int), f'expecting n to be int but is instead {type(n)}'\n",
        "  assert n > 0, f'expecting n to be positive but is instead {n}'\n",
        "\n",
        "  #duplicate column n times - I was able to use a list comprehension and avoid for loop\n",
        "  result = [[i] * n for i in col]\n",
        "  return result\n",
        "\n",
        "\n",
        "col_matrix_a = broadcast_column(col_mean_a, ncols)\n",
        "col_matrix_b = broadcast_column(col_mean_b, ncols)\n",
        "print(col_matrix_a[0])  #[17.82, 17.82, 17.82, 17.82, 17.82, 17.82, 17.82, 17.82, ...\n",
        "print(col_matrix_a[1])  #[23.74, 23.74, 23.74, 23.74, 23.74, 23.74, 23.74, 23.74, ...\n",
        "print(len(col_matrix_a[0]))  # needs to be 100"
      ],
      "execution_count": null,
      "outputs": [
        {
          "output_type": "stream",
          "name": "stdout",
          "text": [
            "[17.82, 17.82, 17.82, 17.82, 17.82, 17.82, 17.82, 17.82, 17.82, 17.82, 17.82, 17.82, 17.82, 17.82, 17.82, 17.82, 17.82, 17.82, 17.82, 17.82, 17.82, 17.82, 17.82, 17.82, 17.82, 17.82, 17.82, 17.82, 17.82, 17.82, 17.82, 17.82, 17.82, 17.82, 17.82, 17.82, 17.82, 17.82, 17.82, 17.82, 17.82, 17.82, 17.82, 17.82, 17.82, 17.82, 17.82, 17.82, 17.82, 17.82, 17.82, 17.82, 17.82, 17.82, 17.82, 17.82, 17.82, 17.82, 17.82, 17.82, 17.82, 17.82, 17.82, 17.82, 17.82, 17.82, 17.82, 17.82, 17.82, 17.82, 17.82, 17.82, 17.82, 17.82, 17.82, 17.82, 17.82, 17.82, 17.82, 17.82, 17.82, 17.82, 17.82, 17.82, 17.82, 17.82, 17.82, 17.82, 17.82, 17.82, 17.82, 17.82, 17.82, 17.82, 17.82, 17.82, 17.82, 17.82, 17.82, 17.82]\n",
            "[23.74, 23.74, 23.74, 23.74, 23.74, 23.74, 23.74, 23.74, 23.74, 23.74, 23.74, 23.74, 23.74, 23.74, 23.74, 23.74, 23.74, 23.74, 23.74, 23.74, 23.74, 23.74, 23.74, 23.74, 23.74, 23.74, 23.74, 23.74, 23.74, 23.74, 23.74, 23.74, 23.74, 23.74, 23.74, 23.74, 23.74, 23.74, 23.74, 23.74, 23.74, 23.74, 23.74, 23.74, 23.74, 23.74, 23.74, 23.74, 23.74, 23.74, 23.74, 23.74, 23.74, 23.74, 23.74, 23.74, 23.74, 23.74, 23.74, 23.74, 23.74, 23.74, 23.74, 23.74, 23.74, 23.74, 23.74, 23.74, 23.74, 23.74, 23.74, 23.74, 23.74, 23.74, 23.74, 23.74, 23.74, 23.74, 23.74, 23.74, 23.74, 23.74, 23.74, 23.74, 23.74, 23.74, 23.74, 23.74, 23.74, 23.74, 23.74, 23.74, 23.74, 23.74, 23.74, 23.74, 23.74, 23.74, 23.74, 23.74]\n",
            "100\n"
          ]
        }
      ]
    },
    {
      "cell_type": "markdown",
      "metadata": {
        "id": "8yWYdI7zplaA"
      },
      "source": [
        "##Now we are ready to subtract\n",
        "\n",
        "<img src = 'https://www.dropbox.com/s/tz58t3e6yqcaaou/Screen%20Shot%202021-09-14%20at%209.51.26%20AM.png?raw=1' height=100>\n",
        "\n",
        "Let's dig a little deeper into this. I will choose values `j=2` and `k=4`. With 0 indexing, that represents the 3rd and 5th item in the original list.\n",
        "\n",
        "* `aj,k` represents the absolute difference between the 3rd and 5th item in our original list.\n",
        "\n",
        "* `aj. bar` actually could be read as `aj,k bar` where the dot is filled with `k`. It represents the mean of the difference of all points from item `k=4`. Remember all rows identical so can ignore `j`.\n",
        "\n",
        "* So for absolute diff between items 2 and 4, we are subtracting the mean of all diffs from item 4.\n",
        "\n",
        "* We next subtract the mean of all diffs from item 2. We throw `k` away because we just repeat the columns.\n",
        "\n",
        "So big picture, we first take the absolute diff between 2 items in our original list, item `j` and item `k`. But then we first subtract the mean of all the diffs from item `k`. Next we subtract the mean of all the diffs from item `j`. In essence, we are tempering the difference between the two items by how clustered points are around the first item and how clustered around second item. If the means are small (i.e., clustering happening), then the absolute difference between the items will dominate. If the means are large, then even a large absolute difference will be washed out."
      ]
    },
    {
      "cell_type": "code",
      "metadata": {
        "id": "AL-epTf4g3f_",
        "colab": {
          "base_uri": "https://localhost:8080/"
        },
        "outputId": "82888573-ec41-4488-c7d1-cbd85f408829"
      },
      "source": [
        "def matrix_matrix_subtraction(mat1: List[List[Union[int, float]]], mat2: List[List[Union[int, float]]]) -> List[List[Union[int, float]]]:\n",
        "    \"\"\"Performs element-wise subtraction between two matrices.\n",
        "\n",
        "    This function takes two matrices as input and subtracts the\n",
        "    corresponding elements of the second matrix from the first matrix.\n",
        "\n",
        "    Args:\n",
        "        mat1: The first matrix.\n",
        "        mat2: The second matrix.\n",
        "\n",
        "    Returns:\n",
        "        A new matrix containing the results of the element-wise\n",
        "        subtraction.\n",
        "\n",
        "    Raises:\n",
        "        AssertionError: If the input matrices have different dimensions\n",
        "            (number of rows or columns).\n",
        "    \"\"\"\n",
        "    assert len(mat1) == len(mat2), f\"Matrices must have the same number of rows (got {len(mat1)} and {len(mat2)})\"\n",
        "    assert len(mat1[0]) == len(mat2[0]), f\"Matrices must have the same number of columns (got {len(mat1[0])} and {len(mat2[0])})\"\n",
        "\n",
        "    #your code below - I combined a for loop with a list comprehension\n",
        "    num_cols = len(mat1[0])\n",
        "    num_rows = len(mat1)\n",
        "\n",
        "    result = [[mat1[i][j] - mat2[i][j] for j in range(num_cols)] for i in range(num_rows)]\n",
        "    return result\n",
        "\n",
        "\n",
        "A1 = matrix_matrix_subtraction(dmatrix_a, row_matrix_a)\n",
        "A2 = matrix_matrix_subtraction(A1, col_matrix_a)\n",
        "B1 = matrix_matrix_subtraction(dmatrix_b, row_matrix_b)\n",
        "B2 = matrix_matrix_subtraction(B1, col_matrix_b)\n",
        "print(A1[0])  #[-17.82, -16.74, -11.2, -16.94, 8.2, -16.32, 6.359999999999999, 10.38, 4.199999999999999, 12.76,\n",
        "print(A1[1])  #[-10.82, -23.74, -4.199999999999999, -19.94, 15.2, -23.32, 13.36, 17.380000000000003, 11.2,\n",
        "print(A2[0])  #[-35.64, -34.56, -29.02, -34.760000000000005, -9.620000000000001, -34.14, -11.46,\n",
        "print(A2[1])  #[-34.56, -47.48, -27.939999999999998, -43.68, -8.54, -47.06, -10.379999999999999,"
      ],
      "execution_count": null,
      "outputs": [
        {
          "output_type": "stream",
          "name": "stdout",
          "text": [
            "[-17.82, -16.74, -11.2, -16.94, 8.2, -16.32, 6.359999999999999, 10.38, 4.199999999999999, 12.76, -14.420000000000002, 14.399999999999999, -16.1, 10.98, 10.98, 16.26, 13.96, 13.44, -5.0, -17.6, 11.54, 8.2, -17.4, 10.38, 9.02, 13.719999999999999, -5.0, -16.1, 11.54, 6.359999999999999, -0.8000000000000007, -2.119999999999999, 4.199999999999999, -12.8, 10.38, 7.300000000000001, -17.22, -8.04, 9.02, 9.02, 15.5, 15.34, 9.02, 5.32, 13.44, -16.259999999999998, 9.72, 12.0, 4.199999999999999, -0.8000000000000007, -2.119999999999999, -2.119999999999999, 4.199999999999999, -16.36, 14.8, -6.5, -3.539999999999999, -16.94, -2.119999999999999, 6.359999999999999, 16.22, 16.06, 7.300000000000001, 9.02, 16.26, 16.06, 2.9800000000000004, 6.359999999999999, 8.2, 5.32, 4.199999999999999, 11.54, -16.66, 13.44, 5.32, -14.420000000000002, -17.22, -2.119999999999999, -17.82, 6.359999999999999, 12.4, 11.54, 12.4, 8.2, 2.9800000000000004, -3.539999999999999, 5.32, -14.420000000000002, 9.72, -17.82, -8.04, 13.719999999999999, -6.5, -0.8000000000000007, 16.06, 16.22, 11.54, 12.0, 12.0, 9.02]\n",
            "[-10.82, -23.74, -4.199999999999999, -19.94, 15.2, -23.32, 13.36, 17.380000000000003, 11.2, 19.759999999999998, -7.420000000000002, 21.4, -9.100000000000001, 17.98, 17.98, 23.26, 20.96, 20.439999999999998, 2.0, -12.600000000000001, 18.54, 15.2, -14.399999999999999, 17.380000000000003, 16.02, 20.72, 2.0, -9.100000000000001, 18.54, 13.36, 6.199999999999999, 4.880000000000001, 11.2, -5.800000000000001, 17.380000000000003, 14.3, -16.22, -1.0399999999999991, 16.02, 16.02, 22.5, 22.34, 16.02, 12.32, 20.439999999999998, -23.259999999999998, 16.72, 19.0, 11.2, 6.199999999999999, 4.880000000000001, 4.880000000000001, 11.2, -23.36, 21.8, 0.5, 3.460000000000001, -19.94, 4.880000000000001, 13.36, 23.22, 23.06, 14.3, 16.02, 23.26, 23.06, 9.98, 13.36, 15.2, 12.32, 11.2, 18.54, -23.66, 20.439999999999998, 12.32, -7.420000000000002, -16.22, 4.880000000000001, -10.82, 13.36, 19.4, 18.54, 19.4, 15.2, 9.98, 3.460000000000001, 12.32, -7.420000000000002, 16.72, -10.82, -1.0399999999999991, 20.72, 0.5, 6.199999999999999, 23.06, 23.22, 18.54, 19.0, 19.0, 16.02]\n",
            "[-35.64, -34.56, -29.02, -34.760000000000005, -9.620000000000001, -34.14, -11.46, -7.4399999999999995, -13.620000000000001, -5.0600000000000005, -32.24, -3.4200000000000017, -33.92, -6.84, -6.84, -1.5599999999999987, -3.8599999999999994, -4.380000000000001, -22.82, -35.42, -6.280000000000001, -9.620000000000001, -35.22, -7.4399999999999995, -8.8, -4.100000000000001, -22.82, -33.92, -6.280000000000001, -11.46, -18.62, -19.939999999999998, -13.620000000000001, -30.62, -7.4399999999999995, -10.52, -35.04, -25.86, -8.8, -8.8, -2.3200000000000003, -2.4800000000000004, -8.8, -12.5, -4.380000000000001, -34.08, -8.1, -5.82, -13.620000000000001, -18.62, -19.939999999999998, -19.939999999999998, -13.620000000000001, -34.18, -3.0199999999999996, -24.32, -21.36, -34.760000000000005, -19.939999999999998, -11.46, -1.6000000000000014, -1.7600000000000016, -10.52, -8.8, -1.5599999999999987, -1.7600000000000016, -14.84, -11.46, -9.620000000000001, -12.5, -13.620000000000001, -6.280000000000001, -34.480000000000004, -4.380000000000001, -12.5, -32.24, -35.04, -19.939999999999998, -35.64, -11.46, -5.42, -6.280000000000001, -5.42, -9.620000000000001, -14.84, -21.36, -12.5, -32.24, -8.1, -35.64, -25.86, -4.100000000000001, -24.32, -18.62, -1.7600000000000016, -1.6000000000000014, -6.280000000000001, -5.82, -5.82, -8.8]\n",
            "[-34.56, -47.48, -27.939999999999998, -43.68, -8.54, -47.06, -10.379999999999999, -6.359999999999996, -12.54, -3.9800000000000004, -31.16, -2.34, -32.84, -5.759999999999998, -5.759999999999998, -0.4799999999999969, -2.7799999999999976, -3.3000000000000007, -21.74, -36.34, -5.199999999999999, -8.54, -38.14, -6.359999999999996, -7.719999999999999, -3.0199999999999996, -21.74, -32.84, -5.199999999999999, -10.379999999999999, -17.54, -18.86, -12.54, -29.54, -6.359999999999996, -9.439999999999998, -39.959999999999994, -24.779999999999998, -7.719999999999999, -7.719999999999999, -1.2399999999999984, -1.3999999999999986, -7.719999999999999, -11.419999999999998, -3.3000000000000007, -47.0, -7.02, -4.739999999999998, -12.54, -17.54, -18.86, -18.86, -12.54, -47.099999999999994, -1.9399999999999977, -23.24, -20.279999999999998, -43.68, -18.86, -10.379999999999999, -0.5199999999999996, -0.6799999999999997, -9.439999999999998, -7.719999999999999, -0.4799999999999969, -0.6799999999999997, -13.759999999999998, -10.379999999999999, -8.54, -11.419999999999998, -12.54, -5.199999999999999, -47.4, -3.3000000000000007, -11.419999999999998, -31.16, -39.959999999999994, -18.86, -34.56, -10.379999999999999, -4.34, -5.199999999999999, -4.34, -8.54, -13.759999999999998, -20.279999999999998, -11.419999999999998, -31.16, -7.02, -34.56, -24.779999999999998, -3.0199999999999996, -23.24, -17.54, -0.6799999999999997, -0.5199999999999996, -5.199999999999999, -4.739999999999998, -4.739999999999998, -7.719999999999999]\n"
          ]
        }
      ]
    },
    {
      "cell_type": "markdown",
      "metadata": {
        "id": "X2KZ0g10p42L"
      },
      "source": [
        "##Next step is to compute the grand mean\n",
        "\n",
        "This is the `+ a.. bar` step. Because I know we will need it later (I cheated and looked ahead), I am going to ask you to write a function to compute the sum of a matrix. Then can take result and divide to get grand mean."
      ]
    },
    {
      "cell_type": "code",
      "metadata": {
        "id": "U2gBlzf2kimX",
        "colab": {
          "base_uri": "https://localhost:8080/"
        },
        "outputId": "2aaad675-5e20-4fa7-e076-499513e96de9"
      },
      "source": [
        "#numpy: mat.flatten().sum()\n",
        "\n",
        "def matrix_summation(mat: List[List[Union[int, float]]]) -> Union[int, float]:\n",
        "  \"\"\"Calculates the sum of all elements in a matrix.\n",
        "\n",
        "  This function takes a matrix (represented as a list of lists)\n",
        "  and computes the sum of all its elements.\n",
        "\n",
        "  Args:\n",
        "    mat: The matrix to calculate the sum of.\n",
        "\n",
        "  Returns:\n",
        "    The sum of all elements in the matrix.\n",
        "\n",
        "  Raises:\n",
        "    AssertionError: If `mat` is not a list, or if it contains\n",
        "    elements that are not lists or numbers.\n",
        "  \"\"\"\n",
        "  assert isinstance(mat, list), f'expecting mat to be list but is instead {type(mat)}'\n",
        "  assert len(mat) > 0, f'expecting mat to be non-empty'  # Added for robustness\n",
        "  assert all([isinstance(row, list) for row in mat]), f'expecting mat to be list of lists but is instead list of {type(mat[0]) if len(mat) > 0 else \"empty list\"}'\n",
        "  assert all([isinstance(v, (int, float)) for row in mat for v in row]), f'expecting mat to be list of lists of numbers but is instead list of lists of {type(mat[0][0]) if len(mat) > 0 and len(mat[0]) > 0 else \"empty list\"}'\n",
        "\n",
        "  #your code below - I did not need a for loop\n",
        "  # sum all elements for row col\n",
        "  result = sum(v for row in mat for v in row)\n",
        "  return result\n",
        "\n",
        "\n",
        "grand_a = matrix_summation(dmatrix_a)/len(dmatrix_a)**2  #divide by 100*100 or 100**2\n",
        "grand_b = matrix_summation(dmatrix_b)/len(dmatrix_b)**2\n",
        "print(grand_a, grand_b)  #15.3948 46.920852000000004"
      ],
      "execution_count": null,
      "outputs": [
        {
          "output_type": "stream",
          "name": "stdout",
          "text": [
            "15.3948 46.92085200000002\n"
          ]
        }
      ]
    },
    {
      "cell_type": "markdown",
      "metadata": {
        "id": "XeoFhxi7idJm"
      },
      "source": [
        "##Getting close\n",
        "\n",
        "We have to add the grand mean, a scalar, into a 100 by 100 matrix. We simply add the scalar to each element. Pretty easy."
      ]
    },
    {
      "cell_type": "code",
      "metadata": {
        "id": "luvIh9ecjGC0",
        "colab": {
          "base_uri": "https://localhost:8080/"
        },
        "outputId": "ac218f11-819a-4f0c-8a23-b12d4a3bd9b4"
      },
      "source": [
        "#numpy: mat+scalar\n",
        "\n",
        "def matrix_scalar_addition(mat: List[List[Union[int, float]]], scalar: Union[int, float]) -> List[List[Union[int, float]]]:\n",
        "  \"\"\"Adds a scalar value to each element of a matrix.\n",
        "\n",
        "  This function takes a matrix (represented as a list of lists) and a scalar value.\n",
        "  It adds the scalar to each element of the matrix and returns a new matrix\n",
        "  containing the results.\n",
        "\n",
        "  Args:\n",
        "    mat: The matrix to add the scalar to.\n",
        "    scalar: The scalar value to add.\n",
        "\n",
        "  Returns:\n",
        "    A new matrix with the scalar added to each element.\n",
        "\n",
        "  Raises:\n",
        "    AssertionError: If `mat` is not a list, if it is empty,\n",
        "      or if it does not contain lists of equal length,\n",
        "      or if it contains elements that are not numbers.\n",
        "    AssertionError: If `scalar` is not a number.\n",
        "  \"\"\"\n",
        "  assert isinstance(mat, list), f'expecting mat to be list but is instead {type(mat)}'\n",
        "  assert len(mat) > 0, f'expecting mat to be non-empty'\n",
        "  assert all([len(row) == len(mat[0]) for row in mat]), f'expecting mat to be list of lists of equal length'\n",
        "  assert all([isinstance(v, (int, float)) for row in mat for v in row]), f'expecting mat to be list of lists of numbers but is instead list of lists of {type(mat[0][0]) if len(mat) > 0 and len(mat[0]) > 0 else \"empty list\"}'\n",
        "  assert isinstance(scalar, (int, float)), f'expecting scalar to be a number but is instead {type(scalar)}'\n",
        "\n",
        "  #your code below - I used a for loop and list comprehension combo\n",
        "  num_rows = len(mat)\n",
        "  num_cols = len(mat[0])\n",
        "\n",
        "  result = [[mat[i][j] + scalar for j in range(num_cols)] for i in range(num_rows)]\n",
        "  return result\n",
        "\n",
        "\n",
        "A3 = matrix_scalar_addition(A2, grand_a)\n",
        "B3 = matrix_scalar_addition(B2, grand_b)\n",
        "print(A3[0])  #[-20.2452, -19.165200000000002, -13.6252, -19.365200000000005, 5.774799999999999, -18.7452,\n",
        "print(B3[0])  #[-19.48994799999999, 19.980852000000006, 19.980852000000006, 27.340852000000005, -19.48994799999999,"
      ],
      "execution_count": null,
      "outputs": [
        {
          "output_type": "stream",
          "name": "stdout",
          "text": [
            "[-20.2452, -19.165200000000002, -13.6252, -19.365200000000005, 5.774799999999999, -18.7452, 3.934799999999999, 7.9548000000000005, 1.774799999999999, 10.3348, -16.845200000000002, 11.974799999999998, -18.5252, 8.5548, 8.5548, 13.834800000000001, 11.5348, 11.0148, -7.4252, -20.0252, 9.114799999999999, 5.774799999999999, -19.8252, 7.9548000000000005, 6.594799999999999, 11.294799999999999, -7.4252, -18.5252, 9.114799999999999, 3.934799999999999, -3.225200000000001, -4.545199999999998, 1.774799999999999, -15.225200000000001, 7.9548000000000005, 4.8748000000000005, -19.6452, -10.4652, 6.594799999999999, 6.594799999999999, 13.0748, 12.9148, 6.594799999999999, 2.8948, 11.0148, -18.6852, 7.2948, 9.5748, 1.774799999999999, -3.225200000000001, -4.545199999999998, -4.545199999999998, 1.774799999999999, -18.7852, 12.3748, -8.9252, -5.965199999999999, -19.365200000000005, -4.545199999999998, 3.934799999999999, 13.794799999999999, 13.634799999999998, 4.8748000000000005, 6.594799999999999, 13.834800000000001, 13.634799999999998, 0.5548000000000002, 3.934799999999999, 5.774799999999999, 2.8948, 1.774799999999999, 9.114799999999999, -19.085200000000004, 11.0148, 2.8948, -16.845200000000002, -19.6452, -4.545199999999998, -20.2452, 3.934799999999999, 9.9748, 9.114799999999999, 9.9748, 5.774799999999999, 0.5548000000000002, -5.965199999999999, 2.8948, -16.845200000000002, 7.2948, -20.2452, -10.4652, 11.294799999999999, -8.9252, -3.225200000000001, 13.634799999999998, 13.794799999999999, 9.114799999999999, 9.5748, 9.5748, 6.594799999999999]\n",
            "[-19.489947999999977, 19.98085200000002, 19.98085200000002, 27.34085200000002, -19.489947999999977, 27.820852000000023, -9.82994799999998, -19.489947999999977, 9.000852000000023, -8.609947999999982, -9.82994799999998, -7.449947999999978, 6.360852000000023, -19.489947999999977, 24.70085200000002, -8.609947999999982, -8.609947999999982, 27.600852000000025, 27.600852000000025, 18.780852000000017, -19.489947999999977, -19.489947999999977, 18.780852000000017, -9.82994799999998, -19.489947999999977, 33.22085200000003, 33.22085200000003, -19.489947999999977, -19.489947999999977, -19.489947999999977, -19.489947999999977, 27.820852000000023, -0.4499479999999778, -19.489947999999977, -19.489947999999977, -19.489947999999977, -6.349947999999976, -19.489947999999977, -4.229947999999979, -6.349947999999976, -1.2899479999999741, -1.2899479999999741, -1.2899479999999741, 8.040852000000022, -7.449947999999978, -7.449947999999978, 2.4528520000000213, -9.82994799999998, -19.489947999999977, 3.6208520000000206, 46.92085200000002, -19.489947999999977, 3.6208520000000206, 26.500852000000023, -1.2899479999999741, -1.2899479999999741, -3.18994799999998, -19.489947999999977, 6.98085200000002, -19.489947999999977, 5.0808520000000215, 5.0808520000000215, 5.0808520000000215, -9.82994799999998, 7.540852000000022, 7.540852000000022, 7.540852000000022, -19.489947999999977, -19.489947999999977, -3.18994799999998, -19.489947999999977, -19.489947999999977, 36.70085200000003, -19.489947999999977, 39.02085200000004, 39.02085200000004, 40.900852000000036, -19.489947999999977, -9.82994799999998, 6.98085200000002, 6.98085200000002, -3.18994799999998, 22.140852000000017, -19.489947999999977, 36.58085200000003, -19.489947999999977, -19.489947999999977, 11.30085200000002, -3.18994799999998, -19.489947999999977, -19.489947999999977, -2.229947999999979, -19.489947999999977, 36.70085200000003, 4.380852000000019, 4.380852000000019, 4.380852000000019, -9.82994799999998, 22.140852000000017, -9.82994799999998]\n"
          ]
        }
      ]
    },
    {
      "cell_type": "markdown",
      "metadata": {
        "id": "rJjq7XkzjJ0b"
      },
      "source": [
        "##Step 4.3 Distance Co-variance\n",
        "\n",
        "So what we have now is our original distance matrices tempered by means. We did this for both Age and Fare. Now we can ask if these 2 matrices are similar, i.e., correlated. We will use an idea called co-variance that can be used to check correlation between two matrices.\n",
        "\n",
        "As reminder, the plain variance of a list of values is:\n",
        "\n",
        "<img src = 'https://www.dropbox.com/s/xm3mw6lb11qyv9n/Screen%20Shot%202021-09-14%20at%2011.14.09%20AM.png?raw=1' height=100>\n",
        "\n",
        "where X are the items in the list and mu is the mean of the list. Take the square root and you get the standard deviation.\n",
        "\n",
        "Co-variance between two list of values is:\n",
        "\n",
        "<img src='https://www.dropbox.com/s/m2g42kbzd8nx3lt/Screen%20Shot%202021-09-14%20at%2011.16.25%20AM.png?raw=1' height=70>\n",
        "\n",
        "We need the covariance not of 2 lists but of 2 distance matrices. That formula is below where  `Aj,k` and `Bj,k` stand in for matrices `A3` and `B3` above.\n",
        "\n",
        "<img src='https://www.dropbox.com/s/c874n3r5fw9ycng/Screen%20Shot%202021-08-27%20at%2010.00.33%20AM.png?raw=1' height=100>\n",
        "\n",
        "Not totally clear, but the double summation is summing a matrix multiplication (different than dot product) .\n",
        "\n",
        "We already have a function to give us the sum of 2 matrices. So what we need is a function that does matrix multiplication, different than dot product.\n",
        "\n",
        "<img src='https://www.dropbox.com/s/y0avojo7kejm4uw/Screen%20Shot%202021-08-26%20at%202.27.59%20PM.png?raw=1' height=150>"
      ]
    },
    {
      "cell_type": "code",
      "metadata": {
        "id": "JSOxeLM3kgmP",
        "colab": {
          "base_uri": "https://localhost:8080/"
        },
        "outputId": "760f945f-e08b-4618-b0c3-c88690c3f172"
      },
      "source": [
        "#numpy: mat1*mat2\n",
        "\n",
        "def matrix_multiplication(mat1: List[List[Union[int, float]]], mat2: List[List[Union[int, float]]]) -> List[List[Union[int, float]]]:\n",
        "  \"\"\"Performs element-wise multiplication between two matrices.\n",
        "\n",
        "  This function takes two matrices as input and multiplies the corresponding\n",
        "  elements of the matrices. It assumes that the matrices have the same dimensions.\n",
        "\n",
        "  Args:\n",
        "    mat1: The first matrix.\n",
        "    mat2: The second matrix.\n",
        "\n",
        "  Returns:\n",
        "    A new matrix containing the results of the element-wise multiplication.\n",
        "\n",
        "  Raises:\n",
        "    AssertionError: If the input matrices have different dimensions\n",
        "    (number of rows or columns), or if the input is not list of lists of ints or floats.\n",
        "  \"\"\"\n",
        "  # Assertions to check input validity\n",
        "  assert isinstance(mat1, list) and isinstance(mat2, list), \"Input must be lists\"\n",
        "  assert len(mat1) == len(mat2), f\"Matrices must have the same number of rows (got {len(mat1)} and {len(mat2)})\"\n",
        "  assert len(mat1[0]) == len(mat2[0]), f\"Matrices must have the same number of columns (got {len(mat1[0])} and {len(mat2[0])})\"\n",
        "  assert all([isinstance(v, (int, float)) for row in mat1 for v in row]), f'expecting mat1 to be list of lists of numbers but is instead list of lists of {type(mat1[0][0]) if len(mat1) > 0 and len(mat1[0]) > 0 else \"empty list\"}'\n",
        "  assert all([isinstance(v, (int, float)) for row in mat2 for v in row]), f'expecting mat2 to be list of lists of numbers but is instead list of lists of {type(mat2[0][0]) if len(mat2) > 0 and len(mat2[0]) > 0 else \"empty list\"}'\n",
        "\n",
        "  #your code below - I used for loop and list comprehension combo although could also use a nested list-comprehension\n",
        "  num_rows = len(mat1)\n",
        "  num_cols = len(mat1[0])\n",
        "\n",
        "  # mat1[i][j] * mat2[i][j]\n",
        "  # for i in range(num_rows):\n",
        "  #   for j in range(num_cols):\n",
        "  #     mat1[i][j] *= mat2[i][j]\n",
        "  result = [[mat1[i][j] * mat2[i][j] for j in range(num_cols)] for i in range(num_rows)]\n",
        "  return result\n",
        "\n",
        "#I am doing multiplication followed by addition then division in one line.\n",
        "dcov2_x_y = matrix_summation(matrix_multiplication(A3, B3))/(nrows*ncols)\n",
        "print(dcov2_x_y)  #23.020073329600006"
      ],
      "execution_count": null,
      "outputs": [
        {
          "output_type": "stream",
          "name": "stdout",
          "text": [
            "23.020073329600006\n"
          ]
        }
      ]
    },
    {
      "cell_type": "markdown",
      "metadata": {
        "id": "IX3bljlLsl2i"
      },
      "source": [
        "##Step 4.4 The denominator\n",
        "\n",
        "We now need to turn to the denominator. It asks for the variance of each matrix separately. We need something for this:\n",
        "\n",
        "<img src='https://www.dropbox.com/s/ikq5y3mazi048ob/Screen%20Shot%202021-08-27%20at%2010.39.35%20AM.png?raw=1' height=50>\n",
        "\n",
        "If we look carefuly, this is just like `dcov2_x_y` but now `dcov2_x_x` and `dcov2_y_y`. So we do not need a new function. We can reuse what we had for `dcov2_x_y` with some minor changes."
      ]
    },
    {
      "cell_type": "code",
      "metadata": {
        "id": "eXdEqSSvtJbT",
        "colab": {
          "base_uri": "https://localhost:8080/"
        },
        "outputId": "c1480f18-87b0-42d4-f775-1fa1e7828166"
      },
      "source": [
        "dvar2_x = matrix_summation(matrix_multiplication(A3, A3))/(nrows*ncols)\n",
        "dvar2_y = matrix_summation(matrix_multiplication(B3, B3))/(nrows*ncols)\n",
        "print(dvar2_x, dvar2_y)  #74.35493904000002 731.9244968539043"
      ],
      "execution_count": null,
      "outputs": [
        {
          "output_type": "stream",
          "name": "stdout",
          "text": [
            "74.35493903999972 731.9244968538962\n"
          ]
        }
      ]
    },
    {
      "cell_type": "markdown",
      "metadata": {
        "id": "OZfqzIfXuMC4"
      },
      "source": [
        "##Step 4.5 Put it together in a function\n",
        "\n",
        "Reminder: here is the function we are trying to compute.\n",
        "\n",
        "<img src='https://www.dropbox.com/s/ywqbbd6qn8jchwu/Screen%20Shot%202021-08-27%20at%2010.44.29%20AM.png?raw=1' height=100>\n",
        "\n",
        "We have squared values in `dcov2_x_y`, `dvar2_x` and `dvar2_y`. So let's get the versions we need."
      ]
    },
    {
      "cell_type": "code",
      "metadata": {
        "id": "T8PzIfJZu1h6",
        "colab": {
          "base_uri": "https://localhost:8080/"
        },
        "outputId": "2beb45e3-7624-42a0-8c00-febeb77e41f2"
      },
      "source": [
        "dcov_x_y = dcov2_x_y**.5\n",
        "dvar_x = dvar2_x**.5\n",
        "dvar_y = dvar2_y**.5\n",
        "print(dcov_x_y, dvar_x, dvar_y)  #4.797923856169459 8.622931000535724 27.05410314266404"
      ],
      "execution_count": null,
      "outputs": [
        {
          "output_type": "stream",
          "name": "stdout",
          "text": [
            "4.797923856169459 8.622931000535706 27.05410314266389\n"
          ]
        }
      ]
    },
    {
      "cell_type": "markdown",
      "metadata": {
        "id": "b0Xvv92GvUHv"
      },
      "source": [
        "##On home stretch!\n",
        "\n"
      ]
    },
    {
      "cell_type": "code",
      "metadata": {
        "id": "JmpOrxhnvwLN",
        "colab": {
          "base_uri": "https://localhost:8080/"
        },
        "outputId": "70492f4e-6d25-455f-e78b-6b1ebabf1d34"
      },
      "source": [
        "dcor_x_y = dcov_x_y/(dvar_x*dvar_y)**.5\n",
        "dcor_x_y  #0.3141299355269013"
      ],
      "execution_count": null,
      "outputs": [
        {
          "output_type": "execute_result",
          "data": {
            "text/plain": [
              "0.31412993552690255"
            ]
          },
          "metadata": {},
          "execution_count": 347
        }
      ]
    },
    {
      "cell_type": "markdown",
      "metadata": {
        "id": "1IZ3BmG420Zw"
      },
      "source": [
        "##Now it's just copying and pasting into function"
      ]
    },
    {
      "cell_type": "code",
      "metadata": {
        "id": "s8-zrR1av3Im"
      },
      "source": [
        "def distance_correlation(a: List[Union[int, float]], b: List[Union[int, float]]) -> float:\n",
        "  \"\"\"Calculates the distance correlation between two lists of numbers.\n",
        "\n",
        "  This function implements the distance correlation algorithm to measure\n",
        "  the dependence between two variables represented as lists of numbers.\n",
        "  It uses a series of matrix operations to compute the distance correlation\n",
        "  coefficient.\n",
        "\n",
        "  Args:\n",
        "    a: The first list of numbers.\n",
        "    b: The second list of numbers.\n",
        "\n",
        "  Returns:\n",
        "    The distance correlation coefficient between the two input lists.\n",
        "\n",
        "  Raises:\n",
        "    AssertionError: If the input lists have different lengths, or if the input is not list of lists of ints or floats.\n",
        "  \"\"\"\n",
        "\n",
        "  # Assertions to check input validity\n",
        "  assert isinstance(a, list) and isinstance(b, list), \"Input must be lists\"\n",
        "  assert len(a) == len(b), f\"Input lists must have the same length (got {len(a)} and {len(b)})\"\n",
        "  assert all([isinstance(v, (int, float)) for v in a]), f'expecting a to be list of numbers but is instead list of {type(a[0]) if len(a) > 0 else \"empty list\"}'\n",
        "  assert all([isinstance(v, (int, float)) for v in b]), f'expecting b to be list of numbers but is instead list of {type(b[0]) if len(b) > 0 else \"empty list\"}'\n",
        "\n",
        "  #your code here\n",
        "  n = len(a)\n",
        "\n",
        "  # find distance matrices\n",
        "  x = compute_distance_matrix(a)\n",
        "  y = compute_distance_matrix(b)\n",
        "\n",
        "  # center distance matrix x\n",
        "  row_x = row_mean(x)\n",
        "  col_x = column_mean(x)\n",
        "  grand_x = matrix_summation(x) / (n * n)\n",
        "  row_matrix_x = broadcast_row(row_x, n)\n",
        "  col_matrix_x = broadcast_column(col_x, n)\n",
        "  x_centered = matrix_matrix_subtraction(matrix_matrix_subtraction(x, row_matrix_x), col_matrix_x)\n",
        "  x_centered = matrix_scalar_addition(x_centered, grand_x)\n",
        "\n",
        "  # center distance matrix y\n",
        "  row_y = row_mean(y)\n",
        "  col_y = column_mean(y)\n",
        "  grand_y = matrix_summation(y) / (n * n)\n",
        "  row_matrix_y = broadcast_row(row_y, n)\n",
        "  col_matrix_y = broadcast_column(col_y, n)\n",
        "  y_centered = matrix_matrix_subtraction(matrix_matrix_subtraction(y, row_matrix_y), col_matrix_y)\n",
        "  y_centered = matrix_scalar_addition(y_centered, grand_y)\n",
        "\n",
        "  # compute distance covariance terms\n",
        "  dcov2_xy = matrix_summation(matrix_multiplication(x_centered, y_centered)) / (n * n)\n",
        "  dcov2_xx = matrix_summation(matrix_multiplication(x_centered, x_centered)) / (n * n)\n",
        "  dcov2_yy = matrix_summation(matrix_multiplication(y_centered, y_centered)) / (n * n)\n",
        "\n",
        "  # compute distance correlation\n",
        "  if dcov2_xx == 0 or dcov2_yy == 0:\n",
        "    return 0.0\n",
        "\n",
        "  return (dcov2_xy / (dcov2_xx ** 0.5 * dcov2_yy ** 0.5)) ** 0.5\n",
        "\n"
      ],
      "execution_count": null,
      "outputs": []
    },
    {
      "cell_type": "code",
      "metadata": {
        "id": "XMUitKr4Up4B",
        "colab": {
          "base_uri": "https://localhost:8080/"
        },
        "outputId": "aad71448-7e9b-4c22-f1ee-7b02016b0fc4"
      },
      "source": [
        "#test your function against oracle\n",
        "(distance_correlation(a,b), dc.distance_correlation(np.array(a),np.array(b)))"
      ],
      "execution_count": null,
      "outputs": [
        {
          "output_type": "execute_result",
          "data": {
            "text/plain": [
              "(0.3141299355269025, np.float64(0.31412993552690116))"
            ]
          },
          "metadata": {},
          "execution_count": 349
        }
      ]
    },
    {
      "cell_type": "markdown",
      "metadata": {
        "id": "k-l-ZxDSa_ZR"
      },
      "source": [
        "Another small test case."
      ]
    },
    {
      "cell_type": "code",
      "metadata": {
        "id": "vjBFaAsJbEQw",
        "colab": {
          "base_uri": "https://localhost:8080/"
        },
        "outputId": "7c797f9d-9f27-4a7e-a00f-867563667b25"
      },
      "source": [
        "distance_correlation([1,2,3,4],[5,6,7,8])  #1.0"
      ],
      "execution_count": null,
      "outputs": [
        {
          "output_type": "execute_result",
          "data": {
            "text/plain": [
              "1.0"
            ]
          },
          "metadata": {},
          "execution_count": 350
        }
      ]
    },
    {
      "cell_type": "markdown",
      "metadata": {
        "id": "CpS2NsN629Jt"
      },
      "source": [
        "##Whew - good job\n",
        "\n",
        "I think it is useful to do pure Python implementations of stats and linear algebra algorithms. Forces you to better understand what is going on."
      ]
    }
  ]
}